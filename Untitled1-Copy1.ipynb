{
 "cells": [
  {
   "cell_type": "code",
   "execution_count": 6,
   "id": "8a438bd8",
   "metadata": {},
   "outputs": [],
   "source": [
    "import matplotlib.pyplot as plt\n",
    "import pandas as pd\n",
    "import numpy as np\n",
    "import requests\n",
    "import time\n",
    "import csv\n",
    "from pprint import pprint"
   ]
  },
  {
   "cell_type": "code",
   "execution_count": 7,
   "id": "240c35a3",
   "metadata": {},
   "outputs": [],
   "source": [
    "file_path = (r\"C:\\Users\\jasmi\\Downloads\\Austin_Animal_Center_Outcomes.csv\")"
   ]
  },
  {
   "cell_type": "code",
   "execution_count": 14,
   "id": "ba7c8694",
   "metadata": {},
   "outputs": [
    {
     "name": "stdout",
     "output_type": "stream",
     "text": [
      "       Animal ID        Name                DateTime MonthYear Date of Birth  \\\n",
      "0        A794011       Chunk  05/08/2019 06:20:00 PM  May 2019    05/02/2017   \n",
      "1        A776359       Gizmo  07/18/2018 04:02:00 PM  Jul 2018    07/12/2017   \n",
      "2        A821648         NaN  08/16/2020 11:38:00 AM  Aug 2020    08/16/2019   \n",
      "3        A720371       Moose  02/13/2016 05:59:00 PM  Feb 2016    10/08/2015   \n",
      "4        A674754         NaN  03/18/2014 11:47:00 AM  Mar 2014    03/12/2014   \n",
      "...          ...         ...                     ...       ...           ...   \n",
      "153566   A859974  *Lady Gaga  08/16/2022 11:42:00 AM  Aug 2022    06/21/2012   \n",
      "153567   A856973      *Suede  06/11/2022 03:39:00 PM  Jun 2022    05/10/2021   \n",
      "153568   A852036       Queen  03/17/2022 05:22:00 PM  Mar 2022    12/08/2021   \n",
      "153569   A852775     A852775  05/18/2022 02:13:00 PM  May 2022    01/31/2022   \n",
      "153570   A854626     A854626  05/03/2022 04:10:00 PM  May 2022    02/27/2022   \n",
      "\n",
      "       Outcome Type Outcome Subtype Animal Type Sex upon Outcome  \\\n",
      "0         Rto-Adopt             NaN         Cat    Neutered Male   \n",
      "1          Adoption             NaN         Dog    Neutered Male   \n",
      "2        Euthanasia             NaN       Other          Unknown   \n",
      "3          Adoption             NaN         Dog    Neutered Male   \n",
      "4          Transfer         Partner         Cat      Intact Male   \n",
      "...             ...             ...         ...              ...   \n",
      "153566     Adoption             NaN         Cat    Spayed Female   \n",
      "153567     Adoption             NaN         Cat    Spayed Female   \n",
      "153568     Adoption             NaN         Dog    Spayed Female   \n",
      "153569     Adoption          Foster         Cat    Spayed Female   \n",
      "153570     Adoption          Foster         Cat    Neutered Male   \n",
      "\n",
      "       Age upon Outcome                               Breed              Color  \n",
      "0               2 years              Domestic Shorthair Mix  Brown Tabby/White  \n",
      "1                1 year             Chihuahua Shorthair Mix        White/Brown  \n",
      "2                1 year                             Raccoon               Gray  \n",
      "3              4 months  Anatol Shepherd/Labrador Retriever               Buff  \n",
      "4                6 days              Domestic Shorthair Mix       Orange Tabby  \n",
      "...                 ...                                 ...                ...  \n",
      "153566         10 years                           Devon Rex              White  \n",
      "153567           1 year                Domestic Medium Hair               Blue  \n",
      "153568         3 months                 German Shepherd Mix        Brown/Black  \n",
      "153569         3 months            Domestic Medium Hair Mix             Tortie  \n",
      "153570         2 months              Domestic Shorthair Mix       Orange Tabby  \n",
      "\n",
      "[153571 rows x 12 columns]\n"
     ]
    }
   ],
   "source": [
    "df = pd.read_csv(r\"C:\\Users\\jasmi\\Downloads\\Austin_Animal_Center_Outcomes.csv\")\n",
    "print(df)"
   ]
  },
  {
   "cell_type": "code",
   "execution_count": 13,
   "id": "bbffe5cb",
   "metadata": {},
   "outputs": [
    {
     "name": "stdout",
     "output_type": "stream",
     "text": [
      "       Animal ID        Name                DateTime MonthYear Date of Birth  \\\n",
      "0        A794011       Chunk  05/08/2019 06:20:00 PM  May 2019    05/02/2017   \n",
      "4        A674754         NaN  03/18/2014 11:47:00 AM  Mar 2014    03/12/2014   \n",
      "7        A881795         NaN  06/13/2023 07:13:00 AM  Jun 2023    05/26/2021   \n",
      "8        A689724  *Donatello  10/18/2014 06:52:00 PM  Oct 2014    08/01/2014   \n",
      "9        A680969       *Zeus  08/05/2014 04:59:00 PM  Aug 2014    06/03/2014   \n",
      "...          ...         ...                     ...       ...           ...   \n",
      "153564   A860822    *Grayson  11/03/2022 09:29:00 AM  Nov 2022    07/04/2020   \n",
      "153566   A859974  *Lady Gaga  08/16/2022 11:42:00 AM  Aug 2022    06/21/2012   \n",
      "153567   A856973      *Suede  06/11/2022 03:39:00 PM  Jun 2022    05/10/2021   \n",
      "153569   A852775     A852775  05/18/2022 02:13:00 PM  May 2022    01/31/2022   \n",
      "153570   A854626     A854626  05/03/2022 04:10:00 PM  May 2022    02/27/2022   \n",
      "\n",
      "       Outcome Type Outcome Subtype Animal Type Sex upon Outcome  \\\n",
      "0         Rto-Adopt             NaN         Cat    Neutered Male   \n",
      "4          Transfer         Partner         Cat      Intact Male   \n",
      "7          Transfer             Snr         Cat          Unknown   \n",
      "8          Adoption             NaN         Cat    Neutered Male   \n",
      "9          Adoption             NaN         Cat    Neutered Male   \n",
      "...             ...             ...         ...              ...   \n",
      "153564     Adoption          Foster         Cat    Neutered Male   \n",
      "153566     Adoption             NaN         Cat    Spayed Female   \n",
      "153567     Adoption             NaN         Cat    Spayed Female   \n",
      "153569     Adoption          Foster         Cat    Spayed Female   \n",
      "153570     Adoption          Foster         Cat    Neutered Male   \n",
      "\n",
      "       Age upon Outcome                     Breed               Color  \n",
      "0               2 years    Domestic Shorthair Mix   Brown Tabby/White  \n",
      "4                6 days    Domestic Shorthair Mix        Orange Tabby  \n",
      "7               2 years        Domestic Shorthair         Brown Tabby  \n",
      "8              2 months    Domestic Shorthair Mix               Black  \n",
      "9              2 months    Domestic Shorthair Mix  White/Orange Tabby  \n",
      "...                 ...                       ...                 ...  \n",
      "153564          2 years                   Siamese          Lynx Point  \n",
      "153566         10 years                 Devon Rex               White  \n",
      "153567           1 year      Domestic Medium Hair                Blue  \n",
      "153569         3 months  Domestic Medium Hair Mix              Tortie  \n",
      "153570         2 months    Domestic Shorthair Mix        Orange Tabby  \n",
      "\n",
      "[59168 rows x 12 columns]\n"
     ]
    }
   ],
   "source": [
    "cat_df = df[df['Animal Type'] == 'Cat']\n",
    "print(cat_df)"
   ]
  },
  {
   "cell_type": "code",
   "execution_count": 57,
   "id": "302e8542",
   "metadata": {},
   "outputs": [
    {
     "name": "stdout",
     "output_type": "stream",
     "text": [
      "0         Rto-Adopt\n",
      "4          Transfer\n",
      "7          Transfer\n",
      "8          Adoption\n",
      "9          Adoption\n",
      "            ...    \n",
      "153564     Adoption\n",
      "153566     Adoption\n",
      "153567     Adoption\n",
      "153569     Adoption\n",
      "153570     Adoption\n",
      "Name: Outcome Type, Length: 59168, dtype: object\n"
     ]
    }
   ],
   "source": [
    "print(cat_df['Outcome Type'])"
   ]
  },
  {
   "cell_type": "code",
   "execution_count": 67,
   "id": "a2f99f1b",
   "metadata": {},
   "outputs": [
    {
     "data": {
      "image/png": "[encoded data removed]",
      "text/plain": [
       "<Figure size 640x480 with 1 Axes>"
      ]
     },
     "metadata": {},
     "output_type": "display_data"
    }
   ],
   "source": [
    "desired_outcomes = ['Adoption', 'Rto-Adopt', 'Transfer']\n",
    "\n",
    "# Filter the DataFrame to include only rows where 'Outcome Type' is in the desired outcome types\n",
    "filtered_df = cat_df[cat_df['Outcome Type'].isin(desired_outcomes)]\n",
    "\n",
    "# Get the counts for each outcome type in the filtered DataFrame\n",
    "outcome_counts = filtered_df['Outcome Type'].value_counts()\n",
    "\n",
    "# Create a bar chart\n",
    "plt.bar(outcome_counts.index, outcome_counts.values)\n",
    "\n",
    "# Add labels and title\n",
    "plt.xlabel('Outcome Types')\n",
    "plt.ylabel('Counts')\n",
    "plt.title('Cats')\n",
    "\n",
    "# Show the plot\n",
    "plt.tight_layout()\n",
    "plt.show()\n"
   ]
  },
  {
   "cell_type": "code",
   "execution_count": 61,
   "id": "e6056e1b",
   "metadata": {},
   "outputs": [
    {
     "name": "stdout",
     "output_type": "stream",
     "text": [
      "       Animal ID        Name                DateTime MonthYear Date of Birth  \\\n",
      "0        A794011       Chunk  05/08/2019 06:20:00 PM  May 2019    05/02/2017   \n",
      "1        A776359       Gizmo  07/18/2018 04:02:00 PM  Jul 2018    07/12/2017   \n",
      "2        A821648         NaN  08/16/2020 11:38:00 AM  Aug 2020    08/16/2019   \n",
      "3        A720371       Moose  02/13/2016 05:59:00 PM  Feb 2016    10/08/2015   \n",
      "4        A674754         NaN  03/18/2014 11:47:00 AM  Mar 2014    03/12/2014   \n",
      "...          ...         ...                     ...       ...           ...   \n",
      "153566   A859974  *Lady Gaga  08/16/2022 11:42:00 AM  Aug 2022    06/21/2012   \n",
      "153567   A856973      *Suede  06/11/2022 03:39:00 PM  Jun 2022    05/10/2021   \n",
      "153568   A852036       Queen  03/17/2022 05:22:00 PM  Mar 2022    12/08/2021   \n",
      "153569   A852775     A852775  05/18/2022 02:13:00 PM  May 2022    01/31/2022   \n",
      "153570   A854626     A854626  05/03/2022 04:10:00 PM  May 2022    02/27/2022   \n",
      "\n",
      "       Outcome Type Outcome Subtype Animal Type Sex upon Outcome  \\\n",
      "0         Rto-Adopt             NaN         Cat    Neutered Male   \n",
      "1          Adoption             NaN         Dog    Neutered Male   \n",
      "2        Euthanasia             NaN       Other          Unknown   \n",
      "3          Adoption             NaN         Dog    Neutered Male   \n",
      "4          Transfer         Partner         Cat      Intact Male   \n",
      "...             ...             ...         ...              ...   \n",
      "153566     Adoption             NaN         Cat    Spayed Female   \n",
      "153567     Adoption             NaN         Cat    Spayed Female   \n",
      "153568     Adoption             NaN         Dog    Spayed Female   \n",
      "153569     Adoption          Foster         Cat    Spayed Female   \n",
      "153570     Adoption          Foster         Cat    Neutered Male   \n",
      "\n",
      "       Age upon Outcome                               Breed              Color  \n",
      "0               2 years              Domestic Shorthair Mix  Brown Tabby/White  \n",
      "1                1 year             Chihuahua Shorthair Mix        White/Brown  \n",
      "2                1 year                             Raccoon               Gray  \n",
      "3              4 months  Anatol Shepherd/Labrador Retriever               Buff  \n",
      "4                6 days              Domestic Shorthair Mix       Orange Tabby  \n",
      "...                 ...                                 ...                ...  \n",
      "153566         10 years                           Devon Rex              White  \n",
      "153567           1 year                Domestic Medium Hair               Blue  \n",
      "153568         3 months                 German Shepherd Mix        Brown/Black  \n",
      "153569         3 months            Domestic Medium Hair Mix             Tortie  \n",
      "153570         2 months              Domestic Shorthair Mix       Orange Tabby  \n",
      "\n",
      "[153571 rows x 12 columns]\n"
     ]
    }
   ],
   "source": [
    "df = pd.read_csv(r\"C:\\Users\\jasmi\\Downloads\\Austin_Animal_Center_Outcomes.csv\")\n",
    "print(df)"
   ]
  },
  {
   "cell_type": "code",
   "execution_count": 62,
   "id": "6630ad9c",
   "metadata": {},
   "outputs": [
    {
     "name": "stdout",
     "output_type": "stream",
     "text": [
      "       Animal ID      Name                DateTime MonthYear Date of Birth  \\\n",
      "1        A776359     Gizmo  07/18/2018 04:02:00 PM  Jul 2018    07/12/2017   \n",
      "3        A720371     Moose  02/13/2016 05:59:00 PM  Feb 2016    10/08/2015   \n",
      "5        A659412  Princess  10/05/2020 02:37:00 PM  Oct 2020    03/24/2013   \n",
      "6        A814515   Quentin  05/06/2020 07:59:00 AM  May 2020    03/01/2018   \n",
      "10       A840370     Tulip  08/19/2021 07:36:00 PM  Aug 2021    08/06/2019   \n",
      "...          ...       ...                     ...       ...           ...   \n",
      "153560   A855433       NaN  04/22/2022 11:57:00 AM  Apr 2022    02/18/2022   \n",
      "153561   A870929     Bella  02/16/2023 05:52:00 PM  Feb 2023    12/15/2018   \n",
      "153563   A861635        Cj  07/15/2022 07:13:00 PM  Jul 2022    07/15/2020   \n",
      "153565   A844095       Mia  01/31/2022 10:37:00 AM  Jan 2022    08/27/2021   \n",
      "153568   A852036     Queen  03/17/2022 05:22:00 PM  Mar 2022    12/08/2021   \n",
      "\n",
      "           Outcome Type Outcome Subtype Animal Type Sex upon Outcome  \\\n",
      "1              Adoption             NaN         Dog    Neutered Male   \n",
      "3              Adoption             NaN         Dog    Neutered Male   \n",
      "5              Adoption             NaN         Dog    Spayed Female   \n",
      "6              Adoption          Foster         Dog    Neutered Male   \n",
      "10             Adoption             NaN         Dog    Spayed Female   \n",
      "...                 ...             ...         ...              ...   \n",
      "153560         Transfer         Partner         Dog      Intact Male   \n",
      "153561         Transfer         Partner         Dog    Spayed Female   \n",
      "153563  Return to Owner             NaN         Dog    Spayed Female   \n",
      "153565         Adoption             NaN         Dog    Spayed Female   \n",
      "153568         Adoption             NaN         Dog    Spayed Female   \n",
      "\n",
      "       Age upon Outcome                                 Breed        Color  \n",
      "1                1 year               Chihuahua Shorthair Mix  White/Brown  \n",
      "3              4 months    Anatol Shepherd/Labrador Retriever         Buff  \n",
      "5               7 years               Chihuahua Shorthair Mix        Brown  \n",
      "6               2 years  American Foxhound/Labrador Retriever  White/Brown  \n",
      "10              2 years    Border Collie/Cardigan Welsh Corgi  Black/White  \n",
      "...                 ...                                   ...          ...  \n",
      "153560         2 months         Dachshund/Chihuahua Shorthair  Brown/White  \n",
      "153561          4 years                          Pit Bull Mix   Blue/White  \n",
      "153563          2 years                     Cairn Terrier Mix        Brown  \n",
      "153565         5 months                Labrador Retriever Mix  Black/White  \n",
      "153568         3 months                   German Shepherd Mix  Brown/Black  \n",
      "\n",
      "[85482 rows x 12 columns]\n"
     ]
    }
   ],
   "source": [
    "dog_df = df[df['Animal Type'] == 'Dog']\n",
    "print(dog_df)"
   ]
  },
  {
   "cell_type": "code",
   "execution_count": 63,
   "id": "0a9da5bf",
   "metadata": {},
   "outputs": [
    {
     "name": "stdout",
     "output_type": "stream",
     "text": [
      "1                Adoption\n",
      "3                Adoption\n",
      "5                Adoption\n",
      "6                Adoption\n",
      "10               Adoption\n",
      "               ...       \n",
      "153560           Transfer\n",
      "153561           Transfer\n",
      "153563    Return to Owner\n",
      "153565           Adoption\n",
      "153568           Adoption\n",
      "Name: Outcome Type, Length: 85482, dtype: object\n"
     ]
    }
   ],
   "source": [
    "print(dog_df['Outcome Type'])"
   ]
  },
  {
   "cell_type": "code",
   "execution_count": 66,
   "id": "2b7d564d",
   "metadata": {},
   "outputs": [
    {
     "data": {
      "image/png": "[encoded data removed]",
      "text/plain": [
       "<Figure size 640x480 with 1 Axes>"
      ]
     },
     "metadata": {},
     "output_type": "display_data"
    }
   ],
   "source": [
    "desired_outcomes = ['Adoption', 'Rto-Adopt', 'Transfer']\n",
    "\n",
    "# Filter the DataFrame to include only rows where 'Outcome Type' is in the desired outcome types\n",
    "filtered_df = dog_df[dog_df['Outcome Type'].isin(desired_outcomes)]\n",
    "\n",
    "# Get the counts for each outcome type in the filtered DataFrame\n",
    "outcome_counts = filtered_df['Outcome Type'].value_counts()\n",
    "\n",
    "# Create a bar chart\n",
    "plt.bar(outcome_counts.index, outcome_counts.values)\n",
    "\n",
    "# Add labels and title\n",
    "plt.xlabel('Outcome Types')\n",
    "plt.ylabel('Counts')\n",
    "plt.title('Dogs')\n",
    "\n",
    "# Show the plot\n",
    "plt.tight_layout()\n",
    "plt.show()\n"
   ]
  },
  {
   "cell_type": "code",
   "execution_count": null,
   "id": "690bcea9",
   "metadata": {},
   "outputs": [],
   "source": []
  }
 ],
 "metadata": {
  "kernelspec": {
   "display_name": "Python 3 (ipykernel)",
   "language": "python",
   "name": "python3"
  },
  "language_info": {
   "codemirror_mode": {
    "name": "ipython",
    "version": 3
   },
   "file_extension": ".py",
   "mimetype": "text/x-python",
   "name": "python",
   "nbconvert_exporter": "python",
   "pygments_lexer": "ipython3",
   "version": "3.10.9"
  }
 },
 "nbformat": 4,
 "nbformat_minor": 5
}
