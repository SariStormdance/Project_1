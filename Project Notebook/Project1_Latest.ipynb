{
 "cells": [
  {
   "cell_type": "code",
<<<<<<< HEAD
   "execution_count": 2,
=======
   "execution_count": 29,
>>>>>>> 0cea14bd65878662d3e4b5f209c876e310637d40
   "id": "884b5f41-5ae7-4f2c-9ed0-0b95b39ee0bd",
   "metadata": {},
   "outputs": [
    {
     "name": "stdout",
     "output_type": "stream",
     "text": [
      "Requirement already satisfied: pyfiglet in c:\\users\\junk\\anaconda3\\envs\\dev\\lib\\site-packages (0.8.post1)\n"
     ]
    }
   ],
   "source": [
    "# Dependencies and Setup\n",
    "import matplotlib.pyplot as plt\n",
    "import os\n",
    "import csv\n",
    "import pandas as pd\n",
    "import numpy as np\n",
    "import requests\n",
    "import time\n",
    "import json\n",
    "from pandas import json_normalize\n",
    "from scipy.stats import linregress\n",
    "from pprint import pprint\n",
    "!pip install pyfiglet\n",
    "import pyfiglet"
   ]
  },
  {
   "cell_type": "code",
<<<<<<< HEAD
   "execution_count": 3,
=======
   "execution_count": 30,
>>>>>>> 0cea14bd65878662d3e4b5f209c876e310637d40
   "id": "11b6e335",
   "metadata": {},
   "outputs": [
    {
     "ename": "FileNotFoundError",
     "evalue": "[Errno 2] No such file or directory: 'C:\\\\Users\\\\jasmi\\\\Downloads\\\\Austin_Animal_Center_Intakes.csv'",
     "output_type": "error",
     "traceback": [
      "\u001b[1;31m---------------------------------------------------------------------------\u001b[0m",
      "\u001b[1;31mFileNotFoundError\u001b[0m                         Traceback (most recent call last)",
      "Cell \u001b[1;32mIn[30], line 2\u001b[0m\n\u001b[0;32m      1\u001b[0m file_path \u001b[38;5;241m=\u001b[39m (\u001b[38;5;124mr\u001b[39m\u001b[38;5;124m\"\u001b[39m\u001b[38;5;124mC:\u001b[39m\u001b[38;5;124m\\\u001b[39m\u001b[38;5;124mUsers\u001b[39m\u001b[38;5;124m\\\u001b[39m\u001b[38;5;124mjasmi\u001b[39m\u001b[38;5;124m\\\u001b[39m\u001b[38;5;124mDownloads\u001b[39m\u001b[38;5;124m\\\u001b[39m\u001b[38;5;124mAustin_Animal_Center_Intakes.csv\u001b[39m\u001b[38;5;124m\"\u001b[39m)\n\u001b[1;32m----> 2\u001b[0m df \u001b[38;5;241m=\u001b[39m \u001b[43mpd\u001b[49m\u001b[38;5;241;43m.\u001b[39;49m\u001b[43mread_csv\u001b[49m\u001b[43m(\u001b[49m\u001b[38;5;124;43mr\u001b[39;49m\u001b[38;5;124;43m\"\u001b[39;49m\u001b[38;5;124;43mC:\u001b[39;49m\u001b[38;5;124;43m\\\u001b[39;49m\u001b[38;5;124;43mUsers\u001b[39;49m\u001b[38;5;124;43m\\\u001b[39;49m\u001b[38;5;124;43mjasmi\u001b[39;49m\u001b[38;5;124;43m\\\u001b[39;49m\u001b[38;5;124;43mDownloads\u001b[39;49m\u001b[38;5;124;43m\\\u001b[39;49m\u001b[38;5;124;43mAustin_Animal_Center_Intakes.csv\u001b[39;49m\u001b[38;5;124;43m\"\u001b[39;49m\u001b[43m)\u001b[49m\n",
      "File \u001b[1;32m~\\anaconda3\\envs\\dev\\lib\\site-packages\\pandas\\util\\_decorators.py:211\u001b[0m, in \u001b[0;36mdeprecate_kwarg.<locals>._deprecate_kwarg.<locals>.wrapper\u001b[1;34m(*args, **kwargs)\u001b[0m\n\u001b[0;32m    209\u001b[0m     \u001b[38;5;28;01melse\u001b[39;00m:\n\u001b[0;32m    210\u001b[0m         kwargs[new_arg_name] \u001b[38;5;241m=\u001b[39m new_arg_value\n\u001b[1;32m--> 211\u001b[0m \u001b[38;5;28;01mreturn\u001b[39;00m func(\u001b[38;5;241m*\u001b[39margs, \u001b[38;5;241m*\u001b[39m\u001b[38;5;241m*\u001b[39mkwargs)\n",
      "File \u001b[1;32m~\\anaconda3\\envs\\dev\\lib\\site-packages\\pandas\\util\\_decorators.py:331\u001b[0m, in \u001b[0;36mdeprecate_nonkeyword_arguments.<locals>.decorate.<locals>.wrapper\u001b[1;34m(*args, **kwargs)\u001b[0m\n\u001b[0;32m    325\u001b[0m \u001b[38;5;28;01mif\u001b[39;00m \u001b[38;5;28mlen\u001b[39m(args) \u001b[38;5;241m>\u001b[39m num_allow_args:\n\u001b[0;32m    326\u001b[0m     warnings\u001b[38;5;241m.\u001b[39mwarn(\n\u001b[0;32m    327\u001b[0m         msg\u001b[38;5;241m.\u001b[39mformat(arguments\u001b[38;5;241m=\u001b[39m_format_argument_list(allow_args)),\n\u001b[0;32m    328\u001b[0m         \u001b[38;5;167;01mFutureWarning\u001b[39;00m,\n\u001b[0;32m    329\u001b[0m         stacklevel\u001b[38;5;241m=\u001b[39mfind_stack_level(),\n\u001b[0;32m    330\u001b[0m     )\n\u001b[1;32m--> 331\u001b[0m \u001b[38;5;28;01mreturn\u001b[39;00m func(\u001b[38;5;241m*\u001b[39margs, \u001b[38;5;241m*\u001b[39m\u001b[38;5;241m*\u001b[39mkwargs)\n",
      "File \u001b[1;32m~\\anaconda3\\envs\\dev\\lib\\site-packages\\pandas\\io\\parsers\\readers.py:950\u001b[0m, in \u001b[0;36mread_csv\u001b[1;34m(filepath_or_buffer, sep, delimiter, header, names, index_col, usecols, squeeze, prefix, mangle_dupe_cols, dtype, engine, converters, true_values, false_values, skipinitialspace, skiprows, skipfooter, nrows, na_values, keep_default_na, na_filter, verbose, skip_blank_lines, parse_dates, infer_datetime_format, keep_date_col, date_parser, dayfirst, cache_dates, iterator, chunksize, compression, thousands, decimal, lineterminator, quotechar, quoting, doublequote, escapechar, comment, encoding, encoding_errors, dialect, error_bad_lines, warn_bad_lines, on_bad_lines, delim_whitespace, low_memory, memory_map, float_precision, storage_options)\u001b[0m\n\u001b[0;32m    935\u001b[0m kwds_defaults \u001b[38;5;241m=\u001b[39m _refine_defaults_read(\n\u001b[0;32m    936\u001b[0m     dialect,\n\u001b[0;32m    937\u001b[0m     delimiter,\n\u001b[1;32m   (...)\u001b[0m\n\u001b[0;32m    946\u001b[0m     defaults\u001b[38;5;241m=\u001b[39m{\u001b[38;5;124m\"\u001b[39m\u001b[38;5;124mdelimiter\u001b[39m\u001b[38;5;124m\"\u001b[39m: \u001b[38;5;124m\"\u001b[39m\u001b[38;5;124m,\u001b[39m\u001b[38;5;124m\"\u001b[39m},\n\u001b[0;32m    947\u001b[0m )\n\u001b[0;32m    948\u001b[0m kwds\u001b[38;5;241m.\u001b[39mupdate(kwds_defaults)\n\u001b[1;32m--> 950\u001b[0m \u001b[38;5;28;01mreturn\u001b[39;00m \u001b[43m_read\u001b[49m\u001b[43m(\u001b[49m\u001b[43mfilepath_or_buffer\u001b[49m\u001b[43m,\u001b[49m\u001b[43m \u001b[49m\u001b[43mkwds\u001b[49m\u001b[43m)\u001b[49m\n",
      "File \u001b[1;32m~\\anaconda3\\envs\\dev\\lib\\site-packages\\pandas\\io\\parsers\\readers.py:605\u001b[0m, in \u001b[0;36m_read\u001b[1;34m(filepath_or_buffer, kwds)\u001b[0m\n\u001b[0;32m    602\u001b[0m _validate_names(kwds\u001b[38;5;241m.\u001b[39mget(\u001b[38;5;124m\"\u001b[39m\u001b[38;5;124mnames\u001b[39m\u001b[38;5;124m\"\u001b[39m, \u001b[38;5;28;01mNone\u001b[39;00m))\n\u001b[0;32m    604\u001b[0m \u001b[38;5;66;03m# Create the parser.\u001b[39;00m\n\u001b[1;32m--> 605\u001b[0m parser \u001b[38;5;241m=\u001b[39m TextFileReader(filepath_or_buffer, \u001b[38;5;241m*\u001b[39m\u001b[38;5;241m*\u001b[39mkwds)\n\u001b[0;32m    607\u001b[0m \u001b[38;5;28;01mif\u001b[39;00m chunksize \u001b[38;5;129;01mor\u001b[39;00m iterator:\n\u001b[0;32m    608\u001b[0m     \u001b[38;5;28;01mreturn\u001b[39;00m parser\n",
      "File \u001b[1;32m~\\anaconda3\\envs\\dev\\lib\\site-packages\\pandas\\io\\parsers\\readers.py:1442\u001b[0m, in \u001b[0;36mTextFileReader.__init__\u001b[1;34m(self, f, engine, **kwds)\u001b[0m\n\u001b[0;32m   1439\u001b[0m     \u001b[38;5;28mself\u001b[39m\u001b[38;5;241m.\u001b[39moptions[\u001b[38;5;124m\"\u001b[39m\u001b[38;5;124mhas_index_names\u001b[39m\u001b[38;5;124m\"\u001b[39m] \u001b[38;5;241m=\u001b[39m kwds[\u001b[38;5;124m\"\u001b[39m\u001b[38;5;124mhas_index_names\u001b[39m\u001b[38;5;124m\"\u001b[39m]\n\u001b[0;32m   1441\u001b[0m \u001b[38;5;28mself\u001b[39m\u001b[38;5;241m.\u001b[39mhandles: IOHandles \u001b[38;5;241m|\u001b[39m \u001b[38;5;28;01mNone\u001b[39;00m \u001b[38;5;241m=\u001b[39m \u001b[38;5;28;01mNone\u001b[39;00m\n\u001b[1;32m-> 1442\u001b[0m \u001b[38;5;28mself\u001b[39m\u001b[38;5;241m.\u001b[39m_engine \u001b[38;5;241m=\u001b[39m \u001b[38;5;28;43mself\u001b[39;49m\u001b[38;5;241;43m.\u001b[39;49m\u001b[43m_make_engine\u001b[49m\u001b[43m(\u001b[49m\u001b[43mf\u001b[49m\u001b[43m,\u001b[49m\u001b[43m \u001b[49m\u001b[38;5;28;43mself\u001b[39;49m\u001b[38;5;241;43m.\u001b[39;49m\u001b[43mengine\u001b[49m\u001b[43m)\u001b[49m\n",
      "File \u001b[1;32m~\\anaconda3\\envs\\dev\\lib\\site-packages\\pandas\\io\\parsers\\readers.py:1735\u001b[0m, in \u001b[0;36mTextFileReader._make_engine\u001b[1;34m(self, f, engine)\u001b[0m\n\u001b[0;32m   1733\u001b[0m     \u001b[38;5;28;01mif\u001b[39;00m \u001b[38;5;124m\"\u001b[39m\u001b[38;5;124mb\u001b[39m\u001b[38;5;124m\"\u001b[39m \u001b[38;5;129;01mnot\u001b[39;00m \u001b[38;5;129;01min\u001b[39;00m mode:\n\u001b[0;32m   1734\u001b[0m         mode \u001b[38;5;241m+\u001b[39m\u001b[38;5;241m=\u001b[39m \u001b[38;5;124m\"\u001b[39m\u001b[38;5;124mb\u001b[39m\u001b[38;5;124m\"\u001b[39m\n\u001b[1;32m-> 1735\u001b[0m \u001b[38;5;28mself\u001b[39m\u001b[38;5;241m.\u001b[39mhandles \u001b[38;5;241m=\u001b[39m \u001b[43mget_handle\u001b[49m\u001b[43m(\u001b[49m\n\u001b[0;32m   1736\u001b[0m \u001b[43m    \u001b[49m\u001b[43mf\u001b[49m\u001b[43m,\u001b[49m\n\u001b[0;32m   1737\u001b[0m \u001b[43m    \u001b[49m\u001b[43mmode\u001b[49m\u001b[43m,\u001b[49m\n\u001b[0;32m   1738\u001b[0m \u001b[43m    \u001b[49m\u001b[43mencoding\u001b[49m\u001b[38;5;241;43m=\u001b[39;49m\u001b[38;5;28;43mself\u001b[39;49m\u001b[38;5;241;43m.\u001b[39;49m\u001b[43moptions\u001b[49m\u001b[38;5;241;43m.\u001b[39;49m\u001b[43mget\u001b[49m\u001b[43m(\u001b[49m\u001b[38;5;124;43m\"\u001b[39;49m\u001b[38;5;124;43mencoding\u001b[39;49m\u001b[38;5;124;43m\"\u001b[39;49m\u001b[43m,\u001b[49m\u001b[43m \u001b[49m\u001b[38;5;28;43;01mNone\u001b[39;49;00m\u001b[43m)\u001b[49m\u001b[43m,\u001b[49m\n\u001b[0;32m   1739\u001b[0m \u001b[43m    \u001b[49m\u001b[43mcompression\u001b[49m\u001b[38;5;241;43m=\u001b[39;49m\u001b[38;5;28;43mself\u001b[39;49m\u001b[38;5;241;43m.\u001b[39;49m\u001b[43moptions\u001b[49m\u001b[38;5;241;43m.\u001b[39;49m\u001b[43mget\u001b[49m\u001b[43m(\u001b[49m\u001b[38;5;124;43m\"\u001b[39;49m\u001b[38;5;124;43mcompression\u001b[39;49m\u001b[38;5;124;43m\"\u001b[39;49m\u001b[43m,\u001b[49m\u001b[43m \u001b[49m\u001b[38;5;28;43;01mNone\u001b[39;49;00m\u001b[43m)\u001b[49m\u001b[43m,\u001b[49m\n\u001b[0;32m   1740\u001b[0m \u001b[43m    \u001b[49m\u001b[43mmemory_map\u001b[49m\u001b[38;5;241;43m=\u001b[39;49m\u001b[38;5;28;43mself\u001b[39;49m\u001b[38;5;241;43m.\u001b[39;49m\u001b[43moptions\u001b[49m\u001b[38;5;241;43m.\u001b[39;49m\u001b[43mget\u001b[49m\u001b[43m(\u001b[49m\u001b[38;5;124;43m\"\u001b[39;49m\u001b[38;5;124;43mmemory_map\u001b[39;49m\u001b[38;5;124;43m\"\u001b[39;49m\u001b[43m,\u001b[49m\u001b[43m \u001b[49m\u001b[38;5;28;43;01mFalse\u001b[39;49;00m\u001b[43m)\u001b[49m\u001b[43m,\u001b[49m\n\u001b[0;32m   1741\u001b[0m \u001b[43m    \u001b[49m\u001b[43mis_text\u001b[49m\u001b[38;5;241;43m=\u001b[39;49m\u001b[43mis_text\u001b[49m\u001b[43m,\u001b[49m\n\u001b[0;32m   1742\u001b[0m \u001b[43m    \u001b[49m\u001b[43merrors\u001b[49m\u001b[38;5;241;43m=\u001b[39;49m\u001b[38;5;28;43mself\u001b[39;49m\u001b[38;5;241;43m.\u001b[39;49m\u001b[43moptions\u001b[49m\u001b[38;5;241;43m.\u001b[39;49m\u001b[43mget\u001b[49m\u001b[43m(\u001b[49m\u001b[38;5;124;43m\"\u001b[39;49m\u001b[38;5;124;43mencoding_errors\u001b[39;49m\u001b[38;5;124;43m\"\u001b[39;49m\u001b[43m,\u001b[49m\u001b[43m \u001b[49m\u001b[38;5;124;43m\"\u001b[39;49m\u001b[38;5;124;43mstrict\u001b[39;49m\u001b[38;5;124;43m\"\u001b[39;49m\u001b[43m)\u001b[49m\u001b[43m,\u001b[49m\n\u001b[0;32m   1743\u001b[0m \u001b[43m    \u001b[49m\u001b[43mstorage_options\u001b[49m\u001b[38;5;241;43m=\u001b[39;49m\u001b[38;5;28;43mself\u001b[39;49m\u001b[38;5;241;43m.\u001b[39;49m\u001b[43moptions\u001b[49m\u001b[38;5;241;43m.\u001b[39;49m\u001b[43mget\u001b[49m\u001b[43m(\u001b[49m\u001b[38;5;124;43m\"\u001b[39;49m\u001b[38;5;124;43mstorage_options\u001b[39;49m\u001b[38;5;124;43m\"\u001b[39;49m\u001b[43m,\u001b[49m\u001b[43m \u001b[49m\u001b[38;5;28;43;01mNone\u001b[39;49;00m\u001b[43m)\u001b[49m\u001b[43m,\u001b[49m\n\u001b[0;32m   1744\u001b[0m \u001b[43m\u001b[49m\u001b[43m)\u001b[49m\n\u001b[0;32m   1745\u001b[0m \u001b[38;5;28;01massert\u001b[39;00m \u001b[38;5;28mself\u001b[39m\u001b[38;5;241m.\u001b[39mhandles \u001b[38;5;129;01mis\u001b[39;00m \u001b[38;5;129;01mnot\u001b[39;00m \u001b[38;5;28;01mNone\u001b[39;00m\n\u001b[0;32m   1746\u001b[0m f \u001b[38;5;241m=\u001b[39m \u001b[38;5;28mself\u001b[39m\u001b[38;5;241m.\u001b[39mhandles\u001b[38;5;241m.\u001b[39mhandle\n",
      "File \u001b[1;32m~\\anaconda3\\envs\\dev\\lib\\site-packages\\pandas\\io\\common.py:856\u001b[0m, in \u001b[0;36mget_handle\u001b[1;34m(path_or_buf, mode, encoding, compression, memory_map, is_text, errors, storage_options)\u001b[0m\n\u001b[0;32m    851\u001b[0m \u001b[38;5;28;01melif\u001b[39;00m \u001b[38;5;28misinstance\u001b[39m(handle, \u001b[38;5;28mstr\u001b[39m):\n\u001b[0;32m    852\u001b[0m     \u001b[38;5;66;03m# Check whether the filename is to be opened in binary mode.\u001b[39;00m\n\u001b[0;32m    853\u001b[0m     \u001b[38;5;66;03m# Binary mode does not support 'encoding' and 'newline'.\u001b[39;00m\n\u001b[0;32m    854\u001b[0m     \u001b[38;5;28;01mif\u001b[39;00m ioargs\u001b[38;5;241m.\u001b[39mencoding \u001b[38;5;129;01mand\u001b[39;00m \u001b[38;5;124m\"\u001b[39m\u001b[38;5;124mb\u001b[39m\u001b[38;5;124m\"\u001b[39m \u001b[38;5;129;01mnot\u001b[39;00m \u001b[38;5;129;01min\u001b[39;00m ioargs\u001b[38;5;241m.\u001b[39mmode:\n\u001b[0;32m    855\u001b[0m         \u001b[38;5;66;03m# Encoding\u001b[39;00m\n\u001b[1;32m--> 856\u001b[0m         handle \u001b[38;5;241m=\u001b[39m \u001b[38;5;28;43mopen\u001b[39;49m\u001b[43m(\u001b[49m\n\u001b[0;32m    857\u001b[0m \u001b[43m            \u001b[49m\u001b[43mhandle\u001b[49m\u001b[43m,\u001b[49m\n\u001b[0;32m    858\u001b[0m \u001b[43m            \u001b[49m\u001b[43mioargs\u001b[49m\u001b[38;5;241;43m.\u001b[39;49m\u001b[43mmode\u001b[49m\u001b[43m,\u001b[49m\n\u001b[0;32m    859\u001b[0m \u001b[43m            \u001b[49m\u001b[43mencoding\u001b[49m\u001b[38;5;241;43m=\u001b[39;49m\u001b[43mioargs\u001b[49m\u001b[38;5;241;43m.\u001b[39;49m\u001b[43mencoding\u001b[49m\u001b[43m,\u001b[49m\n\u001b[0;32m    860\u001b[0m \u001b[43m            \u001b[49m\u001b[43merrors\u001b[49m\u001b[38;5;241;43m=\u001b[39;49m\u001b[43merrors\u001b[49m\u001b[43m,\u001b[49m\n\u001b[0;32m    861\u001b[0m \u001b[43m            \u001b[49m\u001b[43mnewline\u001b[49m\u001b[38;5;241;43m=\u001b[39;49m\u001b[38;5;124;43m\"\u001b[39;49m\u001b[38;5;124;43m\"\u001b[39;49m\u001b[43m,\u001b[49m\n\u001b[0;32m    862\u001b[0m \u001b[43m        \u001b[49m\u001b[43m)\u001b[49m\n\u001b[0;32m    863\u001b[0m     \u001b[38;5;28;01melse\u001b[39;00m:\n\u001b[0;32m    864\u001b[0m         \u001b[38;5;66;03m# Binary mode\u001b[39;00m\n\u001b[0;32m    865\u001b[0m         handle \u001b[38;5;241m=\u001b[39m \u001b[38;5;28mopen\u001b[39m(handle, ioargs\u001b[38;5;241m.\u001b[39mmode)\n",
      "\u001b[1;31mFileNotFoundError\u001b[0m: [Errno 2] No such file or directory: 'C:\\\\Users\\\\jasmi\\\\Downloads\\\\Austin_Animal_Center_Intakes.csv'"
     ]
    }
   ],
   "source": [
    "file_path = (r\"C:\\Users\\jasmi\\Downloads\\Austin_Animal_Center_Intakes.csv\")\n",
    "df = pd.read_csv(r\"C:\\Users\\jasmi\\Downloads\\Austin_Animal_Center_Intakes.csv\")"
   ]
  },
  {
   "cell_type": "code",
<<<<<<< HEAD
   "execution_count": 4,
=======
   "execution_count": 62,
>>>>>>> 0cea14bd65878662d3e4b5f209c876e310637d40
   "id": "75a2e545-c0dd-4855-9f6c-55c6016bccb8",
   "metadata": {},
   "outputs": [
    {
     "data": {
      "text/html": [
       "<div>\n",
       "<style scoped>\n",
       "    .dataframe tbody tr th:only-of-type {\n",
       "        vertical-align: middle;\n",
       "    }\n",
       "\n",
       "    .dataframe tbody tr th {\n",
       "        vertical-align: top;\n",
       "    }\n",
       "\n",
       "    .dataframe thead th {\n",
       "        text-align: right;\n",
       "    }\n",
       "</style>\n",
       "<table border=\"1\" class=\"dataframe\">\n",
       "  <thead>\n",
       "    <tr style=\"text-align: right;\">\n",
       "      <th></th>\n",
       "      <th>animal_id</th>\n",
       "      <th>name</th>\n",
       "      <th>datetime</th>\n",
       "      <th>monthyear</th>\n",
       "      <th>date_of_birth</th>\n",
       "      <th>outcome_type</th>\n",
       "      <th>animal_type</th>\n",
       "      <th>sex_upon_outcome</th>\n",
       "      <th>age_upon_outcome</th>\n",
       "      <th>breed</th>\n",
       "      <th>color</th>\n",
       "      <th>outcome_subtype</th>\n",
       "    </tr>\n",
       "  </thead>\n",
       "  <tbody>\n",
       "    <tr>\n",
       "      <th>995</th>\n",
       "      <td>A722325</td>\n",
       "      <td>Bella</td>\n",
       "      <td>2016-05-16T15:56:00.000</td>\n",
       "      <td>2016-05-16T15:56:00.000</td>\n",
       "      <td>2015-08-14T00:00:00.000</td>\n",
       "      <td>Return to Owner</td>\n",
       "      <td>Dog</td>\n",
       "      <td>Spayed Female</td>\n",
       "      <td>9 months</td>\n",
       "      <td>Labrador Retriever Mix</td>\n",
       "      <td>Black</td>\n",
       "      <td>NaN</td>\n",
       "    </tr>\n",
       "    <tr>\n",
       "      <th>996</th>\n",
       "      <td>A664032</td>\n",
       "      <td>Parker</td>\n",
       "      <td>2013-10-01T17:18:00.000</td>\n",
       "      <td>2013-10-01T17:18:00.000</td>\n",
       "      <td>2013-07-27T00:00:00.000</td>\n",
       "      <td>Adoption</td>\n",
       "      <td>Dog</td>\n",
       "      <td>Spayed Female</td>\n",
       "      <td>2 months</td>\n",
       "      <td>German Shepherd Mix</td>\n",
       "      <td>Black/Tan</td>\n",
       "      <td>NaN</td>\n",
       "    </tr>\n",
       "    <tr>\n",
       "      <th>997</th>\n",
       "      <td>A785557</td>\n",
       "      <td>Spicy</td>\n",
       "      <td>2018-12-16T14:59:00.000</td>\n",
       "      <td>2018-12-16T14:59:00.000</td>\n",
       "      <td>2016-12-05T00:00:00.000</td>\n",
       "      <td>Return to Owner</td>\n",
       "      <td>Dog</td>\n",
       "      <td>Intact Male</td>\n",
       "      <td>2 years</td>\n",
       "      <td>American Pit Bull Terrier Mix</td>\n",
       "      <td>Brown/White</td>\n",
       "      <td>NaN</td>\n",
       "    </tr>\n",
       "    <tr>\n",
       "      <th>998</th>\n",
       "      <td>A800965</td>\n",
       "      <td>Marley</td>\n",
       "      <td>2019-08-17T16:40:00.000</td>\n",
       "      <td>2019-08-17T16:40:00.000</td>\n",
       "      <td>2016-07-29T00:00:00.000</td>\n",
       "      <td>Adoption</td>\n",
       "      <td>Dog</td>\n",
       "      <td>Spayed Female</td>\n",
       "      <td>3 years</td>\n",
       "      <td>Blue Lacy/Beagle</td>\n",
       "      <td>Blue/White</td>\n",
       "      <td>NaN</td>\n",
       "    </tr>\n",
       "    <tr>\n",
       "      <th>999</th>\n",
       "      <td>A805280</td>\n",
       "      <td>*Vincent</td>\n",
       "      <td>2019-12-14T16:55:00.000</td>\n",
       "      <td>2019-12-14T16:55:00.000</td>\n",
       "      <td>2019-06-06T00:00:00.000</td>\n",
       "      <td>Adoption</td>\n",
       "      <td>Cat</td>\n",
       "      <td>Neutered Male</td>\n",
       "      <td>6 months</td>\n",
       "      <td>Domestic Shorthair</td>\n",
       "      <td>Orange Tabby/White</td>\n",
       "      <td>NaN</td>\n",
       "    </tr>\n",
       "  </tbody>\n",
       "</table>\n",
       "</div>"
      ],
      "text/plain": [
       "    animal_id      name                 datetime                monthyear  \\\n",
       "995   A722325     Bella  2016-05-16T15:56:00.000  2016-05-16T15:56:00.000   \n",
       "996   A664032    Parker  2013-10-01T17:18:00.000  2013-10-01T17:18:00.000   \n",
       "997   A785557     Spicy  2018-12-16T14:59:00.000  2018-12-16T14:59:00.000   \n",
       "998   A800965    Marley  2019-08-17T16:40:00.000  2019-08-17T16:40:00.000   \n",
       "999   A805280  *Vincent  2019-12-14T16:55:00.000  2019-12-14T16:55:00.000   \n",
       "\n",
       "               date_of_birth     outcome_type animal_type sex_upon_outcome  \\\n",
       "995  2015-08-14T00:00:00.000  Return to Owner         Dog    Spayed Female   \n",
       "996  2013-07-27T00:00:00.000         Adoption         Dog    Spayed Female   \n",
       "997  2016-12-05T00:00:00.000  Return to Owner         Dog      Intact Male   \n",
       "998  2016-07-29T00:00:00.000         Adoption         Dog    Spayed Female   \n",
       "999  2019-06-06T00:00:00.000         Adoption         Cat    Neutered Male   \n",
       "\n",
       "    age_upon_outcome                          breed               color  \\\n",
       "995         9 months         Labrador Retriever Mix               Black   \n",
       "996         2 months            German Shepherd Mix           Black/Tan   \n",
       "997          2 years  American Pit Bull Terrier Mix         Brown/White   \n",
       "998          3 years               Blue Lacy/Beagle          Blue/White   \n",
       "999         6 months             Domestic Shorthair  Orange Tabby/White   \n",
       "\n",
       "    outcome_subtype  \n",
       "995             NaN  \n",
       "996             NaN  \n",
       "997             NaN  \n",
       "998             NaN  \n",
       "999             NaN  "
      ]
     },
<<<<<<< HEAD
     "execution_count": 4,
=======
     "execution_count": 62,
>>>>>>> 0cea14bd65878662d3e4b5f209c876e310637d40
     "metadata": {},
     "output_type": "execute_result"
    }
   ],
   "source": [
    "# Set the API base URL \n",
    "json_url = f\"https://data.austintexas.gov/resource/9t4d-g238.json\"\n",
    "\n",
    "# Create URL for GET requests\n",
    "animal_data = requests.get(json_url).json()\n",
    "\n",
    "# Convert the API to a DataFrame and display data\n",
    "animal_df = pd.DataFrame.from_dict(json_normalize(animal_data))\n",
    "animal_df.tail(5)"
   ]
  },
  {
   "cell_type": "code",
<<<<<<< HEAD
   "execution_count": 5,
=======
   "execution_count": 63,
>>>>>>> 0cea14bd65878662d3e4b5f209c876e310637d40
   "id": "29050087-40e8-4c0e-9512-99e42fd8b367",
   "metadata": {},
   "outputs": [],
   "source": [
    "## JSON results are limited and will not provide 2022 information.\n",
    "## Switching from JSON to CSV."
   ]
  },
  {
   "cell_type": "code",
<<<<<<< HEAD
   "execution_count": 6,
=======
   "execution_count": 64,
>>>>>>> 0cea14bd65878662d3e4b5f209c876e310637d40
   "id": "8d84bde2-fad1-4542-9a50-55e4001a03b6",
   "metadata": {},
   "outputs": [
    {
     "data": {
      "text/html": [
       "<div>\n",
       "<style scoped>\n",
       "    .dataframe tbody tr th:only-of-type {\n",
       "        vertical-align: middle;\n",
       "    }\n",
       "\n",
       "    .dataframe tbody tr th {\n",
       "        vertical-align: top;\n",
       "    }\n",
       "\n",
       "    .dataframe thead th {\n",
       "        text-align: right;\n",
       "    }\n",
       "</style>\n",
       "<table border=\"1\" class=\"dataframe\">\n",
       "  <thead>\n",
       "    <tr style=\"text-align: right;\">\n",
       "      <th></th>\n",
       "      <th>Animal ID</th>\n",
       "      <th>Name</th>\n",
       "      <th>DateTime</th>\n",
       "      <th>MonthYear</th>\n",
       "      <th>Date of Birth</th>\n",
       "      <th>Outcome Type</th>\n",
       "      <th>Outcome Subtype</th>\n",
       "      <th>Animal Type</th>\n",
       "      <th>Sex upon Outcome</th>\n",
       "      <th>Age upon Outcome</th>\n",
       "      <th>Breed</th>\n",
       "      <th>Color</th>\n",
       "    </tr>\n",
       "  </thead>\n",
       "  <tbody>\n",
       "    <tr>\n",
       "      <th>153437</th>\n",
       "      <td>A883539</td>\n",
       "      <td>*Pipsqueak</td>\n",
       "      <td>07/19/2023 05:18:00 PM</td>\n",
       "      <td>Jul 2023</td>\n",
       "      <td>02/24/2023</td>\n",
       "      <td>Adoption</td>\n",
       "      <td>NaN</td>\n",
       "      <td>Dog</td>\n",
       "      <td>Intact Female</td>\n",
       "      <td>4 months</td>\n",
       "      <td>Labrador Retriever Mix</td>\n",
       "      <td>Cream/White</td>\n",
       "    </tr>\n",
       "    <tr>\n",
       "      <th>153438</th>\n",
       "      <td>A884334</td>\n",
       "      <td>Noche</td>\n",
       "      <td>07/19/2023 05:14:00 PM</td>\n",
       "      <td>Jul 2023</td>\n",
       "      <td>04/01/2023</td>\n",
       "      <td>Adoption</td>\n",
       "      <td>NaN</td>\n",
       "      <td>Cat</td>\n",
       "      <td>Spayed Female</td>\n",
       "      <td>3 months</td>\n",
       "      <td>Domestic Shorthair</td>\n",
       "      <td>Black</td>\n",
       "    </tr>\n",
       "    <tr>\n",
       "      <th>153439</th>\n",
       "      <td>A885055</td>\n",
       "      <td>Sparky</td>\n",
       "      <td>07/19/2023 05:00:00 PM</td>\n",
       "      <td>Jul 2023</td>\n",
       "      <td>04/12/2023</td>\n",
       "      <td>Adoption</td>\n",
       "      <td>NaN</td>\n",
       "      <td>Cat</td>\n",
       "      <td>Neutered Male</td>\n",
       "      <td>3 months</td>\n",
       "      <td>Siamese</td>\n",
       "      <td>Flame Point</td>\n",
       "    </tr>\n",
       "    <tr>\n",
       "      <th>153440</th>\n",
       "      <td>A884031</td>\n",
       "      <td>Bowzer</td>\n",
       "      <td>07/19/2023 05:26:00 PM</td>\n",
       "      <td>Jul 2023</td>\n",
       "      <td>06/27/2019</td>\n",
       "      <td>Adoption</td>\n",
       "      <td>NaN</td>\n",
       "      <td>Dog</td>\n",
       "      <td>Neutered Male</td>\n",
       "      <td>4 years</td>\n",
       "      <td>Labrador Retriever Mix</td>\n",
       "      <td>Cream/Yellow</td>\n",
       "    </tr>\n",
       "    <tr>\n",
       "      <th>153441</th>\n",
       "      <td>A883741</td>\n",
       "      <td>*Fiddle</td>\n",
       "      <td>07/19/2023 06:57:00 PM</td>\n",
       "      <td>Jul 2023</td>\n",
       "      <td>06/22/2022</td>\n",
       "      <td>Transfer</td>\n",
       "      <td>Partner</td>\n",
       "      <td>Dog</td>\n",
       "      <td>Intact Male</td>\n",
       "      <td>1 year</td>\n",
       "      <td>Australian Cattle Dog Mix</td>\n",
       "      <td>Tan/White</td>\n",
       "    </tr>\n",
       "  </tbody>\n",
       "</table>\n",
       "</div>"
      ],
      "text/plain": [
       "       Animal ID        Name                DateTime MonthYear Date of Birth  \\\n",
       "153437   A883539  *Pipsqueak  07/19/2023 05:18:00 PM  Jul 2023    02/24/2023   \n",
       "153438   A884334       Noche  07/19/2023 05:14:00 PM  Jul 2023    04/01/2023   \n",
       "153439   A885055      Sparky  07/19/2023 05:00:00 PM  Jul 2023    04/12/2023   \n",
       "153440   A884031      Bowzer  07/19/2023 05:26:00 PM  Jul 2023    06/27/2019   \n",
       "153441   A883741     *Fiddle  07/19/2023 06:57:00 PM  Jul 2023    06/22/2022   \n",
       "\n",
       "       Outcome Type Outcome Subtype Animal Type Sex upon Outcome  \\\n",
       "153437     Adoption             NaN         Dog    Intact Female   \n",
       "153438     Adoption             NaN         Cat    Spayed Female   \n",
       "153439     Adoption             NaN         Cat    Neutered Male   \n",
       "153440     Adoption             NaN         Dog    Neutered Male   \n",
       "153441     Transfer         Partner         Dog      Intact Male   \n",
       "\n",
       "       Age upon Outcome                      Breed         Color  \n",
       "153437         4 months     Labrador Retriever Mix   Cream/White  \n",
       "153438         3 months         Domestic Shorthair         Black  \n",
       "153439         3 months                    Siamese   Flame Point  \n",
       "153440          4 years     Labrador Retriever Mix  Cream/Yellow  \n",
       "153441           1 year  Australian Cattle Dog Mix     Tan/White  "
      ]
     },
<<<<<<< HEAD
     "execution_count": 6,
=======
     "execution_count": 64,
>>>>>>> 0cea14bd65878662d3e4b5f209c876e310637d40
     "metadata": {},
     "output_type": "execute_result"
    }
   ],
   "source": [
    "# Path to collect CSV data \n",
    "csv_url = \"https://github.com/SariStormdance/Project_1/blob/main/Resources/Animal_Outcome.csv?raw=true\"\n",
    "\n",
    "# Convert CSV to DataFrame\n",
    "initial_df = pd.read_csv(csv_url)\n",
    "initial_df.tail(5)"
   ]
  },
  {
   "cell_type": "code",
<<<<<<< HEAD
   "execution_count": 7,
=======
   "execution_count": 65,
>>>>>>> 0cea14bd65878662d3e4b5f209c876e310637d40
   "id": "5ade83b7-c9c6-4d71-815f-bd8b880dc47e",
   "metadata": {},
   "outputs": [
    {
     "data": {
      "text/html": [
       "<div>\n",
       "<style scoped>\n",
       "    .dataframe tbody tr th:only-of-type {\n",
       "        vertical-align: middle;\n",
       "    }\n",
       "\n",
       "    .dataframe tbody tr th {\n",
       "        vertical-align: top;\n",
       "    }\n",
       "\n",
       "    .dataframe thead th {\n",
       "        text-align: right;\n",
       "    }\n",
       "</style>\n",
       "<table border=\"1\" class=\"dataframe\">\n",
       "  <thead>\n",
       "    <tr style=\"text-align: right;\">\n",
       "      <th></th>\n",
       "      <th>Animal ID</th>\n",
       "      <th>Name</th>\n",
       "      <th>MonthYear</th>\n",
       "      <th>Outcome Type</th>\n",
       "      <th>Animal Type</th>\n",
       "      <th>Breed</th>\n",
       "      <th>Age upon Outcome</th>\n",
       "    </tr>\n",
       "  </thead>\n",
       "  <tbody>\n",
       "    <tr>\n",
       "      <th>153437</th>\n",
       "      <td>A883539</td>\n",
       "      <td>*Pipsqueak</td>\n",
       "      <td>Jul 2023</td>\n",
       "      <td>Adoption</td>\n",
       "      <td>Dog</td>\n",
       "      <td>Labrador Retriever Mix</td>\n",
       "      <td>4 months</td>\n",
       "    </tr>\n",
       "    <tr>\n",
       "      <th>153438</th>\n",
       "      <td>A884334</td>\n",
       "      <td>Noche</td>\n",
       "      <td>Jul 2023</td>\n",
       "      <td>Adoption</td>\n",
       "      <td>Cat</td>\n",
       "      <td>Domestic Shorthair</td>\n",
       "      <td>3 months</td>\n",
       "    </tr>\n",
       "    <tr>\n",
       "      <th>153439</th>\n",
       "      <td>A885055</td>\n",
       "      <td>Sparky</td>\n",
       "      <td>Jul 2023</td>\n",
       "      <td>Adoption</td>\n",
       "      <td>Cat</td>\n",
       "      <td>Siamese</td>\n",
       "      <td>3 months</td>\n",
       "    </tr>\n",
       "    <tr>\n",
       "      <th>153440</th>\n",
       "      <td>A884031</td>\n",
       "      <td>Bowzer</td>\n",
       "      <td>Jul 2023</td>\n",
       "      <td>Adoption</td>\n",
       "      <td>Dog</td>\n",
       "      <td>Labrador Retriever Mix</td>\n",
       "      <td>4 years</td>\n",
       "    </tr>\n",
       "    <tr>\n",
       "      <th>153441</th>\n",
       "      <td>A883741</td>\n",
       "      <td>*Fiddle</td>\n",
       "      <td>Jul 2023</td>\n",
       "      <td>Transfer</td>\n",
       "      <td>Dog</td>\n",
       "      <td>Australian Cattle Dog Mix</td>\n",
       "      <td>1 year</td>\n",
       "    </tr>\n",
       "  </tbody>\n",
       "</table>\n",
       "</div>"
      ],
      "text/plain": [
       "       Animal ID        Name MonthYear Outcome Type Animal Type  \\\n",
       "153437   A883539  *Pipsqueak  Jul 2023     Adoption         Dog   \n",
       "153438   A884334       Noche  Jul 2023     Adoption         Cat   \n",
       "153439   A885055      Sparky  Jul 2023     Adoption         Cat   \n",
       "153440   A884031      Bowzer  Jul 2023     Adoption         Dog   \n",
       "153441   A883741     *Fiddle  Jul 2023     Transfer         Dog   \n",
       "\n",
       "                            Breed Age upon Outcome  \n",
       "153437     Labrador Retriever Mix         4 months  \n",
       "153438         Domestic Shorthair         3 months  \n",
       "153439                    Siamese         3 months  \n",
       "153440     Labrador Retriever Mix          4 years  \n",
       "153441  Australian Cattle Dog Mix           1 year  "
      ]
     },
<<<<<<< HEAD
     "execution_count": 7,
=======
     "execution_count": 65,
>>>>>>> 0cea14bd65878662d3e4b5f209c876e310637d40
     "metadata": {},
     "output_type": "execute_result"
    }
   ],
   "source": [
    "# Creating a DataFrame copy to reduce to essential columns\n",
    "reduced_columns_df= initial_df[[\"Animal ID\", \"Name\", \"MonthYear\", \"Outcome Type\", \"Animal Type\", \"Breed\", \"Age upon Outcome\"]].copy()\n",
    "reduced_columns_df.tail(5)"
   ]
  },
  {
   "cell_type": "code",
<<<<<<< HEAD
   "execution_count": 8,
=======
   "execution_count": 66,
>>>>>>> 0cea14bd65878662d3e4b5f209c876e310637d40
   "id": "f559579f-fc5f-4693-915e-0de843c00f7d",
   "metadata": {},
   "outputs": [
    {
     "data": {
      "text/html": [
       "<div>\n",
       "<style scoped>\n",
       "    .dataframe tbody tr th:only-of-type {\n",
       "        vertical-align: middle;\n",
       "    }\n",
       "\n",
       "    .dataframe tbody tr th {\n",
       "        vertical-align: top;\n",
       "    }\n",
       "\n",
       "    .dataframe thead th {\n",
       "        text-align: right;\n",
       "    }\n",
       "</style>\n",
       "<table border=\"1\" class=\"dataframe\">\n",
       "  <thead>\n",
       "    <tr style=\"text-align: right;\">\n",
       "      <th></th>\n",
       "      <th>Animal ID</th>\n",
       "      <th>Name</th>\n",
       "      <th>Month Year</th>\n",
       "      <th>Outcome Type</th>\n",
       "      <th>Animal Type</th>\n",
       "      <th>Breed</th>\n",
       "      <th>Age upon Outcome</th>\n",
       "      <th>Month</th>\n",
       "      <th>Year</th>\n",
       "    </tr>\n",
       "  </thead>\n",
       "  <tbody>\n",
       "    <tr>\n",
       "      <th>153437</th>\n",
       "      <td>A883539</td>\n",
       "      <td>*Pipsqueak</td>\n",
       "      <td>Jul 2023</td>\n",
       "      <td>Adoption</td>\n",
       "      <td>Dog</td>\n",
       "      <td>Labrador Retriever Mix</td>\n",
       "      <td>4 months</td>\n",
       "      <td>Jul</td>\n",
       "      <td>2023</td>\n",
       "    </tr>\n",
       "    <tr>\n",
       "      <th>153438</th>\n",
       "      <td>A884334</td>\n",
       "      <td>Noche</td>\n",
       "      <td>Jul 2023</td>\n",
       "      <td>Adoption</td>\n",
       "      <td>Cat</td>\n",
       "      <td>Domestic Shorthair</td>\n",
       "      <td>3 months</td>\n",
       "      <td>Jul</td>\n",
       "      <td>2023</td>\n",
       "    </tr>\n",
       "    <tr>\n",
       "      <th>153439</th>\n",
       "      <td>A885055</td>\n",
       "      <td>Sparky</td>\n",
       "      <td>Jul 2023</td>\n",
       "      <td>Adoption</td>\n",
       "      <td>Cat</td>\n",
       "      <td>Siamese</td>\n",
       "      <td>3 months</td>\n",
       "      <td>Jul</td>\n",
       "      <td>2023</td>\n",
       "    </tr>\n",
       "    <tr>\n",
       "      <th>153440</th>\n",
       "      <td>A884031</td>\n",
       "      <td>Bowzer</td>\n",
       "      <td>Jul 2023</td>\n",
       "      <td>Adoption</td>\n",
       "      <td>Dog</td>\n",
       "      <td>Labrador Retriever Mix</td>\n",
       "      <td>4 years</td>\n",
       "      <td>Jul</td>\n",
       "      <td>2023</td>\n",
       "    </tr>\n",
       "    <tr>\n",
       "      <th>153441</th>\n",
       "      <td>A883741</td>\n",
       "      <td>*Fiddle</td>\n",
       "      <td>Jul 2023</td>\n",
       "      <td>Transfer</td>\n",
       "      <td>Dog</td>\n",
       "      <td>Australian Cattle Dog Mix</td>\n",
       "      <td>1 year</td>\n",
       "      <td>Jul</td>\n",
       "      <td>2023</td>\n",
       "    </tr>\n",
       "  </tbody>\n",
       "</table>\n",
       "</div>"
      ],
      "text/plain": [
       "       Animal ID        Name Month Year Outcome Type Animal Type  \\\n",
       "153437   A883539  *Pipsqueak   Jul 2023     Adoption         Dog   \n",
       "153438   A884334       Noche   Jul 2023     Adoption         Cat   \n",
       "153439   A885055      Sparky   Jul 2023     Adoption         Cat   \n",
       "153440   A884031      Bowzer   Jul 2023     Adoption         Dog   \n",
       "153441   A883741     *Fiddle   Jul 2023     Transfer         Dog   \n",
       "\n",
       "                            Breed Age upon Outcome Month  Year  \n",
       "153437     Labrador Retriever Mix         4 months   Jul  2023  \n",
       "153438         Domestic Shorthair         3 months   Jul  2023  \n",
       "153439                    Siamese         3 months   Jul  2023  \n",
       "153440     Labrador Retriever Mix          4 years   Jul  2023  \n",
       "153441  Australian Cattle Dog Mix           1 year   Jul  2023  "
      ]
     },
<<<<<<< HEAD
     "execution_count": 8,
=======
     "execution_count": 66,
>>>>>>> 0cea14bd65878662d3e4b5f209c876e310637d40
     "metadata": {},
     "output_type": "execute_result"
    }
   ],
   "source": [
    "# Rename column and split a DataFrame column\n",
    "reduced_columns_df.rename(columns = {\"MonthYear\":\"Month Year\"}, inplace = True)\n",
    "reduced_columns_df[[\"Month\",\"Year\"]] = reduced_columns_df[\"Month Year\"].str.split(\" \",expand=True)\n",
    "reduced_columns_df.tail(5)"
   ]
  },
  {
   "cell_type": "code",
<<<<<<< HEAD
   "execution_count": 9,
=======
   "execution_count": 89,
>>>>>>> 0cea14bd65878662d3e4b5f209c876e310637d40
   "id": "8ed27e74-bcc5-4cec-85c8-4ed2e178b065",
   "metadata": {},
   "outputs": [
    {
     "data": {
      "text/html": [
       "<div>\n",
       "<style scoped>\n",
       "    .dataframe tbody tr th:only-of-type {\n",
       "        vertical-align: middle;\n",
       "    }\n",
       "\n",
       "    .dataframe tbody tr th {\n",
       "        vertical-align: top;\n",
       "    }\n",
       "\n",
       "    .dataframe thead th {\n",
       "        text-align: right;\n",
       "    }\n",
       "</style>\n",
       "<table border=\"1\" class=\"dataframe\">\n",
       "  <thead>\n",
       "    <tr style=\"text-align: right;\">\n",
       "      <th></th>\n",
       "      <th>Animal ID</th>\n",
       "      <th>Name</th>\n",
       "      <th>Month</th>\n",
       "      <th>Year</th>\n",
       "      <th>Outcome Type</th>\n",
       "      <th>Animal Type</th>\n",
       "      <th>Breed</th>\n",
       "      <th>Age upon Outcome</th>\n",
       "    </tr>\n",
       "  </thead>\n",
       "  <tbody>\n",
       "    <tr>\n",
       "      <th>153437</th>\n",
       "      <td>A883539</td>\n",
       "      <td>*Pipsqueak</td>\n",
       "      <td>Jul</td>\n",
       "      <td>2023</td>\n",
       "      <td>Adoption</td>\n",
       "      <td>Dog</td>\n",
       "      <td>Labrador Retriever Mix</td>\n",
       "      <td>4 months</td>\n",
       "    </tr>\n",
       "    <tr>\n",
       "      <th>153438</th>\n",
       "      <td>A884334</td>\n",
       "      <td>Noche</td>\n",
       "      <td>Jul</td>\n",
       "      <td>2023</td>\n",
       "      <td>Adoption</td>\n",
       "      <td>Cat</td>\n",
       "      <td>Domestic Shorthair</td>\n",
       "      <td>3 months</td>\n",
       "    </tr>\n",
       "    <tr>\n",
       "      <th>153439</th>\n",
       "      <td>A885055</td>\n",
       "      <td>Sparky</td>\n",
       "      <td>Jul</td>\n",
       "      <td>2023</td>\n",
       "      <td>Adoption</td>\n",
       "      <td>Cat</td>\n",
       "      <td>Siamese</td>\n",
       "      <td>3 months</td>\n",
       "    </tr>\n",
       "    <tr>\n",
       "      <th>153440</th>\n",
       "      <td>A884031</td>\n",
       "      <td>Bowzer</td>\n",
       "      <td>Jul</td>\n",
       "      <td>2023</td>\n",
       "      <td>Adoption</td>\n",
       "      <td>Dog</td>\n",
       "      <td>Labrador Retriever Mix</td>\n",
       "      <td>4 years</td>\n",
       "    </tr>\n",
       "    <tr>\n",
       "      <th>153441</th>\n",
       "      <td>A883741</td>\n",
       "      <td>*Fiddle</td>\n",
       "      <td>Jul</td>\n",
       "      <td>2023</td>\n",
       "      <td>Transfer</td>\n",
       "      <td>Dog</td>\n",
       "      <td>Australian Cattle Dog Mix</td>\n",
       "      <td>1 year</td>\n",
       "    </tr>\n",
       "  </tbody>\n",
       "</table>\n",
       "</div>"
      ],
      "text/plain": [
       "       Animal ID        Name Month  Year Outcome Type Animal Type  \\\n",
       "153437   A883539  *Pipsqueak   Jul  2023     Adoption         Dog   \n",
       "153438   A884334       Noche   Jul  2023     Adoption         Cat   \n",
       "153439   A885055      Sparky   Jul  2023     Adoption         Cat   \n",
       "153440   A884031      Bowzer   Jul  2023     Adoption         Dog   \n",
       "153441   A883741     *Fiddle   Jul  2023     Transfer         Dog   \n",
       "\n",
       "                            Breed Age upon Outcome  \n",
       "153437     Labrador Retriever Mix         4 months  \n",
       "153438         Domestic Shorthair         3 months  \n",
       "153439                    Siamese         3 months  \n",
       "153440     Labrador Retriever Mix          4 years  \n",
       "153441  Australian Cattle Dog Mix           1 year  "
      ]
     },
<<<<<<< HEAD
     "execution_count": 9,
=======
     "execution_count": 89,
>>>>>>> 0cea14bd65878662d3e4b5f209c876e310637d40
     "metadata": {},
     "output_type": "execute_result"
    }
   ],
   "source": [
    "# Cleaning and rearranging the data\n",
    "updated_columns_df = reduced_columns_df[[\"Animal ID\", \"Name\", \"Month\", \"Year\", \"Outcome Type\", \"Animal Type\", \"Breed\", \"Age upon Outcome\"]].copy()\n",
    "updated_columns_df.drop_duplicates(subset=[\"Animal ID\"])\n",
    "updated_columns_df.tail(5)"
   ]
  },
  {
   "cell_type": "code",
<<<<<<< HEAD
   "execution_count": 10,
   "id": "80ca33d4-9f74-4066-bda6-74aeb03a9b4b",
   "metadata": {},
   "outputs": [
    {
     "data": {
      "text/plain": [
       "Year\n",
       "2019    19775\n",
       "2014    18709\n",
       "2015    18506\n",
       "2016    17670\n",
       "2017    17657\n",
       "2018    16741\n",
       "2021    11966\n",
       "2022    11880\n",
       "2020     9777\n",
       "2023     6256\n",
       "2013     4505\n",
       "Name: count, dtype: int64"
      ]
     },
     "execution_count": 10,
     "metadata": {},
     "output_type": "execute_result"
    }
   ],
   "source": [
    "# Data check: Displaying number of records per year\n",
    "updated_columns_df[\"Year\"].value_counts()"
   ]
  },
  {
   "cell_type": "code",
   "execution_count": 11,
=======
   "execution_count": 90,
>>>>>>> 0cea14bd65878662d3e4b5f209c876e310637d40
   "id": "2f90a7d1-9525-4f66-a1f0-eecf9c844d80",
   "metadata": {},
   "outputs": [
    {
     "data": {
      "text/html": [
       "<div>\n",
       "<style scoped>\n",
       "    .dataframe tbody tr th:only-of-type {\n",
       "        vertical-align: middle;\n",
       "    }\n",
       "\n",
       "    .dataframe tbody tr th {\n",
       "        vertical-align: top;\n",
       "    }\n",
       "\n",
       "    .dataframe thead th {\n",
       "        text-align: right;\n",
       "    }\n",
       "</style>\n",
       "<table border=\"1\" class=\"dataframe\">\n",
       "  <thead>\n",
       "    <tr style=\"text-align: right;\">\n",
       "      <th></th>\n",
       "      <th>Animal ID</th>\n",
       "      <th>Name</th>\n",
       "      <th>Month</th>\n",
       "      <th>Year</th>\n",
       "      <th>Outcome Type</th>\n",
       "      <th>Animal Type</th>\n",
       "      <th>Breed</th>\n",
       "      <th>Age upon Outcome</th>\n",
       "    </tr>\n",
       "  </thead>\n",
       "  <tbody>\n",
       "    <tr>\n",
       "      <th>153073</th>\n",
       "      <td>A857909</td>\n",
       "      <td>Yumi</td>\n",
       "      <td>Jun</td>\n",
       "      <td>2022</td>\n",
       "      <td>Adoption</td>\n",
       "      <td>Dog</td>\n",
       "      <td>Pit Bull Mix</td>\n",
       "      <td>8 months</td>\n",
       "    </tr>\n",
       "    <tr>\n",
       "      <th>153108</th>\n",
       "      <td>A853013</td>\n",
       "      <td>Ashe</td>\n",
       "      <td>Apr</td>\n",
       "      <td>2022</td>\n",
       "      <td>Adoption</td>\n",
       "      <td>Cat</td>\n",
       "      <td>Domestic Shorthair</td>\n",
       "      <td>5 months</td>\n",
       "    </tr>\n",
       "    <tr>\n",
       "      <th>153197</th>\n",
       "      <td>A862948</td>\n",
       "      <td>*Christine</td>\n",
       "      <td>Aug</td>\n",
       "      <td>2022</td>\n",
       "      <td>Transfer</td>\n",
       "      <td>Cat</td>\n",
       "      <td>Domestic Shorthair Mix</td>\n",
       "      <td>3 months</td>\n",
       "    </tr>\n",
       "    <tr>\n",
       "      <th>153355</th>\n",
       "      <td>A850898</td>\n",
       "      <td>Xena</td>\n",
       "      <td>Feb</td>\n",
       "      <td>2022</td>\n",
       "      <td>Adoption</td>\n",
       "      <td>Dog</td>\n",
       "      <td>Siberian Husky Mix</td>\n",
       "      <td>2 months</td>\n",
       "    </tr>\n",
       "    <tr>\n",
       "      <th>153422</th>\n",
       "      <td>A869924</td>\n",
       "      <td>NaN</td>\n",
       "      <td>Dec</td>\n",
       "      <td>2022</td>\n",
       "      <td>Transfer</td>\n",
       "      <td>Cat</td>\n",
       "      <td>Domestic Shorthair</td>\n",
       "      <td>2 years</td>\n",
       "    </tr>\n",
       "  </tbody>\n",
       "</table>\n",
       "</div>"
      ],
      "text/plain": [
       "       Animal ID        Name Month  Year Outcome Type Animal Type  \\\n",
       "153073   A857909        Yumi   Jun  2022     Adoption         Dog   \n",
       "153108   A853013        Ashe   Apr  2022     Adoption         Cat   \n",
       "153197   A862948  *Christine   Aug  2022     Transfer         Cat   \n",
       "153355   A850898        Xena   Feb  2022     Adoption         Dog   \n",
       "153422   A869924         NaN   Dec  2022     Transfer         Cat   \n",
       "\n",
       "                         Breed Age upon Outcome  \n",
       "153073            Pit Bull Mix         8 months  \n",
       "153108      Domestic Shorthair         5 months  \n",
       "153197  Domestic Shorthair Mix         3 months  \n",
       "153355      Siberian Husky Mix         2 months  \n",
       "153422      Domestic Shorthair          2 years  "
      ]
     },
<<<<<<< HEAD
     "execution_count": 11,
=======
     "execution_count": 90,
>>>>>>> 0cea14bd65878662d3e4b5f209c876e310637d40
     "metadata": {},
     "output_type": "execute_result"
    }
   ],
   "source": [
    "# Narrowing dataset to 2022 timeframe\n",
    "defined_year_df = updated_columns_df[updated_columns_df[\"Year\"] == \"2022\"]\n",
    "defined_year_df.tail(5)"
   ]
  },
  {
   "cell_type": "code",
<<<<<<< HEAD
   "execution_count": 12,
=======
   "execution_count": 91,
>>>>>>> 0cea14bd65878662d3e4b5f209c876e310637d40
   "id": "23a60ce7-03a9-45c6-bde9-5d18508b6a9a",
   "metadata": {},
   "outputs": [
    {
     "data": {
      "text/html": [
       "<div>\n",
       "<style scoped>\n",
       "    .dataframe tbody tr th:only-of-type {\n",
       "        vertical-align: middle;\n",
       "    }\n",
       "\n",
       "    .dataframe tbody tr th {\n",
       "        vertical-align: top;\n",
       "    }\n",
       "\n",
       "    .dataframe thead th {\n",
       "        text-align: right;\n",
       "    }\n",
       "</style>\n",
       "<table border=\"1\" class=\"dataframe\">\n",
       "  <thead>\n",
       "    <tr style=\"text-align: right;\">\n",
       "      <th></th>\n",
       "      <th>Animal ID</th>\n",
       "      <th>Name</th>\n",
       "      <th>Month</th>\n",
       "      <th>Year</th>\n",
       "      <th>Outcome Type</th>\n",
       "      <th>Animal Type</th>\n",
       "      <th>Breed</th>\n",
       "      <th>Age upon Outcome</th>\n",
       "    </tr>\n",
       "  </thead>\n",
       "  <tbody>\n",
       "    <tr>\n",
       "      <th>11875</th>\n",
       "      <td>A857909</td>\n",
       "      <td>Yumi</td>\n",
       "      <td>Jun</td>\n",
       "      <td>2022</td>\n",
       "      <td>Adoption</td>\n",
       "      <td>Dog</td>\n",
       "      <td>Pit Bull Mix</td>\n",
       "      <td>8 months</td>\n",
       "    </tr>\n",
       "    <tr>\n",
       "      <th>11876</th>\n",
       "      <td>A853013</td>\n",
       "      <td>Ashe</td>\n",
       "      <td>Apr</td>\n",
       "      <td>2022</td>\n",
       "      <td>Adoption</td>\n",
       "      <td>Cat</td>\n",
       "      <td>Domestic Shorthair</td>\n",
       "      <td>5 months</td>\n",
       "    </tr>\n",
       "    <tr>\n",
       "      <th>11877</th>\n",
       "      <td>A862948</td>\n",
       "      <td>*Christine</td>\n",
       "      <td>Aug</td>\n",
       "      <td>2022</td>\n",
       "      <td>Transfer</td>\n",
       "      <td>Cat</td>\n",
       "      <td>Domestic Shorthair Mix</td>\n",
       "      <td>3 months</td>\n",
       "    </tr>\n",
       "    <tr>\n",
       "      <th>11878</th>\n",
       "      <td>A850898</td>\n",
       "      <td>Xena</td>\n",
       "      <td>Feb</td>\n",
       "      <td>2022</td>\n",
       "      <td>Adoption</td>\n",
       "      <td>Dog</td>\n",
       "      <td>Siberian Husky Mix</td>\n",
       "      <td>2 months</td>\n",
       "    </tr>\n",
       "    <tr>\n",
       "      <th>11879</th>\n",
       "      <td>A869924</td>\n",
       "      <td>NaN</td>\n",
       "      <td>Dec</td>\n",
       "      <td>2022</td>\n",
       "      <td>Transfer</td>\n",
       "      <td>Cat</td>\n",
       "      <td>Domestic Shorthair</td>\n",
       "      <td>2 years</td>\n",
       "    </tr>\n",
       "  </tbody>\n",
       "</table>\n",
       "</div>"
      ],
      "text/plain": [
       "      Animal ID        Name Month  Year Outcome Type Animal Type  \\\n",
       "11875   A857909        Yumi   Jun  2022     Adoption         Dog   \n",
       "11876   A853013        Ashe   Apr  2022     Adoption         Cat   \n",
       "11877   A862948  *Christine   Aug  2022     Transfer         Cat   \n",
       "11878   A850898        Xena   Feb  2022     Adoption         Dog   \n",
       "11879   A869924         NaN   Dec  2022     Transfer         Cat   \n",
       "\n",
       "                        Breed Age upon Outcome  \n",
       "11875            Pit Bull Mix         8 months  \n",
       "11876      Domestic Shorthair         5 months  \n",
       "11877  Domestic Shorthair Mix         3 months  \n",
       "11878      Siberian Husky Mix         2 months  \n",
       "11879      Domestic Shorthair          2 years  "
      ]
     },
<<<<<<< HEAD
     "execution_count": 12,
=======
     "execution_count": 91,
>>>>>>> 0cea14bd65878662d3e4b5f209c876e310637d40
     "metadata": {},
     "output_type": "execute_result"
    }
   ],
   "source": [
    "# Resetting index for tracking purposes\n",
    "index_reset_df = defined_year_df.reset_index(drop=True)\n",
    "index_reset_df.tail(5)"
   ]
  },
  {
   "cell_type": "code",
<<<<<<< HEAD
   "execution_count": 13,
=======
   "execution_count": 92,
>>>>>>> 0cea14bd65878662d3e4b5f209c876e310637d40
   "id": "e63c51bc-1287-4ae8-a1e9-e74650518c3b",
   "metadata": {},
   "outputs": [
    {
     "data": {
      "text/plain": [
       "Dog          6412\n",
       "Cat          4766\n",
       "Other         592\n",
       "Bird          109\n",
       "Livestock       1\n",
       "Name: Animal Type, dtype: int64"
      ]
     },
<<<<<<< HEAD
     "execution_count": 13,
=======
     "execution_count": 92,
>>>>>>> 0cea14bd65878662d3e4b5f209c876e310637d40
     "metadata": {},
     "output_type": "execute_result"
    }
   ],
   "source": [
    "#Display total animal counts\n",
    "index_reset_df[\"Animal Type\"].value_counts()"
   ]
  },
  {
   "cell_type": "code",
<<<<<<< HEAD
   "execution_count": 14,
=======
   "execution_count": 93,
>>>>>>> 0cea14bd65878662d3e4b5f209c876e310637d40
   "id": "97beb8dd-9ded-4583-a5cd-ccf70e11523a",
   "metadata": {},
   "outputs": [
    {
     "data": {
      "text/html": [
       "<div>\n",
       "<style scoped>\n",
       "    .dataframe tbody tr th:only-of-type {\n",
       "        vertical-align: middle;\n",
       "    }\n",
       "\n",
       "    .dataframe tbody tr th {\n",
       "        vertical-align: top;\n",
       "    }\n",
       "\n",
       "    .dataframe thead th {\n",
       "        text-align: right;\n",
       "    }\n",
       "</style>\n",
       "<table border=\"1\" class=\"dataframe\">\n",
       "  <thead>\n",
       "    <tr style=\"text-align: right;\">\n",
       "      <th></th>\n",
       "      <th>Animal ID</th>\n",
       "      <th>Name</th>\n",
       "      <th>Month</th>\n",
       "      <th>Year</th>\n",
       "      <th>Outcome Type</th>\n",
       "      <th>Animal Type</th>\n",
       "      <th>Breed</th>\n",
       "      <th>Age upon Outcome</th>\n",
       "    </tr>\n",
       "  </thead>\n",
       "  <tbody>\n",
       "    <tr>\n",
       "      <th>0</th>\n",
       "      <td>A860161</td>\n",
       "      <td>*Lalo</td>\n",
       "      <td>Jul</td>\n",
       "      <td>2022</td>\n",
       "      <td>Adoption</td>\n",
       "      <td>Cat</td>\n",
       "      <td>Domestic Shorthair</td>\n",
       "      <td>2 months</td>\n",
       "    </tr>\n",
       "    <tr>\n",
       "      <th>2</th>\n",
       "      <td>A848454</td>\n",
       "      <td>Olli</td>\n",
       "      <td>Jan</td>\n",
       "      <td>2022</td>\n",
       "      <td>Adoption</td>\n",
       "      <td>Cat</td>\n",
       "      <td>Domestic Shorthair Mix</td>\n",
       "      <td>7 years</td>\n",
       "    </tr>\n",
       "    <tr>\n",
       "      <th>3</th>\n",
       "      <td>A822928</td>\n",
       "      <td>*Primrose</td>\n",
       "      <td>Jan</td>\n",
       "      <td>2022</td>\n",
       "      <td>Adoption</td>\n",
       "      <td>Cat</td>\n",
       "      <td>Domestic Shorthair</td>\n",
       "      <td>11 years</td>\n",
       "    </tr>\n",
       "    <tr>\n",
       "      <th>5</th>\n",
       "      <td>A852822</td>\n",
       "      <td>*Dreamsicle</td>\n",
       "      <td>Mar</td>\n",
       "      <td>2022</td>\n",
       "      <td>Adoption</td>\n",
       "      <td>Cat</td>\n",
       "      <td>Domestic Shorthair</td>\n",
       "      <td>2 years</td>\n",
       "    </tr>\n",
       "    <tr>\n",
       "      <th>13</th>\n",
       "      <td>A856357</td>\n",
       "      <td>*Manon</td>\n",
       "      <td>Jun</td>\n",
       "      <td>2022</td>\n",
       "      <td>Adoption</td>\n",
       "      <td>Cat</td>\n",
       "      <td>Domestic Shorthair</td>\n",
       "      <td>2 months</td>\n",
       "    </tr>\n",
       "  </tbody>\n",
       "</table>\n",
       "</div>"
      ],
      "text/plain": [
       "   Animal ID         Name Month  Year Outcome Type Animal Type  \\\n",
       "0    A860161        *Lalo   Jul  2022     Adoption         Cat   \n",
       "2    A848454         Olli   Jan  2022     Adoption         Cat   \n",
       "3    A822928    *Primrose   Jan  2022     Adoption         Cat   \n",
       "5    A852822  *Dreamsicle   Mar  2022     Adoption         Cat   \n",
       "13   A856357       *Manon   Jun  2022     Adoption         Cat   \n",
       "\n",
       "                     Breed Age upon Outcome  \n",
       "0       Domestic Shorthair         2 months  \n",
       "2   Domestic Shorthair Mix          7 years  \n",
       "3       Domestic Shorthair         11 years  \n",
       "5       Domestic Shorthair          2 years  \n",
       "13      Domestic Shorthair         2 months  "
      ]
     },
<<<<<<< HEAD
     "execution_count": 14,
=======
     "execution_count": 93,
>>>>>>> 0cea14bd65878662d3e4b5f209c876e310637d40
     "metadata": {},
     "output_type": "execute_result"
    }
   ],
   "source": [
    "# Create separate dataframe for cat outcomes\n",
    "Cat = [\"Cat\"] \n",
    "cat_outcomes_df = index_reset_df[index_reset_df[\"Animal Type\"].isin(Cat)]\n",
    "cat_outcomes_df.head(5)"
   ]
  },
  {
   "cell_type": "code",
<<<<<<< HEAD
   "execution_count": 15,
=======
   "execution_count": 94,
>>>>>>> 0cea14bd65878662d3e4b5f209c876e310637d40
   "id": "753d6ecd-1d0e-4f8d-a92d-f5d4ad175e04",
   "metadata": {},
   "outputs": [
    {
     "data": {
      "text/plain": [
       "Aug    587\n",
       "Jun    581\n",
       "Jul    536\n",
       "May    503\n",
       "Sep    430\n",
       "Jan    375\n",
       "Dec    368\n",
       "Nov    335\n",
       "Oct    316\n",
       "Apr    296\n",
       "Mar    228\n",
       "Feb    211\n",
       "Name: Month, dtype: int64"
      ]
     },
<<<<<<< HEAD
     "execution_count": 15,
=======
     "execution_count": 94,
>>>>>>> 0cea14bd65878662d3e4b5f209c876e310637d40
     "metadata": {},
     "output_type": "execute_result"
    }
   ],
   "source": [
    "# Data check: display monthly cat totals\n",
    "cat_outcomes_df[\"Month\"].value_counts()"
   ]
  },
  {
   "cell_type": "code",
<<<<<<< HEAD
   "execution_count": 16,
=======
   "execution_count": 95,
>>>>>>> 0cea14bd65878662d3e4b5f209c876e310637d40
   "id": "4a7fd0c6-559b-4732-9c90-982597fb64f6",
   "metadata": {},
   "outputs": [
    {
     "data": {
      "text/plain": [
       "Adoption           3194\n",
       "Transfer           1177\n",
       "Return to Owner     152\n",
       "Euthanasia          142\n",
       "Died                 54\n",
       "Rto-Adopt            31\n",
       "Disposal             12\n",
       "Missing               3\n",
       "Relocate              1\n",
       "Name: Outcome Type, dtype: int64"
      ]
     },
<<<<<<< HEAD
     "execution_count": 16,
=======
     "execution_count": 95,
>>>>>>> 0cea14bd65878662d3e4b5f209c876e310637d40
     "metadata": {},
     "output_type": "execute_result"
    }
   ],
   "source": [
    "# Data check: display cat outcome types\n",
    "cat_outcomes_df[\"Outcome Type\"].value_counts()"
   ]
  },
  {
   "cell_type": "code",
<<<<<<< HEAD:Project Notebook/Project1_Latest.ipynb
   "execution_count": 106,
=======
<<<<<<< HEAD
   "execution_count": 17,
   "id": "7483ef8c",
=======
   "execution_count": 96,
>>>>>>> 8ede082c53e9f0537e4bcae05ceb0ee3c524b329:Project Notebook/Project1.ipynb
   "id": "0b3c4c1a",
>>>>>>> 0cea14bd65878662d3e4b5f209c876e310637d40
   "metadata": {},
   "outputs": [
    {
     "data": {
<<<<<<< HEAD:Project Notebook/Project1_Latest.ipynb
      "image/png": "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",
=======
<<<<<<< HEAD
      "image/png": "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",
=======
      "image/png": "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",
>>>>>>> 0cea14bd65878662d3e4b5f209c876e310637d40
>>>>>>> 8ede082c53e9f0537e4bcae05ceb0ee3c524b329:Project Notebook/Project1.ipynb
      "text/plain": [
       "<Figure size 640x480 with 1 Axes>"
      ]
     },
     "metadata": {},
     "output_type": "display_data"
    }
   ],
   "source": [
    "# Plotting Cat Outcomes\n",
    "desired_outcomes = ['Adoption', 'Rto-Adopt', 'Transfer']\n",
    "outcome_counts = {'Adoption': 3194, 'Rto-Adopt': 152, 'Transfer': 1117}\n",
<<<<<<< HEAD:Project Notebook/Project1_Latest.ipynb
    "outcome_colors = {'Adoption': 'brown', 'Rto-Adopt': 'pink', 'Transfer': 'beige'}\n",
    "outcome_types = list(outcome_counts.keys())\n",
    "counts = list(outcome_counts.values())\n",
    "\n",
    "plt.bar(outcome_types, counts, color=[outcome_colors[outcome] for outcome in outcome_types])\n",
=======
    "\n",
    "\n",
    "outcome_colors = {'Adoption': 'brown', 'Rto-Adopt': 'pink', 'Transfer': 'beige'}\n",
    "\n",
    "\n",
    "outcome_types = list(outcome_counts.keys())\n",
    "counts = list(outcome_counts.values())\n",
    "\n",
    "\n",
    "plt.bar(outcome_types, counts, color=[outcome_colors[outcome] for outcome in outcome_types])\n",
    "\n",
    "\n",
>>>>>>> 8ede082c53e9f0537e4bcae05ceb0ee3c524b329:Project Notebook/Project1.ipynb
    "plt.xlabel('Outcome Types')\n",
    "plt.ylabel('Counts')\n",
    "plt.title('Top 3 outcomes for cats')\n",
    "\n",
    "for index, value in enumerate(outcome_counts.values()):  \n",
    "    plt.text(index, value, str(value), ha='center', va='bottom')\n",
<<<<<<< HEAD:Project Notebook/Project1_Latest.ipynb
=======
    "\n",
    "\n",
>>>>>>> 8ede082c53e9f0537e4bcae05ceb0ee3c524b329:Project Notebook/Project1.ipynb
    "\n",
    "plt.tight_layout()\n",
    "plt.show()\n"
   ]
  },
  {
   "cell_type": "code",
<<<<<<< HEAD
   "execution_count": 19,
=======
   "execution_count": 97,
   "id": "19e26cad-9426-4b68-8f46-6b00c8683c97",
   "metadata": {},
   "outputs": [
    {
     "data": {
      "text/plain": [
       "Domestic Shorthair                         3140\n",
       "Domestic Shorthair Mix                      925\n",
       "Domestic Medium Hair                        276\n",
       "Domestic Longhair                           109\n",
       "Siamese                                      80\n",
       "Domestic Medium Hair Mix                     77\n",
       "Domestic Longhair Mix                        67\n",
       "Siamese Mix                                  42\n",
       "Maine Coon                                    7\n",
       "Snowshoe Mix                                  5\n",
       "Russian Blue Mix                              4\n",
       "Manx                                          3\n",
       "Snowshoe                                      3\n",
       "Manx Mix                                      3\n",
       "Himalayan                                     3\n",
       "Devon Rex                                     2\n",
       "Ragdoll                                       2\n",
       "Russian Blue                                  2\n",
       "Maine Coon Mix                                2\n",
       "Balinese Mix                                  2\n",
       "Ragdoll Mix                                   1\n",
       "Siamese/Domestic Medium Hair                  1\n",
       "Siamese/Munchkin Shorthair                    1\n",
       "Munchkin Longhair                             1\n",
       "Persian                                       1\n",
       "Bengal Mix                                    1\n",
       "Abyssinian                                    1\n",
       "Himalayan Mix                                 1\n",
       "Turkish Van Mix                               1\n",
       "Abyssinian Mix                                1\n",
       "Sphynx                                        1\n",
       "Domestic Shorthair/Domestic Medium Hair       1\n",
       "Name: Breed, dtype: int64"
      ]
     },
     "execution_count": 97,
     "metadata": {},
     "output_type": "execute_result"
    }
   ],
   "source": [
    "# Data check: Cat Breeds\n",
    "cat_outcomes_df[\"Breed\"].value_counts()"
   ]
  },
  {
   "cell_type": "code",
   "execution_count": 98,
   "id": "2f7bf05e-c255-4aad-b28f-f7c110e1a8eb",
   "metadata": {},
   "outputs": [
    {
     "data": {
      "image/png": "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",
      "text/plain": [
       "<Figure size 640x480 with 1 Axes>"
      ]
     },
     "metadata": {},
     "output_type": "display_data"
    }
   ],
   "source": [
    "# Plotting Most Popular Cat Breeds\n",
    "clabels = [\"Domestic Shorthair\", \"Domestic Shorthair Mix\", \"Domestic Medium Hair\", \"Other\"]\n",
    "csizes = [65.8, 19.4, 5.8, 9.0]\n",
    "ccolors = [\"coral\", \"lime\", \"cornflowerblue\", \"bisque\"]\n",
    "\n",
    "plt.pie(csizes, labels=clabels, colors=ccolors, autopct=\"%1.1f%%\", shadow=True, startangle=90)\n",
    "plt.title(\"Most Popular Adopted Cat Breeds\\n\" + \"Austin Animal Center, 2022\", bbox={'facecolor':'0.8', 'pad':5})\n",
    "\n",
    "plt.show()"
   ]
  },
  {
   "cell_type": "code",
   "execution_count": 99,
>>>>>>> 0cea14bd65878662d3e4b5f209c876e310637d40
   "id": "2d34fa04-d89c-48a9-93b8-cec24cb84953",
   "metadata": {},
   "outputs": [
    {
     "data": {
      "text/html": [
       "<div>\n",
       "<style scoped>\n",
       "    .dataframe tbody tr th:only-of-type {\n",
       "        vertical-align: middle;\n",
       "    }\n",
       "\n",
       "    .dataframe tbody tr th {\n",
       "        vertical-align: top;\n",
       "    }\n",
       "\n",
       "    .dataframe thead th {\n",
       "        text-align: right;\n",
       "    }\n",
       "</style>\n",
       "<table border=\"1\" class=\"dataframe\">\n",
       "  <thead>\n",
       "    <tr style=\"text-align: right;\">\n",
       "      <th></th>\n",
       "      <th>Animal ID</th>\n",
       "      <th>Name</th>\n",
       "      <th>Month</th>\n",
       "      <th>Year</th>\n",
       "      <th>Outcome Type</th>\n",
       "      <th>Animal Type</th>\n",
       "      <th>Breed</th>\n",
       "      <th>Age upon Outcome</th>\n",
       "    </tr>\n",
       "  </thead>\n",
       "  <tbody>\n",
       "    <tr>\n",
       "      <th>1</th>\n",
       "      <td>A595061</td>\n",
       "      <td>Gypsy</td>\n",
       "      <td>Aug</td>\n",
       "      <td>2022</td>\n",
       "      <td>Return to Owner</td>\n",
       "      <td>Dog</td>\n",
       "      <td>Labrador Retriever Mix</td>\n",
       "      <td>11 years</td>\n",
       "    </tr>\n",
       "    <tr>\n",
       "      <th>4</th>\n",
       "      <td>A856853</td>\n",
       "      <td>Jameson</td>\n",
       "      <td>May</td>\n",
       "      <td>2022</td>\n",
       "      <td>Adoption</td>\n",
       "      <td>Dog</td>\n",
       "      <td>Black Mouth Cur Mix</td>\n",
       "      <td>6 months</td>\n",
       "    </tr>\n",
       "    <tr>\n",
       "      <th>6</th>\n",
       "      <td>A851472</td>\n",
       "      <td>A851472</td>\n",
       "      <td>Feb</td>\n",
       "      <td>2022</td>\n",
       "      <td>Transfer</td>\n",
       "      <td>Dog</td>\n",
       "      <td>Cairn Terrier Mix</td>\n",
       "      <td>1 year</td>\n",
       "    </tr>\n",
       "    <tr>\n",
       "      <th>7</th>\n",
       "      <td>A870443</td>\n",
       "      <td>Heidi</td>\n",
       "      <td>Dec</td>\n",
       "      <td>2022</td>\n",
       "      <td>Adoption</td>\n",
       "      <td>Dog</td>\n",
       "      <td>Jack Russell Terrier/Chihuahua Shorthair</td>\n",
       "      <td>12 years</td>\n",
       "    </tr>\n",
       "    <tr>\n",
       "      <th>8</th>\n",
       "      <td>A851434</td>\n",
       "      <td>Taco Bell</td>\n",
       "      <td>Feb</td>\n",
       "      <td>2022</td>\n",
       "      <td>Transfer</td>\n",
       "      <td>Dog</td>\n",
       "      <td>Chihuahua Shorthair</td>\n",
       "      <td>12 years</td>\n",
       "    </tr>\n",
       "  </tbody>\n",
       "</table>\n",
       "</div>"
      ],
      "text/plain": [
       "  Animal ID       Name Month  Year     Outcome Type Animal Type  \\\n",
       "1   A595061      Gypsy   Aug  2022  Return to Owner         Dog   \n",
       "4   A856853    Jameson   May  2022         Adoption         Dog   \n",
       "6   A851472    A851472   Feb  2022         Transfer         Dog   \n",
       "7   A870443      Heidi   Dec  2022         Adoption         Dog   \n",
       "8   A851434  Taco Bell   Feb  2022         Transfer         Dog   \n",
       "\n",
       "                                      Breed Age upon Outcome  \n",
       "1                    Labrador Retriever Mix         11 years  \n",
       "4                       Black Mouth Cur Mix         6 months  \n",
       "6                         Cairn Terrier Mix           1 year  \n",
       "7  Jack Russell Terrier/Chihuahua Shorthair         12 years  \n",
       "8                       Chihuahua Shorthair         12 years  "
      ]
     },
<<<<<<< HEAD
     "execution_count": 19,
=======
     "execution_count": 99,
>>>>>>> 0cea14bd65878662d3e4b5f209c876e310637d40
     "metadata": {},
     "output_type": "execute_result"
    }
   ],
   "source": [
    "# Create separate dataframe for dog outcomes\n",
    "Dog = [\"Dog\"] \n",
    "dog_outcomes_df = index_reset_df[index_reset_df[\"Animal Type\"].isin(Dog)]\n",
    "dog_outcomes_df.head(5)"
   ]
  },
  {
   "cell_type": "code",
<<<<<<< HEAD
   "execution_count": 20,
=======
   "execution_count": 100,
>>>>>>> 0cea14bd65878662d3e4b5f209c876e310637d40
   "id": "0a378913-b8e9-4f7e-8d6f-65800c5adbe3",
   "metadata": {},
   "outputs": [
    {
     "data": {
      "text/plain": [
       "Aug    641\n",
       "Apr    603\n",
       "Jan    600\n",
       "Jul    583\n",
       "Sep    562\n",
       "Jun    551\n",
       "Mar    539\n",
       "Feb    536\n",
       "May    519\n",
       "Oct    441\n",
       "Dec    435\n",
       "Nov    402\n",
       "Name: Month, dtype: int64"
      ]
     },
<<<<<<< HEAD
     "execution_count": 20,
=======
     "execution_count": 100,
>>>>>>> 0cea14bd65878662d3e4b5f209c876e310637d40
     "metadata": {},
     "output_type": "execute_result"
    }
   ],
   "source": [
    "# Data check: display monthly dog totals\n",
    "dog_outcomes_df[\"Month\"].value_counts()"
   ]
  },
  {
   "cell_type": "code",
<<<<<<< HEAD
   "execution_count": 21,
=======
   "execution_count": 101,
>>>>>>> 0cea14bd65878662d3e4b5f209c876e310637d40
   "id": "4ee0e2eb-2e5b-43e9-ba3b-9e1e83f0cf94",
   "metadata": {},
   "outputs": [
    {
     "data": {
      "text/plain": [
       "Adoption           3410\n",
       "Transfer           1782\n",
       "Return to Owner     951\n",
       "Rto-Adopt           123\n",
       "Euthanasia           97\n",
       "Died                 34\n",
       "Disposal             13\n",
       "Stolen                2\n",
       "Name: Outcome Type, dtype: int64"
      ]
     },
<<<<<<< HEAD
     "execution_count": 21,
=======
     "execution_count": 101,
>>>>>>> 0cea14bd65878662d3e4b5f209c876e310637d40
     "metadata": {},
     "output_type": "execute_result"
    }
   ],
   "source": [
    "# Data check: display dog outcome types\n",
    "dog_outcomes_df[\"Outcome Type\"].value_counts()"
   ]
  },
  {
   "cell_type": "code",
<<<<<<< HEAD:Project Notebook/Project1_Latest.ipynb
   "execution_count": 107,
=======
<<<<<<< HEAD
   "execution_count": 23,
   "id": "aa43ff32",
=======
   "execution_count": 102,
>>>>>>> 8ede082c53e9f0537e4bcae05ceb0ee3c524b329:Project Notebook/Project1.ipynb
   "id": "653b31fd",
>>>>>>> 0cea14bd65878662d3e4b5f209c876e310637d40
   "metadata": {},
   "outputs": [
    {
     "data": {
<<<<<<< HEAD:Project Notebook/Project1_Latest.ipynb
      "image/png": "iVBORw0KGgoAAAANSUhEUgAAAnYAAAHWCAYAAAD6oMSKAAAAOXRFWHRTb2Z0d2FyZQBNYXRwbG90bGliIHZlcnNpb24zLjcuMSwgaHR0cHM6Ly9tYXRwbG90bGliLm9yZy/bCgiHAAAACXBIWXMAAA9hAAAPYQGoP6dpAABVRUlEQVR4nO3deVxWZf7/8fctm4BwCyibIu47ammjWJP7mqKTpWWhzpiWpuZomzWVNpVauZVl1s80zdJpJsyMcNc094VJTU3LXRBTvHFFgev3R1/PdAsukAoeX8/H4zwenut8zjnXdXtz8+Zst8MYYwQAAIBbXrHC7gAAAACuD4IdAACATRDsAAAAbIJgBwAAYBMEOwAAAJsg2AEAANgEwQ4AAMAmCHYAAAA2QbADAACwCYIdYDMOh+OapmXLlt3wvjz22GOqXbu2SpYsKV9fX1WtWlXPPPOMfv311xu+77wkJiZq+PDhhbLvombz5s1q0qSJnE6nHA6Hxo8ff9P7sHfvXjkcDk2bNu2m7xuwK8/C7gCA62v16tVu8//85z+1dOlSLVmyxK29Zs2aN7wvp0+fVt++fVW5cmUVL15cGzZs0Ouvv67ExERt3rxZ3t7eN7wPv5eYmKj33nuPcCfpb3/7m06fPq1Zs2YpKChI5cuXL+wuAbgOCHaAzTRq1MhtvnTp0ipWrFiu9pvh888/d5tv3ry5AgIC1L9/f61cuVLNmze/6X3Cb7Zu3ao+ffqoXbt212V7Fy5ckMPhkKcnv1aAwsSpWOA2dPz4cfXv319lypSRt7e3KlasqBdffFGZmZludQ6HQwMGDNDkyZNVtWpV+fj4qGbNmpo1a1aB9126dGlJuqYAsH//fj366KMKDQ2Vj4+PatSooTFjxignJ8eqWbZsWZ6nli89zderVy+999571rguTnv37pUk5eTk6N1331W9evXk6+urkiVLqlGjRpo7d661zZycHL355puqXr26fHx8FBoaqh49eujgwYNu+27atKlq166t1atXq3HjxvL19VX58uU1depUSdI333yjO++8U35+foqJiVFSUlKuse/atUvdu3d3G/vF/v++P6+99pqqVatm9blOnTqaMGHCZV/TadOmyeFwKCsrS5MmTbJeh4u2bt2qTp06KSgoSMWLF1e9evX0ySefuG3j4ms+Y8YMDR06VGXKlJGPj49279592f0ePnxYXbt2VUBAgJxOp7p166bU1NQ8a+fOnavY2Fj5+fkpICBArVq1ynUkWpK++uor1alTRz4+PqpYsaImTJig4cOHu41Hkr744gs1bNhQTqdTfn5+qlixov72t79dtq/ALc0AsLWePXsaf39/a/7s2bOmTp06xt/f37z99ttmwYIF5qWXXjKenp6mffv2butKMlFRUaZmzZrm888/N3PnzjVt27Y1kswXX3xxzX24cOGCOXXqlFm5cqWpXr26ueeee0xWVtYV10lLSzNlypQxpUuXNh988IFJSkoyAwYMMJJMv379rLqlS5caSWbp0qVu6+/Zs8dIMlOnTjXGGLN7927zwAMPGElm9erV1nTu3DljjDHx8fHG4XCYxx57zHz11Vfm22+/Na+//rqZMGGCtc2+ffsaSWbAgAEmKSnJfPDBB6Z06dImKirKHD161Kpr0qSJCQkJMdWqVTNTpkwx8+fPNx06dDCSzIgRI0xMTIz5/PPPTWJiomnUqJHx8fExhw4dstbftm2bcTqdJiYmxkyfPt0sWLDADB061BQrVswMHz7cqhs5cqTx8PAwr7zyilm8eLFJSkoy48ePd6vJ63VdvXq1kWQeeOAB63UwxpgdO3aYgIAAU6lSJTN9+nTzzTffmIcffthIMqNHj871mpcpU8Y88MADZu7cuWbevHnm2LFjee7zzJkzpkaNGsbpdJp3333XzJ8/3wwaNMiUK1fO7f/IGGNmzpxpJJnWrVubOXPmmNmzZ5v69esbb29vs2LFCqvu22+/NcWKFTNNmzY1CQkJ5osvvjANGzY05cuXN7//1bZq1SrjcDjMQw89ZBITE82SJUvM1KlTTXx8/GVfI+BWRrADbO7SYPfBBx8YSeZf//qXW93o0aONJLNgwQKrTZLx9fU1qampVltWVpapXr26qVy58jXt/2KIuDi1b9/eZGRkXHW9559/3kgya9eudWvv16+fcTgcZufOncaYaw92xhjz5JNPmrz+nv3uu++MJPPiiy9etj/bt283kkz//v3d2teuXWskmRdeeMFqa9KkiZFkNmzYYLUdO3bMeHh4GF9fX7cQl5ycbCSZd955x2pr06aNKVu2rHG5XG77GjBggClevLg5fvy4McaYDh06mHr16l22z1ciyTz55JNubQ899JDx8fEx+/fvd2tv166d8fPzMydOnDDG/O81v/fee69pX5MmTTKSzFdffeXW3qdPH7f/o+zsbBMZGWliYmJMdna2VXfy5EkTGhpqGjdubLXdddddJioqymRmZrrVhYSEuP0fv/3220aS1XfA7jgVC9xmlixZIn9/fz3wwANu7b169ZIkLV682K29RYsWCgsLs+Y9PDzUrVs37d69O9cpyLzExMRo/fr1Wr58uSZMmKDNmzerVatWOnPmzFX7WbNmTf3pT3/K1U9jTK6bQf6Ib7/9VpL05JNPXrZm6dKl1v5/709/+pNq1KiR63WLiIhQ/fr1rfng4GCFhoaqXr16ioyMtNpr1KghSdq3b58k6dy5c1q8eLH+8pe/yM/PT1lZWdbUvn17nTt3TmvWrLH2/d///lf9+/fX/PnzlZGRUcBX4DdLlixRixYtFBUV5dbeq1cvnTlzJtfp0C5dulzTdpcuXaqAgADFxcW5tXfv3t1tfufOnTp8+LDi4+NVrNj/fj2VKFFCXbp00Zo1a3TmzBmdPn1aGzZsUOfOnd1uwClRooQ6duzots277rpLktS1a1f961//0qFDh66pz8CtimAH3GaOHTum8PDwXNchhYaGytPTU8eOHXNrDw8Pz7WNi22X1ubF399fDRo00L333qtBgwYpISFBa9eu1eTJk6/az4iIiFztF0PRtez7Wh09elQeHh55jvX3/ZF02T5d2p/g4OBcdd7e3rnaLwaTc+fOWfvJysrSu+++Ky8vL7epffv2kmQ9LmbYsGF6++23tWbNGrVr104hISFq0aKFNmzYcK1DzzXG/LzmedVebru//+Pgoktf76u9xjk5OUpPT1d6erqMMXlu89K2e++9V3PmzFFWVpZ69OihsmXLqnbt2rlu7AHsgmAH3GZCQkJ05MgRGWPc2tPS0pSVlaVSpUq5ted1gfvFtpCQkHzvv0GDBipWrJh++umnq/YzJSUlV/vhw4clyepn8eLFJSnXjR/5eVZe6dKllZ2dfdmL+S/2R9Jl+3Tp61ZQQUFB8vDwUK9evbR+/fo8p4sBz9PTU0OGDNGmTZt0/Phxff755zpw4IDatGlz1SOiebnW1/yiS/84uNJ2jxw5kqv90tf7aq9xsWLFFBQUpKCgIDkcjmvapiR16tRJixcvlsvl0rJly1S2bFl17949zxsygFsdwQ64zbRo0UKnTp3SnDlz3NqnT59uLf+9xYsXu/0Czc7O1uzZs1WpUiWVLVs23/tfvny5cnJyVLly5av288cff9SmTZty9dPhcKhZs2aSZD1/7YcffnCr+/3drBf5+PhIks6ePevWfvGRH5MmTbpsfy4+muXTTz91a1+/fr22b9+e63UrKD8/PzVr1kybN29WnTp11KBBg1xTXoG6ZMmSeuCBB/Tkk0/q+PHj1t2++dGiRQstWbLECnIXTZ8+XX5+fgV+ZE6zZs108uTJXP8nn332mdt8tWrVVKZMGX322Wduf3icPn1a//nPf6w7ZS8eBZ4zZ47Onz9v1Z06dUrz5s27bD98fHzUpEkTjR49WtJvD2kG7IYHDgG3mR49eui9995Tz549tXfvXsXExGjlypV644031L59e7Vs2dKtvlSpUmrevLleeukl+fv76/3339eOHTuu+siTefPm6aOPPlJcXJyio6N14cIFbdiwQePHj1flypX12GOPXXH9v//975o+fbruu+8+vfrqq4qOjtY333yj999/X/369VPVqlUl/XY6r2XLlho5cqSCgoIUHR2txYsX68svv8y1zZiYGEnS6NGj1a5dO3l4eKhOnTr685//rPj4eL322ms6cuSIOnToIB8fH23evFl+fn4aOHCgqlWrpr59++rdd99VsWLF1K5dO+3du1cvvfSSoqKi9Pe//z0//w1XNGHCBN1zzz3685//rH79+ql8+fI6efKkdu/era+//tq6vrBjx46qXbu2GjRooNKlS2vfvn0aP368oqOjVaVKlXzv95VXXtG8efPUrFkzvfzyywoODtbMmTP1zTff6M0335TT6SzQeHr06KFx48apR48eev3111WlShUlJiZq/vz5bnXFihXTm2++qUceeUQdOnTQ448/rszMTL311ls6ceKERo0aZdW++uqruu+++9SmTRs99dRTys7O1ltvvaUSJUro+PHjVt3LL7+sgwcPqkWLFipbtqxOnDihCRMmyMvLS02aNCnQeIAirXDv3QBwo116V6wxv92h+cQTT5iIiAjj6elpoqOjzbBhw6xHf1yk/7tz8v333zeVKlUyXl5epnr16mbmzJlX3e/27dvNAw88YKKjo03x4sVN8eLFTfXq1c0zzzxz2cdiXGrfvn2me/fuJiQkxHh5eZlq1aqZt956y+2OSWOMSUlJMQ888IAJDg42TqfTPProo2bDhg257orNzMw0jz32mCldurRxOBxGktmzZ48x5rc7MseNG2dq165tvL29jdPpNLGxsebrr7+21s/OzjajR482VatWNV5eXqZUqVLm0UcfNQcOHHDrT5MmTUytWrVyjSc6Otrcd999udqVxx2qe/bsMX/7299MmTJljJeXlyldurRp3Lixee2116yaMWPGmMaNG5tSpUoZb29vU65cOdO7d2+zd+/eq762ee3TGGO2bNliOnbsaJxOp/H29jZ169Z1ew2N+d9dsfl55M3BgwdNly5dTIkSJUxAQIDp0qWLWbVqVa7/I2OMmTNnjmnYsKEpXry48ff3Ny1atDDff/99rm0mJCSYmJgYa+yjRo0ygwYNMkFBQVbNvHnzTLt27UyZMmWMt7e3CQ0NNe3bt3d7dApgJw5jLrnQBgD+j8Ph0JNPPqmJEycWdleAq7pw4YLq1aunMmXKaMGCBYXdHaBQcCoWAHBL6t27t1q1aqWIiAilpqbqgw8+0Pbt26/4zRuA3RHsAAC3pJMnT+rpp5/W0aNH5eXlpTvvvFOJiYm5rhMFbiecigUAALAJHncCAABgEwQ7AAAAmyDYAQAA2AQ3T1yjnJwcHT58WAEBAdf8NToAAAB/lDFGJ0+eVGRkpIoVu/IxOYLdNTp8+LCioqIKuxsAAOA2deDAgat+lSPB7hoFBARI+u1FDQwMLOTeAACA20VGRoaioqKsLHIlBLtrdPH0a2BgIMEOAADcdNdyKRg3TwAAANgEwQ4AAMAmCjXYTZo0SXXq1LFOb8bGxurbb7+1lvfq1UsOh8NtatSokds2MjMzNXDgQJUqVUr+/v6Ki4vTwYMH3WrS09MVHx8vp9Mpp9Op+Ph4nThx4mYMEQAA4KYp1GBXtmxZjRo1Shs2bNCGDRvUvHlzderUSdu2bbNq2rZtq5SUFGtKTEx028bgwYOVkJCgWbNmaeXKlTp16pQ6dOig7Oxsq6Z79+5KTk5WUlKSkpKSlJycrPj4+Js2Tlw9xP/e448/LofDofHjx7u1f/jhh2ratKkCAwPlcDjyDOeEeADA7axQb57o2LGj2/zrr7+uSZMmac2aNapVq5YkycfHR+Hh4Xmu73K5NGXKFM2YMcP60udPP/1UUVFRWrRokdq0aaPt27crKSlJa9asUcOGDSVJH330kWJjY7Vz505Vq1btBo4QF10M8ZUrV5YkffLJJ+rUqZM2b95s/V9L0pw5c7R27VpFRkbm2saZM2fUtm1btW3bVsOGDctzP927d9fBgweVlJQkSerbt6/i4+P19ddf34BRAQBQtBSZu2Kzs7P1xRdf6PTp04qNjbXaly1bptDQUJUsWVJNmjTR66+/rtDQUEnSxo0bdeHCBbVu3dqqj4yMVO3atbVq1Sq1adNGq1evltPptEKdJDVq1EhOp1OrVq26bLDLzMxUZmamNZ+RkXG9h3xbuZYQf+jQIQ0YMEDz58/Xfffdl2sbgwcPlvTbeyIvhHgAwO2u0G+e2LJli0qUKCEfHx898cQTSkhIUM2aNSVJ7dq108yZM7VkyRKNGTNG69evV/Pmza3AlZqaKm9vbwUFBbltMywsTKmpqVbNxSD4e6GhoVZNXkaOHGmdznM6nTyc+DrKzs7WrFmz3EJ8Tk6O4uPj9cwzz7gdwcuPq4V4AADsrtCP2FWrVk3Jyck6ceKE/vOf/6hnz55avny5atasqW7dull1tWvXVoMGDRQdHa1vvvlG999//2W3aYxxe9ZLXs99ubTmUsOGDdOQIUOs+YsPB0TBbdmyRbGxsTp37pxKlCjhFuJHjx4tT09PDRo0qMDbL2iIBwDALgo92Hl7e1vXXTVo0EDr16/XhAkTNHny5Fy1ERERio6O1q5duyRJ4eHhOn/+vNLT092O2qWlpalx48ZWzZEjR3Jt6+jRowoLC7tsv3x8fOTj4/OHxgZ3lwvxZ8+e1YQJE7Rp06Y//D28BQnxAADYRaGfir2UMcbt2rbfO3bsmA4cOKCIiAhJUv369eXl5aWFCxdaNSkpKdq6dasV7GJjY+VyubRu3TqrZu3atXK5XFYNbo6LIb5BgwYaOXKk6tatqwkTJmjFihVKS0tTuXLl5OnpKU9PT+3bt09Dhw5V+fLlr3n7BQ3xAADYRaEesXvhhRfUrl07RUVF6eTJk5o1a5aWLVumpKQknTp1SsOHD1eXLl0UERGhvXv36oUXXlCpUqX0l7/8RZLkdDrVu3dvDR06VCEhIQoODtbTTz+tmJgY6y7ZGjVqqG3bturTp491FLBv377q0KEDF9MXsoshPj4+3vr/uqhNmzaKj4/XX//612ve3u9D/J/+9CdJhHgAwO2lUIPdkSNHFB8fr5SUFDmdTtWpU0dJSUlq1aqVzp49qy1btmj69Ok6ceKEIiIi1KxZM82ePdvtS3DHjRsnT09Pde3aVWfPnlWLFi00bdo0eXh4WDUzZ87UoEGDrLtn4+LiNHHixJs+3tvZlUJ8SEiIQkJC3Oq9vLwUHh7uFr5TU1OVmpqq3bt3S/rtmr2AgACVK1dOwcHBhHgAwG3PYYwxhd2JW0FGRoacTqdcLpcCAwMLuzu3nN69e2vx4sVuIf65555Tq1at8qwvX768Bg8ebD3iRJKGDx+uESNG5KqdOnWqevXqJUk6fvy4Bg0apLlz50r6X4gvWbLk9R4SAAA3RX4yCMHuGhHsAABAYchPBilyN08AAACgYAh2AAAANlHoz7GDO563hvziagoAwEUcsQMAALAJgh0AAIBNEOwAAABsgmAHAABgEwQ7AAAAmyDYAQAA2ATBDgAAwCYIdgAAADZBsAMAALAJgh0AAIBNEOwAAABsgmAHAABgEwQ7AAAAmyDYAQAA2ATBDgAAwCYIdgAAADZBsAMAALAJgh0AAIBNEOwAAABsgmAHAABgEwQ7AAAAmyDYAQAA2ATBDgAAwCYIdgAAADZBsAMAALAJgh0AAIBNEOwAAABsgmAHAABgEwQ7AAAAmyDYAQAA2ATBDgAAwCYIdgAAADZBsAMAALAJgh0AAIBNEOwAAABsgmAHAABgEwQ7AAAAmyDYAQAA2EShBrtJkyapTp06CgwMVGBgoGJjY/Xtt99ay40xGj58uCIjI+Xr66umTZtq27ZtbtvIzMzUwIEDVapUKfn7+ysuLk4HDx50q0lPT1d8fLycTqecTqfi4+N14sSJmzFEAACAm6ZQg13ZsmU1atQobdiwQRs2bFDz5s3VqVMnK7y9+eabGjt2rCZOnKj169crPDxcrVq10smTJ61tDB48WAkJCZo1a5ZWrlypU6dOqUOHDsrOzrZqunfvruTkZCUlJSkpKUnJycmKj4+/6eMFAAC4oUwRExQUZP7f//t/Jicnx4SHh5tRo0ZZy86dO2ecTqf54IMPjDHGnDhxwnh5eZlZs2ZZNYcOHTLFihUzSUlJxhhjfvzxRyPJrFmzxqpZvXq1kWR27Nhxzf1yuVxGknG5XH90iFckiYkpXxMAwN7yk0GKzDV22dnZmjVrlk6fPq3Y2Fjt2bNHqampat26tVXj4+OjJk2aaNWqVZKkjRs36sKFC241kZGRql27tlWzevVqOZ1ONWzY0Kpp1KiRnE6nVQMAAGAHnoXdgS1btig2Nlbnzp1TiRIllJCQoJo1a1qhKywszK0+LCxM+/btkySlpqbK29tbQUFBuWpSU1OtmtDQ0Fz7DQ0NtWrykpmZqczMTGs+IyOjYAMEAAC4SQr9iF21atWUnJysNWvWqF+/furZs6d+/PFHa7nD4XCrN8bkarvUpTV51V9tOyNHjrRutnA6nYqKirrWIQEAABSKQg923t7eqly5sho0aKCRI0eqbt26mjBhgsLDwyUp11G1tLQ06yheeHi4zp8/r/T09CvWHDlyJNd+jx49muto4O8NGzZMLpfLmg4cOPCHxgkAAHCjFXqwu5QxRpmZmapQoYLCw8O1cOFCa9n58+e1fPlyNW7cWJJUv359eXl5udWkpKRo69atVk1sbKxcLpfWrVtn1axdu1Yul8uqyYuPj4/1GJaLEwAAQFFWqNfYvfDCC2rXrp2ioqJ08uRJzZo1S8uWLVNSUpIcDocGDx6sN954Q1WqVFGVKlX0xhtvyM/PT927d5ckOZ1O9e7dW0OHDlVISIiCg4P19NNPKyYmRi1btpQk1ahRQ23btlWfPn00efJkSVLfvn3VoUMHVatWrdDGDgAAcL0VarA7cuSI4uPjlZKSIqfTqTp16igpKUmtWrWSJD377LM6e/as+vfvr/T0dDVs2FALFixQQECAtY1x48bJ09NTXbt21dmzZ9WiRQtNmzZNHh4eVs3MmTM1aNAg6+7ZuLg4TZw48eYOFgAA4AZzGGNMYXfiVpCRkSGn0ymXy3VDT8te7cYQ4FL8CAOAveUngxS5a+wAAABQMAQ7AAAAmyDYAQAA2ATBDgAAwCYIdgAAADZBsAMAALAJgh0AAIBNEOwAAABsgmAHAABgEwQ7AAAAmyDYAQAA2ATBDgAAwCYIdgAAADZBsAMAALAJgh0AAIBNEOwAAABsgmAHAABgEwQ7AAAAmyDYAQAA2ATBDgAAwCYIdgAAADZBsAMAALAJgh0AAIBNEOwAAABsgmAHAABgEwQ7AAAAmyDYAQAA2ATBDgAAwCYIdgAAADZBsAMAALAJgh0AAIBNEOwAAABsgmAHAABgEwQ7AAAAmyDYAQAA2ATBDgAAwCYIdgAAADZBsAMAALAJgh0AAIBNEOwAAABsgmAHAABgEwQ7AAAAmyDYAQAA2EShBruRI0fqrrvuUkBAgEJDQ9W5c2ft3LnTraZXr15yOBxuU6NGjdxqMjMzNXDgQJUqVUr+/v6Ki4vTwYMH3WrS09MVHx8vp9Mpp9Op+Ph4nThx4kYPEQAA4KYp1GC3fPlyPfnkk1qzZo0WLlyorKwstW7dWqdPn3ara9u2rVJSUqwpMTHRbfngwYOVkJCgWbNmaeXKlTp16pQ6dOig7Oxsq6Z79+5KTk5WUlKSkpKSlJycrPj4+JsyTgAAgJvBYYwxhd2Ji44eParQ0FAtX75c9957r6TfjtidOHFCc+bMyXMdl8ul0qVLa8aMGerWrZsk6fDhw4qKilJiYqLatGmj7du3q2bNmlqzZo0aNmwoSVqzZo1iY2O1Y8cOVatW7ap9y8jIkNPplMvlUmBg4PUZcB4cDscN2zbsqQj9CAMAboD8ZJAidY2dy+WSJAUHB7u1L1u2TKGhoapatar69OmjtLQ0a9nGjRt14cIFtW7d2mqLjIxU7dq1tWrVKknS6tWr5XQ6rVAnSY0aNZLT6bRqAAAAbnWehd2Bi4wxGjJkiO655x7Vrl3bam/Xrp0efPBBRUdHa8+ePXrppZfUvHlzbdy4UT4+PkpNTZW3t7eCgoLcthcWFqbU1FRJUmpqqkJDQ3PtMzQ01Kq5VGZmpjIzM635jIyM6zFMAACAG6bIBLsBAwbohx9+0MqVK93aL55elaTatWurQYMGio6O1jfffKP777//stszxrid1szrFOelNb83cuRIjRgxIr/DAAAAKDRF4lTswIEDNXfuXC1dulRly5a9Ym1ERISio6O1a9cuSVJ4eLjOnz+v9PR0t7q0tDSFhYVZNUeOHMm1raNHj1o1lxo2bJhcLpc1HThwoCBDAwAAuGkKNdgZYzRgwAB9+eWXWrJkiSpUqHDVdY4dO6YDBw4oIiJCklS/fn15eXlp4cKFVk1KSoq2bt2qxo0bS5JiY2Plcrm0bt06q2bt2rVyuVxWzaV8fHwUGBjoNgEAABRlhXpXbP/+/fXZZ5/pq6++crsz1el0ytfXV6dOndLw4cPVpUsXRUREaO/evXrhhRe0f/9+bd++XQEBAZKkfv36ad68eZo2bZqCg4P19NNP69ixY9q4caM8PDwk/Xat3uHDhzV58mRJUt++fRUdHa2vv/76mvrKXbEoqrgrFgDsLT8ZpFCvsZs0aZIkqWnTpm7tU6dOVa9eveTh4aEtW7Zo+vTpOnHihCIiItSsWTPNnj3bCnWSNG7cOHl6eqpr1646e/asWrRooWnTplmhTpJmzpypQYMGWXfPxsXFaeLEiTd+kAAAADdJkXqOXVHGETsUVfwIA4C93bLPsQMAAEDBEewAAABsgmAHAABgEwQ7AAAAmyDYAQAA2ATBDgAAwCYIdgAAADZBsAMAALAJgh0AAIBNEOwAAABsgmAHAABgEwQ7AAAAmyDYAQAA2ATBDgAAwCYIdgAAADZBsAMAALAJgh0AAIBNEOwAAABsgmAHAABgEwQ7AAAAmyDYAQAA2ATBDgAAwCYIdgAAADZBsAMAALAJgh0AAIBNEOwAAABsgmAHAABgEwQ7AAAAmyDYAQAA2ATBDgAAwCYIdgAAADZBsAMAALAJgh0AAIBNEOwAAABsgmAHAABgEwQ7AAAAmyDYAQAA2ATBDgAAwCYIdgAAADZBsAMAALAJgh0AAIBNEOwAAABsgmAHAABgE4Ua7EaOHKm77rpLAQEBCg0NVefOnbVz5063GmOMhg8frsjISPn6+qpp06batm2bW01mZqYGDhyoUqVKyd/fX3FxcTp48KBbTXp6uuLj4+V0OuV0OhUfH68TJ07c6CECAADcNIUa7JYvX64nn3xSa9as0cKFC5WVlaXWrVvr9OnTVs2bb76psWPHauLEiVq/fr3Cw8PVqlUrnTx50qoZPHiwEhISNGvWLK1cuVKnTp1Shw4dlJ2dbdV0795dycnJSkpKUlJSkpKTkxUfH39TxwsAAHBDmSIkLS3NSDLLly83xhiTk5NjwsPDzahRo6yac+fOGafTaT744ANjjDEnTpwwXl5eZtasWVbNoUOHTLFixUxSUpIxxpgff/zRSDJr1qyxalavXm0kmR07dlxT31wul5FkXC7XHx7nlUhiYsrXBACwt/xkkCJ1jZ3L5ZIkBQcHS5L27Nmj1NRUtW7d2qrx8fFRkyZNtGrVKknSxo0bdeHCBbeayMhI1a5d26pZvXq1nE6nGjZsaNU0atRITqfTqgEAALjVeRZ2By4yxmjIkCG65557VLt2bUlSamqqJCksLMytNiwsTPv27bNqvL29FRQUlKvm4vqpqakKDQ3Ntc/Q0FCr5lKZmZnKzMy05jMyMgo4MgAAgJujyByxGzBggH744Qd9/vnnuZY5HA63eWNMrrZLXVqTV/2VtjNy5EjrRgun06moqKhrGQYAAEChKVCw27Rpk7Zs2WLNf/XVV+rcubNeeOEFnT9/Pt/bGzhwoObOnaulS5eqbNmyVnt4eLgk5TqqlpaWZh3FCw8P1/nz55Wenn7FmiNHjuTa79GjR3MdDbxo2LBhcrlc1nTgwIF8jwsAAOBmKlCwe/zxx/XTTz9Jkn755Rc99NBD8vPz0xdffKFnn332mrdjjNGAAQP05ZdfasmSJapQoYLb8goVKig8PFwLFy602s6fP6/ly5ercePGkqT69evLy8vLrSYlJUVbt261amJjY+VyubRu3TqrZu3atXK5XFbNpXx8fBQYGOg2AQAAFGkFuTsjMDDQ7N692xhjzKhRo0zr1q2NMcasXLnSlC1b9pq3069fP+N0Os2yZctMSkqKNZ05c8aqGTVqlHE6nebLL780W7ZsMQ8//LCJiIgwGRkZVs0TTzxhypYtaxYtWmQ2bdpkmjdvburWrWuysrKsmrZt25o6deqY1atXm9WrV5uYmBjToUOHa+4rd8UyFdUJAGBv+ckgBbp5whijnJwcSdKiRYvUoUMHSVJUVJR+/fXXa97OpEmTJElNmzZ1a586dap69eolSXr22Wd19uxZ9e/fX+np6WrYsKEWLFiggIAAq37cuHHy9PRU165ddfbsWbVo0ULTpk2Th4eHVTNz5kwNGjTIuns2Li5OEydOzPfYAQAAiiqHMcbkd6XmzZsrKipKLVu2VO/evfXjjz+qcuXKWr58uXr27Km9e/fegK4WroyMDDmdTrlcrht6WvZqN4UAlyrAjzAA4BaSnwxSoGvsxo0bp02bNmnAgAF68cUXVblyZUnSv//978teswYAAIAbq0BH7C7n3Llz8vT0lKdnkXk83nXDETsUVRyxAwB7u+FH7CpWrKhjx47laj937pyqVq1akE0CAADgDypQsNu7d6+ys7NztWdmZurgwYN/uFMAAADIv3wFu7lz52ru3LmSpPnz51vzc+fOVUJCgv75z3/mehYdANjBd999p44dOyoyMlIOh0Nz5sxxW+5wOPKc3nrrLasmNTVV8fHxCg8Pl7+/v+688079+9//tpbv3btXvXv3VoUKFeTr66tKlSrplVdeKdCD3wHcnvJ1MVznzp0l/fYB1rNnT7dlXl5eKl++vMaMGXPdOgcARcXp06dVt25d/fWvf1WXLl1yLU9JSXGb//bbb9W7d2+32vj4eLlcLs2dO1elSpXSZ599pm7dumnDhg264447tGPHDuXk5Gjy5MmqXLmytm7dqj59+uj06dN6++23b/gYAdz6CnTzRIUKFbR+/XqVKlXqRvSpSOLmCRRV3Dxx8zkcDiUkJFh/7Oalc+fOOnnypBYvXmy1lShRQpMmTVJ8fLzVFhISojfffFO9e/fOcztvvfWWJk2apF9++eW69R/AreWG3zyxZ8+e2yrUAUB+HDlyRN98802usHbPPfdo9uzZOn78uHJycjRr1ixlZmbmekj777lcLgUHB9/gHgOwiwI/l2Tx4sVavHix0tLSrG+huOjjjz/+wx0DgFvVJ598ooCAAN1///1u7bNnz1a3bt0UEhIiT09P+fn5KSEhQZUqVcpzOz///LPeffddLnEBcM0KFOxGjBihV199VQ0aNFBERASnDwHgdz7++GM98sgjKl68uFv7P/7xD6Wnp2vRokUqVaqU5syZowcffFArVqxQTEyMW+3hw4fVtm1bPfjgg3rsscduZvcB3MIKFOw++OADTZs2ze06EQCAtGLFCu3cuVOzZ892a//55581ceJEbd26VbVq1ZIk1a1bVytWrNB7772nDz74wKo9fPiwmjVrptjYWH344Yc3tf8Abm0Fusbu/PnzfHUYAORhypQpql+/vurWrevWfubMGUlSsWLuH7seHh5ul7McOnRITZs21Z133qmpU6fmqgeAKynQJ8Zjjz2mzz777Hr3BQCKrFOnTik5OVnJycmSfruJLDk5Wfv377dqMjIy9MUXX+R56rR69eqqXLmyHn/8ca1bt04///yzxowZo4ULF1p31x4+fFhNmzZVVFSU3n77bR09elSpqalKTU29GUMEYAMFOhV77tw5ffjhh1q0aJHq1KkjLy8vt+Vjx469Lp0DgKJiw4YNatasmTU/ZMgQSVLPnj01bdo0SdKsWbNkjNHDDz+ca30vLy8lJibq+eefV8eOHXXq1ClVrlxZn3zyidq3by9JWrBggXbv3q3du3erbNmybuvzWBsA16JAz7H7/Ydbrg06HFqyZMkf6lRRxHPsUFTxCx8A7C0/GaRAR+yWLl1aoI4BAADgxuGqXAAAAJso0BG7Zs2aXfGUoR1PxQK4Np/936M8gGvVfdu2wu4CYBsFCnb16tVzm79w4YKSk5O1detW9ezZ83r0CwAAAPlUoGA3bty4PNuHDx+uU6dO/aEOAQAAoGCu6zV2jz76KN8TCwAAUEiua7BbvXp1ru9GBAAAwM1RoFOx999/v9u8MUYpKSnasGGDXnrppevSMQAAAORPgYKd0+l0my9WrJiqVaumV199Va1bt74uHQMAAED+FCjYTZ069Xr3AwAAAH9QgYLdRRs3btT27dvlcDhUs2ZN3XHHHderXwAAAMinAgW7tLQ0PfTQQ1q2bJlKliwpY4xcLpeaNWumWbNmqXTp0te7nwAAALiKAt0VO3DgQGVkZGjbtm06fvy40tPTtXXrVmVkZGjQoEHXu48AAAC4BgU6YpeUlKRFixapRo0aVlvNmjX13nvvcfMEAABAISnQEbucnBx5eXnlavfy8lJOTs4f7hQAAADyr0DBrnnz5nrqqad0+PBhq+3QoUP6+9//rhYtWly3zgEAAODaFSjYTZw4USdPnlT58uVVqVIlVa5cWRUqVNDJkyf17rvvXu8+AgAA4BoU6Bq7qKgobdq0SQsXLtSOHTtkjFHNmjXVsmXL690/AAAAXKN8HbFbsmSJatasqYyMDElSq1atNHDgQA0aNEh33XWXatWqpRUrVtyQjgIAAODK8hXsxo8frz59+igwMDDXMqfTqccff1xjx469bp0DAADAtctXsPvvf/+rtm3bXnZ569attXHjxj/cKQAAAORfvoLdkSNH8nzMyUWenp46evToH+4UAAAA8i9fwa5MmTLasmXLZZf/8MMPioiI+MOdAgAAQP7lK9i1b99eL7/8ss6dO5dr2dmzZ/XKK6+oQ4cO161zAAAAuHb5etzJP/7xD3355ZeqWrWqBgwYoGrVqsnhcGj79u167733lJ2drRdffPFG9RUAAABXkK9gFxYWplWrVqlfv34aNmyYjDGSJIfDoTZt2uj9999XWFjYDekoAAAArizfDyiOjo5WYmKi0tPTtXv3bhljVKVKFQUFBd2I/gEAAOAaFeibJyQpKChId9111/XsCwAAAP6AAn1X7PXy3XffqWPHjoqMjJTD4dCcOXPclvfq1UsOh8NtatSokVtNZmamBg4cqFKlSsnf319xcXE6ePCgW016erri4+PldDrldDoVHx+vEydO3ODRAQAA3FyFGuxOnz6tunXrauLEiZetadu2rVJSUqwpMTHRbfngwYOVkJCgWbNmaeXKlTp16pQ6dOig7Oxsq6Z79+5KTk5WUlKSkpKSlJycrPj4+Bs2LgAAgMJQ4FOx10O7du3Url27K9b4+PgoPDw8z2Uul0tTpkzRjBkz1LJlS0nSp59+qqioKC1atEht2rTR9u3blZSUpDVr1qhhw4aSpI8++kixsbHauXOnqlWrdn0HBQAAUEgK9YjdtVi2bJlCQ0NVtWpV9enTR2lpadayjRs36sKFC2rdurXVFhkZqdq1a2vVqlWSpNWrV8vpdFqhTpIaNWokp9Np1QAAANhBoR6xu5p27drpwQcfVHR0tPbs2aOXXnpJzZs318aNG+Xj46PU1FR5e3vnuiM3LCxMqampkqTU1FSFhobm2nZoaKhVk5fMzExlZmZa8xkZGddpVAAAADdGkQ523bp1s/5du3ZtNWjQQNHR0frmm290//33X3Y9Y4wcDoc1//t/X67mUiNHjtSIESMK2HMAAICbr8ifiv29iIgIRUdHa9euXZKk8PBwnT9/Xunp6W51aWlp1oOSw8PDdeTIkVzbOnr06BUfpjxs2DC5XC5rOnDgwHUcCQAAwPV3SwW7Y8eO6cCBA4qIiJAk1a9fX15eXlq4cKFVk5KSoq1bt6px48aSpNjYWLlcLq1bt86qWbt2rVwul1WTFx8fHwUGBrpNAAAARVmhnoo9deqUdu/ebc3v2bNHycnJCg4OVnBwsIYPH64uXbooIiJCe/fu1QsvvKBSpUrpL3/5iyTJ6XSqd+/eGjp0qEJCQhQcHKynn35aMTEx1l2yNWrUUNu2bdWnTx9NnjxZktS3b1916NCBO2IBAICtFGqw27Bhg5o1a2bNDxkyRJLUs2dPTZo0SVu2bNH06dN14sQJRUREqFmzZpo9e7YCAgKsdcaNGydPT0917dpVZ8+eVYsWLTRt2jR5eHhYNTNnztSgQYOsu2fj4uKu+Ow8AACAW5HDGGMKuxO3goyMDDmdTrlcrht6WvZKN3QAeSlqP8Kf1apV2F3ALab7tm2F3QWgSMtPBrmlrrEDAADA5RHsAAAAbIJgBwAAYBMEOwAAAJsg2AEAANgEwQ4AAMAmCHYAAAA2QbADAACwCYIdAACATRDsAAAAbIJgBwAAYBMEOwAAAJsg2AEAANgEwQ4AAMAmCHYAAAA2QbADAACwCYIdAACATRDsAAAAbIJgBwAAYBMEOwAAAJsg2AEAANgEwQ4AAMAmCHYAAAA2QbADAACwCYIdAACATRDsAAAAbIJgBwAAYBMEOwAAAJsg2AEAANgEwQ4AAMAmCHYAAAA2QbADAACwCYIdAACATRDsAAAAbIJgBwAAYBMEOwAAAJsg2AEAANgEwQ4AAMAmCHYAAAA2QbADAACwCYIdAACATRDsAAAAbIJgBwAAYBOFGuy+++47dezYUZGRkXI4HJozZ47bcmOMhg8frsjISPn6+qpp06batm2bW01mZqYGDhyoUqVKyd/fX3FxcTp48KBbTXp6uuLj4+V0OuV0OhUfH68TJ07c4NEBAADcXIUa7E6fPq26detq4sSJeS5/8803NXbsWE2cOFHr169XeHi4WrVqpZMnT1o1gwcPVkJCgmbNmqWVK1fq1KlT6tChg7Kzs62a7t27Kzk5WUlJSUpKSlJycrLi4+Nv+PgAAABuJocxxhR2JyTJ4XAoISFBnTt3lvTb0brIyEgNHjxYzz33nKTfjs6FhYVp9OjRevzxx+VyuVS6dGnNmDFD3bp1kyQdPnxYUVFRSkxMVJs2bbR9+3bVrFlTa9asUcOGDSVJa9asUWxsrHbs2KFq1apdU/8yMjLkdDrlcrkUGBh4/V+A/+NwOG7YtmFPReRH2PJZrVqF3QXcYrpfciYGgLv8ZJAie43dnj17lJqaqtatW1ttPj4+atKkiVatWiVJ2rhxoy5cuOBWExkZqdq1a1s1q1evltPptEKdJDVq1EhOp9OqAQAAsAPPwu7A5aSmpkqSwsLC3NrDwsK0b98+q8bb21tBQUG5ai6un5qaqtDQ0FzbDw0NtWrykpmZqczMTGs+IyOjYAMBAAC4SYrsEbuLLj01aYy56unKS2vyqr/adkaOHGndbOF0OhUVFZXPngMAANxcRTbYhYeHS1Kuo2ppaWnWUbzw8HCdP39e6enpV6w5cuRIru0fPXo019HA3xs2bJhcLpc1HThw4A+NBwAA4EYrssGuQoUKCg8P18KFC6228+fPa/ny5WrcuLEkqX79+vLy8nKrSUlJ0datW62a2NhYuVwurVu3zqpZu3atXC6XVZMXHx8fBQYGuk0AAABFWaFeY3fq1Cnt3r3bmt+zZ4+Sk5MVHByscuXKafDgwXrjjTdUpUoVValSRW+88Yb8/PzUvXt3SZLT6VTv3r01dOhQhYSEKDg4WE8//bRiYmLUsmVLSVKNGjXUtm1b9enTR5MnT5Yk9e3bVx06dLjmO2IBAABuBYUa7DZs2KBmzZpZ80OGDJEk9ezZU9OmTdOzzz6rs2fPqn///kpPT1fDhg21YMECBQQEWOuMGzdOnp6e6tq1q86ePasWLVpo2rRp8vDwsGpmzpypQYMGWXfPxsXFXfbZeQAAALeqIvMcu6KO59ihqCpqP8I8xw75xXPsgCuzxXPsAAAAkD8EOwAAAJsg2AEAANgEwQ4AAMAmCHYAAAA2QbADAACwCYIdAACATRDsAAAAbIJgBwAAYBMEOwAAAJsg2AEAANgEwQ4AAMAmCHYAAAA2QbADAACwCYIdAACATRDsAAAAbIJgBwAAYBMEOwAAAJsg2AEAANgEwQ4AAMAmCHYAAAA2QbADAACwCYIdAACATRDsAAAAbIJgBwAAYBMEOwAAAJsg2AEAANgEwQ4AAMAmCHYAAAA2QbADAACwCYIdAACATRDsAAAAbIJgBwAAYBMEOwAAAJsg2AEAANgEwQ4AAMAmCHYAAAA2QbADAACwCYIdAACATRDsAAAAbIJgBwAAYBMEOwAAAJsg2AEAANhEkQ52w4cPl8PhcJvCw8Ot5cYYDR8+XJGRkfL19VXTpk21bds2t21kZmZq4MCBKlWqlPz9/RUXF6eDBw/e7KEAAADccEU62ElSrVq1lJKSYk1btmyxlr355psaO3asJk6cqPXr1ys8PFytWrXSyZMnrZrBgwcrISFBs2bN0sqVK3Xq1Cl16NBB2dnZhTEcAACAG8azsDtwNZ6enm5H6S4yxmj8+PF68cUXdf/990uSPvnkE4WFhemzzz7T448/LpfLpSlTpmjGjBlq2bKlJOnTTz9VVFSUFi1apDZt2tzUsQAAANxIRf6I3a5duxQZGakKFSrooYce0i+//CJJ2rNnj1JTU9W6dWur1sfHR02aNNGqVaskSRs3btSFCxfcaiIjI1W7dm2rBgAAwC6K9BG7hg0bavr06apataqOHDmi1157TY0bN9a2bduUmpoqSQoLC3NbJywsTPv27ZMkpaamytvbW0FBQblqLq5/OZmZmcrMzLTmMzIyrseQAAAAbpgiHezatWtn/TsmJkaxsbGqVKmSPvnkEzVq1EiS5HA43NYxxuRqu9S11IwcOVIjRowoYM8BAABuviJ/Kvb3/P39FRMTo127dlnX3V165C0tLc06ihceHq7z588rPT39sjWXM2zYMLlcLms6cODAdRwJAADA9XdLBbvMzExt375dERERqlChgsLDw7Vw4UJr+fnz57V8+XI1btxYklS/fn15eXm51aSkpGjr1q1WzeX4+PgoMDDQbQIAACjKivSp2KefflodO3ZUuXLllJaWptdee00ZGRnq2bOnHA6HBg8erDfeeENVqlRRlSpV9MYbb8jPz0/du3eXJDmdTvXu3VtDhw5VSEiIgoOD9fTTTysmJsa6SxYAAMAuinSwO3jwoB5++GH9+uuvKl26tBo1aqQ1a9YoOjpakvTss8/q7Nmz6t+/v9LT09WwYUMtWLBAAQEB1jbGjRsnT09Pde3aVWfPnlWLFi00bdo0eXh4FNawAAAAbgiHMcYUdiduBRkZGXI6nXK5XDf0tOzVbuoALlXUfoQ/q1WrsLuAW0z3S74xCIC7/GSQW+oaOwAAAFwewQ4AAMAmCHYAAAA2QbADAACwCYIdAACATRDsAAAAbIJgBwAAYBMEOwAAAJsg2AEAANgEwQ4AAMAmCHYAAAA2QbADAACwCYIdAACATRDsAAAAbIJgBwAAYBMEOwAAAJsg2AEAANgEwQ4AAMAmCHYAAAA2QbADAACwCYIdAACATRDsAAC4TX333Xfq2LGjIiMj5XA4NGfOHGvZhQsX9NxzzykmJkb+/v6KjIxUjx49dPjwYbdtPP7446pUqZJ8fX1VunRpderUSTt27LjJI8FFBDsAAG5Tp0+fVt26dTVx4sRcy86cOaNNmzbppZde0qZNm/Tll1/qp59+UlxcnFtd/fr1NXXqVG3fvl3z58+XMUatW7dWdnb2zRoGfsdhjDGF3YlbQUZGhpxOp1wulwIDA2/YfhwOxw3bNuypqP0If1arVmF3AbeY7tu2FXYXoN9+/yQkJKhz586XrVm/fr3+9Kc/ad++fSpXrlyeNT/88IPq1q2r3bt3q1KlSjeot7eX/GQQjtgBAIBr4nK55HA4VLJkyTyXnz59WlOnTlWFChUUFRV1czsHSQQ7AABwDc6dO6fnn39e3bt3z3XU6P3331eJEiVUokQJJSUlaeHChfL29i6knt7eCHYAAOCKLly4oIceekg5OTl6//33cy1/5JFHtHnzZi1fvlxVqlRR165dde7cuULoKTwLuwMAAKDounDhgrp27ao9e/ZoyZIleV7j5XQ65XQ6VaVKFTVq1EhBQUFKSEjQww8/XAg9vr0R7AAAQJ4uhrpdu3Zp6dKlCgkJuab1jDHKzMy8wb1DXgh2AADcpk6dOqXdu3db83v27FFycrKCg4MVGRmpBx54QJs2bdK8efOUnZ2t1NRUSVJwcLC8vb31yy+/aPbs2WrdurVKly6tQ4cOafTo0fL19VX79u0La1i3NYIdAAC3qQ0bNqhZs2bW/JAhQyRJPXv21PDhwzV37lxJUr169dzWW7p0qZo2barixYtrxYoVGj9+vNLT0xUWFqZ7771Xq1atUmho6E0bB/6HYAcAwG2qadOmV3wW5tWekxkZGanExMTr3S38AdwVCwAAYBMEOwAAAJvgVCwAAL9z5szPhd0F3GL8/IrOV6dxxA4AAMAmCHYAAAA2QbADAACwCYIdAACATRDsAAAAbIJgBwAAYBMEOwAAAJsg2AEAANjEbRXs3n//fVWoUEHFixdX/fr1tWLFisLuEgAAwHVz2wS72bNna/DgwXrxxRe1efNm/fnPf1a7du20f//+wu4aAADAdXHbBLuxY8eqd+/eeuyxx1SjRg2NHz9eUVFRmjRpUmF3DQAA4Lq4LYLd+fPntXHjRrVu3dqtvXXr1lq1alUh9QoAAOD68izsDtwMv/76q7KzsxUWFubWHhYWptTU1DzXyczMVGZmpjXvcrkkSRkZGTeuo0ABFLX35Jns7MLuAm4xRe49fOZkYXcBt5isrBv7Hr74M2KMuWrtbRHsLnI4HG7zxphcbReNHDlSI0aMyNUeFRV1Q/oGFJTT6SzsLgB/SB/ew8A1OXny5FU/82+LYFeqVCl5eHjkOjqXlpaW6yjeRcOGDdOQIUOs+ZycHB0/flwhISGXDYO4MTIyMhQVFaUDBw4oMDCwsLsD5BvvYdzqeA8XLmOMTp48qcjIyKvW3hbBztvbW/Xr19fChQv1l7/8xWpfuHChOnXqlOc6Pj4+8vHxcWsrWbLkjewmriIwMJAPFNzSeA/jVsd7uPBc69mZ2yLYSdKQIUMUHx+vBg0aKDY2Vh9++KH279+vJ554orC7BgAAcF3cNsGuW7duOnbsmF599VWlpKSodu3aSkxMVHR0dGF3DQAA4Lq4bYKdJPXv31/9+/cv7G4gn3x8fPTKK6/kOjUO3Cp4D+NWx3v41uEw13LvLAAAAIq82+IBxQAAALcDgh0AAIBNEOxwww0fPlz16tW7Kftq2rSpBg8efFP2BdwIZ86cUZcuXRQYGCiHw6ETJ04UdpeAa1a+fHmNHz++sLtxWyPYoUBWrVolDw8PtW3btlD2v2zZsjx/6X355Zf65z//WSh9wq3F4XBccerVq1eh9OuTTz7RihUrtGrVKqWkpPDNIpAk9erVy3pvenp6qly5curXr5/S09OtGofDoTlz5lzX/fbt21ceHh6aNWvWdd1ufvTq1UudO3cutP3fagh2KJCPP/5YAwcO1MqVK7V///7C7o4lODhYAQEBhd0N3AJSUlKsafz48QoMDHRrmzBhglv9hQsXbkq/fv75Z9WoUUO1a9dWeHh4gb7pJjs7Wzk5OTegdyhMbdu2VUpKivbu3av/9//+n77++usb+qSHM2fOaPbs2XrmmWc0ZcqUG7YfXF8EO+Tb6dOn9a9//Uv9+vVThw4dNG3aNLflo0aNUlhYmAICAtS7d2+dO3fObXlOTo5effVVlS1bVj4+PqpXr56SkpKs5Xv37pXD4dCsWbPUuHFjFS9eXLVq1dKyZcus5c2aNZMkBQUFuR1dufRUbHp6unr06KGgoCD5+fmpXbt22rVrl7V82rRpKlmypObPn68aNWqoRIkS1ocn7C08PNyanE6nHA6HNX/u3DmVLFlS//rXv9S0aVMVL15cn376qY4dO6aHH35YZcuWlZ+fn2JiYvT555+7bbdp06YaNGiQnn32WQUHBys8PFzDhw93qxk+fLjKlSsnHx8fRUZGatCgQda6Y8aM0XfffSeHw6GmTZtKks6fP69nn31WZcqUkb+/vxo2bGj9PEj/ex/PmzdPNWvWlI+Pj/bt23cjXz4UAh8fH4WHh6ts2bJq3bq1unXrpgULFkj67RSoJP3lL3+Rw+Gw5iVp0qRJqlSpkry9vVWtWjXNmDHjmvb3xRdfqGbNmho2bJi+//577d271215WlqaOnbsKF9fX1WoUEEzZ87MtY39+/erU6dOKlGihAIDA9W1a1cdOXLEWn7xUp3JkycrKipKfn5+evDBB62zMcOHD9cnn3yir776yjpi+fv3PvJggHyaMmWKadCggTHGmK+//tqUL1/e5OTkGGOMmT17tvH29jYfffSR2bFjh3nxxRdNQECAqVu3rrX+2LFjTWBgoPn888/Njh07zLPPPmu8vLzMTz/9ZIwxZs+ePUaSKVu2rPn3v/9tfvzxR/PYY4+ZgIAA8+uvv5qsrCzzn//8x0gyO3fuNCkpKebEiRPGGGOaNGlinnrqKWtfcXFxpkaNGua7774zycnJpk2bNqZy5crm/Pnzxhhjpk6dary8vEzLli3N+vXrzcaNG02NGjVM9+7db8IriaJi6tSpxul0WvMX34Ply5c3//nPf8wvv/xiDh06ZA4ePGjeeusts3nzZvPzzz+bd955x3h4eJg1a9ZY6zZp0sQEBgaa4cOHm59++sl88sknxuFwmAULFhhjjPniiy9MYGCgSUxMNPv27TNr1641H374oTHGmGPHjpk+ffqY2NhYk5KSYo4dO2aMMaZ79+6mcePG5rvvvjO7d+82b731lvHx8bF+Zi6+jxs3bmy+//57s2PHDnPq1Kmb9OrhZujZs6fp1KmTNf/zzz+bmjVrmrCwMGOMMWlpaUaSmTp1qklJSTFpaWnGGGO+/PJL4+XlZd577z2zc+dOM2bMGOPh4WGWLFly1X3++c9/NhMnTjTGGNOlSxfz8ssvuy1v166dqV27tlm1apXZsGGDady4sfH19TXjxo0zxhiTk5Nj7rjjDnPPPfeYDRs2mDVr1pg777zTNGnSxNrGK6+8Yvz9/U3z5s3N5s2bzfLly03lypWtz+CTJ0+arl27mrZt25qUlBSTkpJiMjMzC/oy3hYIdsi3xo0bm/HjxxtjjLlw4YIpVaqUWbhwoTHGmNjYWPPEE0+41Tds2NAt2EVGRprXX3/dreauu+4y/fv3N8b875fqqFGjrOUXLlwwZcuWNaNHjzbGGLN06VIjyaSnp7tt5/fB7qeffjKSzPfff28t//XXX42vr6/517/+ZYz57ReiJLN7926r5r333rM+LHF7uFywu/g+v5L27duboUOHWvNNmjQx99xzj1vNXXfdZZ577jljjDFjxowxVatWtf64uNRTTz3l9otv9+7dxuFwmEOHDrnVtWjRwgwbNszqvySTnJx81f7i1tSzZ0/j4eFh/P39TfHixY0kI8mMHTvWqpFkEhIS3NZr3Lix6dOnj1vbgw8+aNq3b3/F/f3000/Gy8vLHD161BhjTEJCgomKijLZ2dnGGGN27txpJLn9UbN9+3YjyQp2CxYsMB4eHmb//v1WzbZt24wks27dOmPMb8HOw8PDHDhwwKr59ttvTbFixUxKSoo19t+HWlwZp2KRLzt37tS6dev00EMPSZI8PT3VrVs3ffzxx5Kk7du3KzY21m2d389nZGTo8OHDuvvuu91q7r77bm3fvv2y63l6eqpBgwa5aq5k+/bt8vT0VMOGDa22kJAQVatWzW07fn5+qlSpkjUfERGhtLS0a94P7KtBgwZu89nZ2Xr99ddVp04dhYSEqESJElqwYEGu60zr1KnjNv/799SDDz6os2fPqmLFiurTp48SEhKUlZV12T5s2rRJxhhVrVpVJUqUsKbly5fr559/tuq8vb1z7Rf20qxZMyUnJ2vt2rUaOHCg2rRpo4EDB15xne3bt1/x83bmzJlu76sVK1ZIkqZMmaI2bdqoVKlSkqT27dvr9OnTWrRokbXdi5/LF1WvXl0lS5Z023dUVJSioqKstpo1a6pkyZJun8HlypVT2bJlrfnY2Fjl5ORo586d+Xl58H9uq68Uwx83ZcoUZWVlqUyZMlabMUZeXl5ud2ddzaUXhBtjruki8fxcSG4u86Uql+7Ly8sr1z4uty5uL/7+/m7zY8aM0bhx4zR+/HjFxMTI399fgwcP1vnz593q8npPXbyZISoqSjt37tTChQu1aNEi9e/fX2+99ZaWL1+eaz3pt2tSPTw8tHHjRnl4eLgtK1GihPVvX1/fAt1ogVuHv7+/KleuLEl655131KxZM40YMeKqTwK40udtXFyc2x+/ZcqUUXZ2tqZPn67U1FR5ev4vJmRnZ2vKlClq3bq19Rl5pffc5T7Xr/Z5f3EZ7+eC4YgdrllWVpamT5+uMWPGKDk52Zr++9//Kjo6WjNnzlSNGjW0Zs0at/V+Px8YGKjIyEitXLnSrWbVqlWqUaPGZdfLysrSxo0bVb16dUm/HZ2QfvuguZyaNWsqKytLa9eutdqOHTumn376Kde+gGuxYsUKderUSY8++qjq1q2rihUrut2Mc618fX0VFxend955R8uWLdPq1au1ZcuWPGvvuOMOZWdnKy0tTZUrV3abwsPD/+iQcAt75ZVX9Pbbb+vw4cOSfvuD4tLPxBo1alzx8zYgIMDtPeXr66vExESdPHlSmzdvdvus/+KLLzRnzhwdO3ZMNWrUUFZWljZs2GBtd+fOnW6PoKpZs6b279+vAwcOWG0//vijXC6X22fw/v37rTFI0urVq1WsWDFVrVpV0m+f91f6rIc7jtjhms2bN0/p6enq3bt3rmdrPfDAA5oyZYqef/559ezZUw0aNNA999yjmTNnatu2bapYsaJV+8wzz+iVV15RpUqVVK9ePU2dOlXJycm57qh67733VKVKFdWoUUPjxo1Tenq6/va3v0mSoqOj5XA4NG/ePLVv316+vr5uRy8kqUqVKurUqZP69OmjyZMnKyAgQM8//7zKlCmjTp063aBXCXZWuXJl/ec//9GqVasUFBSksWPHKjU1NV9/KEybNk3Z2dlq2LCh/Pz8NGPGDPn6+io6OjrP+qpVq+qRRx5Rjx49NGbMGN1xxx369ddftWTJEsXExKh9+/bXa3i4xTRt2lS1atXSG2+8oYkTJ6p8+fJavHix7r77bvn4+CgoKEjPPPOMunbtqjvvvFMtWrTQ119/rS+//NI6pZqXKVOm6L777lPdunXd2mvVqqXBgwfr008/1VNPPaW2bduqT58++vDDD+Xp6anBgwfL19fXqm/ZsqXq1KmjRx55ROPHj1dWVpb69++vJk2auJ3CLV68uHr27Km3335bGRkZGjRokLp27Wr94VK+fHnNnz9fO3fuVEhIiJxOZ55Ht/Ebjtjhmk2ZMkUtW7bM84GpXbp0UXJysqpUqaKXX35Zzz33nOrXr699+/apX79+brWDBg3S0KFDNXToUMXExCgpKUlz585VlSpV3OpGjRql0aNHq27dulqxYoW++uor63qPMmXKaMSIEXr++ecVFhamAQMG5NnnqVOnqn79+urQoYNiY2NljFFiYiIfCiiQl156SXfeeafatGmjpk2bKjw8PN8PTi1ZsqQ++ugj3X333apTp44WL16sr7/+WiEhIZddZ+rUqerRo4eGDh2qatWqKS4uTmvXrnW7dgm3pyFDhuijjz7SgQMHNGbMGC1cuFBRUVG64447JEmdO3fWhAkT9NZbb6lWrVqaPHmypk6daj1K51JHjhzRN998oy5duuRa5nA4dP/991vPtJs6daqioqLUpEkT3X///erbt69CQ0Pd6ufMmaOgoCDde++9atmypSpWrKjZs2e7bbdy5cq6//771b59e7Vu3Vq1a9fW+++/by3v06ePqlWrpgYNGqh06dL6/vvv/+jLZmsOw8VEKGL27t2rChUqaPPmzTftq8gAADff8OHDNWfOHCUnJxd2V2yDI3YAAAA2QbADAACwCU7FAgAA2ARH7AAAAGyCYAcAAGATBDsAAACbINgBAADYBMEOAADAJgh2AAAANkGwA1BkHThwQL1791ZkZKS8vb0VHR2tp556SseOHcvXdvbu3SuHw3FLPt1+2rRpcjgcV5yWLVtW2N0EUEQQ7AAUSb/88osaNGign376SZ9//rl2796tDz74QIsXL1ZsbKyOHz9e2F28Kbp166aUlBRrio2NVZ8+fdzaGjduXNjdBFBEEOwAFElPPvmkvL29tWDBAjVp0kTlypVTu3bttGjRIh06dEgvvviiVXvxy8Z/r2TJkpo2bZokqUKFCpKkO+64Qw6Hw+0L0D/++GPVqlVLPj4+ioiI0IABA6xl+/fvV6dOnVSiRAkFBgaqa9euOnLkiLV8+PDhqlevnj7++GOVK1dOJUqUUL9+/ZSdna0333xT4eHhCg0N1euvv+7WN5fLZX1hemBgoJo3b67//ve/eb4Ovr6+Cg8PtyZvb2/5+fkpPDxcP/30k6KionKF3KFDh+ree++V9NsRv5IlS2rOnDmqWrWqihcvrlatWunAgQNu63z99deqX7++ihcvrooVK2rEiBHKyspyG2u5cuXk4+OjyMhIDRo0KM/+AihcBDsARc7x48c1f/589e/fX76+vm7LwsPD9cgjj2j27Nm61i/OWbdunSRp0aJFSklJ0ZdffilJmjRpkp588kn17dtXW7Zs0dy5c1W5cmVJkjFGnTt31vHjx7V8+XItXLhQP//8s7p16+a27Z9//lnffvutkpKS9Pnnn+vjjz/Wfffdp4MHD2r58uUaPXq0/vGPf2jNmjXWdu+77z6lpqYqMTFRGzdu1J133qkWLVrk+yjkvffeq4oVK2rGjBlWW1ZWlj799FP99a9/tdrOnDmj119/XZ988om+//57ZWRk6KGHHrKWz58/X48++qgGDRqkH3/8UZMnT9a0adOsQPrvf/9b48aN0+TJk7Vr1y7NmTNHMTEx+eorgJvEAEARs2bNGiPJJCQk5Ll87NixRpI5cuSIMcbkWet0Os3UqVONMcbs2bPHSDKbN292q4mMjDQvvvhinvtYsGCB8fDwMPv377fatm3bZiSZdevWGWOMeeWVV4yfn5/JyMiwatq0aWPKly9vsrOzrbZq1aqZkSNHGmOMWbx4sQkMDDTnzp1z21+lSpXM5MmT835BfqdJkybmqaeesuZHjx5tatSoYc3PmTPHlChRwpw6dcoYY8zUqVONJLNmzRqrZvv27UaSWbt2rTHGmD//+c/mjTfecNvPjBkzTEREhDHGmDFjxpiqVaua8+fPX7V/AAoXR+wA3HLM/x2pczgcBd5GWlqaDh8+rBYtWuS5fPv27YqKilJUVJTVVrNmTZUsWVLbt2+32sqXL6+AgABrPiwsTDVr1lSxYsXc2tLS0iRJGzdu1KlTpxQSEqISJUpY0549e/Tzzz/nexy9evXS7t27rSOCH3/8sbp27Sp/f3+rxtPTUw0aNLDmq1ev7jaOjRs36tVXX3Xrz8Xr+M6cOaMHH3xQZ8+eVcWKFdWnTx8lJCS4naYFUHR4FnYHAOBSlStXlsPh0I8//qjOnTvnWr5jxw4FBQWpVKlSkn4LeOaS07IXLly44j4uPcV7KWNMnsHx0nYvLy+35Q6HI8+2nJwcSVJOTo4iIiLyvJO1ZMmSV+xTXkJDQ9WxY0dNnTpVFStWVGJiYp7bzmssF9tycnI0YsQI3X///blqihcvrqioKO3cuVMLFy7UokWL1L9/f7311ltavnx5rrECKFwEOwBFTkhIiFq1aqX3339ff//7391CWGpqqmbOnKkePXpYwaR06dJKSUmxanbt2qUzZ85Y897e3pKk7Oxsqy0gIEDly5fX4sWL1axZs1x9qFmzpvbv368DBw5YR+1+/PFHuVwu1ahRo8Bju/POO5WamipPT0+VL1++wNv5vccee0wPPfSQypYtq0qVKunuu+92W56VlaUNGzboT3/6kyRp586dOnHihKpXr271aefOndb1hXnx9fVVXFyc4uLi9OSTT6p69erasmWL7rzzzusyBgDXB8EOQJE0ceJENW7cWG3atNFrr72mChUqaNu2bXrmmWdUpkwZtztNmzdvrokTJ6pRo0bKycnRc88953YkKTQ0VL6+vkpKSlLZsmVVvHhxOZ1ODR8+XE888YRCQ0PVrl07nTx5Ut9//70GDhyoli1bqk6dOnrkkUc0fvx4ZWVlqX///mrSpInbac38atmypWJjY9W5c2eNHj1a1apV0+HDh5WYmKjOnTsXaNtt2rSR0+nUa6+9pldffTXXci8vLw0cOFDvvPOOvLy8NGDAADVq1MgKei+//LI6dOigqKgoPfjggypWrJh++OEHbdmyRa+99pqmTZum7OxsNWzYUH5+fpoxY4Z8fX0VHR1d4NcBwI3BNXYAiqQqVapow4YNqlSpkrp166ZKlSqpb9++atasmVavXq3g4GCrdsyYMYqKitK9996r7t276+mnn5afn5+13NPTU++8844mT56syMhIderUSZLUs2dPjR8/Xu+//75q1aqlDh06aNeuXZL+9wiVoKAg3XvvvWrZsqUqVqyo2bNn/6FxORwOJSYm6t5779Xf/vY3Va1aVQ899JD27t2rsLCwAm2zWLFi6tWrl7Kzs9WjR49cy/38/PTcc8+pe/fuio2Nla+vr2bNmmUtb9OmjebNm6eFCxfqrrvuUqNGjTR27FgruJUsWVIfffSR7r77btWpU0eLFy/W119/rZCQkIK9CABuGIe59MIUAMAtp0+fPjpy5Ijmzp3r1j5t2jQNHjxYJ06cKJyOAbipOBULALcwl8ul9evXa+bMmfrqq68KuzsAChnBDgBuYZ06ddK6dev0+OOPq1WrVoXdHQCFjFOxAAAANsHNEwAAADZBsAMAALAJgh0AAIBNEOwAAABsgmAHAABgEwQ7AAAAmyDYAQAA2ATBDgAAwCYIdgAAADbx/wGHPBXWA3azgAAAAABJRU5ErkJggg==",
=======
<<<<<<< HEAD
      "image/png": "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",
=======
      "image/png": "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",
>>>>>>> 0cea14bd65878662d3e4b5f209c876e310637d40
>>>>>>> 8ede082c53e9f0537e4bcae05ceb0ee3c524b329:Project Notebook/Project1.ipynb
      "text/plain": [
       "<Figure size 640x480 with 1 Axes>"
      ]
     },
     "metadata": {},
     "output_type": "display_data"
    }
   ],
   "source": [
    "# Plotting Dog Outcomes\n",
    "desired_outcomes = ['Adoption', 'Rto-Adopt', 'Transfer']\n",
<<<<<<< HEAD:Project Notebook/Project1_Latest.ipynb
    "filtered_df = dog_outcomes_df[dog_outcomes_df['Outcome Type'].isin(desired_outcomes)]\n",
=======
    "\n",
    "\n",
    "filtered_df = dog_outcomes_df[dog_outcomes_df['Outcome Type'].isin(desired_outcomes)]\n",
    "\n",
    "\n",
>>>>>>> 8ede082c53e9f0537e4bcae05ceb0ee3c524b329:Project Notebook/Project1.ipynb
    "outcome_counts = filtered_df['Outcome Type'].value_counts()\n",
    "outcome_colors = {'Adoption': 'black', 'Rto-Adopt': 'beige', 'Transfer': 'brown'}\n",
    "\n",
<<<<<<< HEAD:Project Notebook/Project1_Latest.ipynb
    "plt.bar(outcome_counts.index, outcome_counts.values, color=[outcome_colors.get(outcome, 'gray') for outcome in outcome_counts.index])\n",
=======
    "\n",
    "outcome_colors = {'Adoption': 'black', 'Rto-Adopt': 'beige', 'Transfer': 'brown'}\n",
    "\n",
    "\n",
    "plt.bar(outcome_counts.index, outcome_counts.values, color=[outcome_colors.get(outcome, 'gray') for outcome in outcome_counts.index])\n",
    "\n",
>>>>>>> 8ede082c53e9f0537e4bcae05ceb0ee3c524b329:Project Notebook/Project1.ipynb
    "plt.xlabel('Outcome Types')\n",
    "plt.ylabel('Counts')\n",
    "plt.title('Top 3 outcomes for dogs')\n",
    "\n",
    "for index, value in enumerate(outcome_counts.values):\n",
    "    plt.text(index, value, str(value), ha='center', va='bottom')\n",
<<<<<<< HEAD:Project Notebook/Project1_Latest.ipynb
=======
    "\n",
    "\n",
>>>>>>> 8ede082c53e9f0537e4bcae05ceb0ee3c524b329:Project Notebook/Project1.ipynb
    "\n",
    "plt.tight_layout()\n",
    "plt.show()"
   ]
  },
  {
   "cell_type": "code",
<<<<<<< HEAD
   "execution_count": null,
   "id": "aef90bec",
   "metadata": {},
   "outputs": [],
   "source": []
  },
  {
   "cell_type": "code",
   "execution_count": null,
   "id": "0e357015",
=======
   "execution_count": 103,
   "id": "bb3f6a4c",
>>>>>>> 0cea14bd65878662d3e4b5f209c876e310637d40
   "metadata": {},
   "outputs": [
    {
     "data": {
      "text/plain": [
       "Pit Bull                            623\n",
       "Labrador Retriever Mix              522\n",
       "Pit Bull Mix                        471\n",
       "German Shepherd Mix                 330\n",
       "Chihuahua Shorthair                 254\n",
       "                                   ... \n",
       "Brittany/St. Bernard Smooth Coat      1\n",
       "Bull Terrier Mix                      1\n",
       "Leonberger                            1\n",
       "Cairn Terrier/Chihuahua Longhair      1\n",
       "Australian Kelpie/Collie Smooth       1\n",
       "Name: Breed, Length: 604, dtype: int64"
      ]
     },
     "execution_count": 103,
     "metadata": {},
     "output_type": "execute_result"
    }
   ],
   "source": [
    "# Data check: Dog Breeds\n",
    "dog_outcomes_df[\"Breed\"].value_counts()"
   ]
  },
  {
   "cell_type": "code",
   "execution_count": 104,
   "id": "dcd08f30-61c2-4f22-a7a6-2b4f9c224e48",
   "metadata": {},
   "outputs": [
    {
     "data": {
      "image/png": "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",
      "text/plain": [
       "<Figure size 640x480 with 1 Axes>"
      ]
     },
     "metadata": {},
     "output_type": "display_data"
    }
   ],
   "source": [
    "# Plotting Most Popular Dog Breeds\n",
    "dlabels = [\"Pit Bull\", \"Labrador Retriever Mix\", \"Pit Bull Mix\", \"Other\"]\n",
    "dsizes = [9.7, 8.1, 7.3, 74.9]\n",
    "dcolors = [\"palevioletred\", \"yellowgreen\", \"cyan\", \"bisque\"]\n",
    "\n",
    "plt.pie(dsizes, labels=dlabels, colors=dcolors, autopct=\"%1.1f%%\", shadow=True, startangle=90)\n",
    "plt.title(\"Most Popular Adopted Dog Breeds\\n\" + \"Austin Animal Center, 2022\", bbox={'facecolor':'0.8', 'pad':5})\n",
    "\n",
    "plt.show()"
   ]
  },
  {
   "cell_type": "code",
   "execution_count": 105,
   "id": "5d527c8d-de66-418c-8062-d4c25f980d71",
   "metadata": {},
   "outputs": [
    {
     "data": {
      "image/png": "iVBORw0KGgoAAAANSUhEUgAAAYsAAAGrCAYAAAAxTLu9AAAAOXRFWHRTb2Z0d2FyZQBNYXRwbG90bGliIHZlcnNpb24zLjcuMSwgaHR0cHM6Ly9tYXRwbG90bGliLm9yZy/bCgiHAAAACXBIWXMAAA9hAAAPYQGoP6dpAABzZElEQVR4nO3dd3xT9f7H8ddJ0nTvPYACZU9ZskGmA0W9bq974dbr3tuf1+11i1dQ9DpwMZQ9FFCQDbJXaeme6U6a5Pz+CC2Ebpr2pOnn+Xj0QZucnHwS2vPO9/s95/tVVFVVEUIIIeqh07oAIYQQ7s+gdQFtUUpKCrm5uVqXIYRwkYiICDp27Kh1GW5NwqKJUlJS6NWrF2VlZVqXIoRwET8/P/bs2SOBUQ8JiybKzc2lrKyMF154gc6dO2tdjhCimY4cOcJTTz1Fbm6uhEU9JCxOU+fOnenZs6fWZQghRKuQAW4hhBANkrAQQgjRIAkLIYQQDZKwEEII0SAJi1Y2ZMiQRn1t2rRJ61JbhMlk4rHHHmPy5MkMGTKEBx54oFGPu/rqqxkyZAhz5sxpdg3nn38+zz77bLP3czqeffZZzj//fJfs6/zzz+e+++6r9b7du3czZMgQFixY4JLnaqpbb72VW2+9tfrn9PR0l9ezadMmj/5bcTdyNlQrmzVrltPPn376KZs2beKjjz5yut1TT8v99NNPWb16NU8//TQJCQkEBQU1+Jh9+/axb98+AObNm8c111zTrBpee+01AgICmrUPIdobCYtW1q9fP6efQ0ND0el0NW73VIcOHSIhIYFzzjmn0Y/5+eefARg9ejRr165l+/btDBgw4LRrkFOehWg6CQs38/zzz7N69Wp+/fVXfHx8nO6bMWMG+fn5fPfdd4CjS+vSSy8lKSmJr776ioyMDBISErj55puZOnWq02Nzc3P5+OOPWbduHfn5+URFRTFt2jRuvPFGDIYTvwbff/89P/zwA8eOHUNRFCIjI5kwYQJ33nlnvXWbTCY+/PBDfvvtNwoKCoiOjmbKlCnccsstGI1G0tPTueCCC6q3HzJkCAAfffRR9fe1MZvNLFmyhF69evGvf/2LtWvXMn/+/Bph8fHHHzNz5ky+/fZb/vvf/7Ju3Tq8vb0ZNWoUDzzwgFNL4vzzz2fw4MHVXVGbNm1ixowZvPjii+zfv59ffvmFsrIyhgwZwpNPPomPjw9vv/02K1euBGDs2LE89NBD+Pn5Ve/zu+++Y9myZSQnJ1NeXk58fDznnnsuV199tdP7W5vly5czZ84ckpOTsVqtREREMGjQIJ555pl6H9dUqampfPbZZ2zbto3s7GyCgoLo2bMnd955J0lJSdXbnfx+HDp0iAULFlBeXk6fPn14+OGHSUxMrN5WVVW++OIL5s6dS35+Pp07d+aOO+5odE0pKSl8/PHH/PXXX5SUlBAfH89ll13GZZdd5rRdcnIyb7zxBlu2bMHHx4eJEycyevToZr8novEkLNzMlVdeyfz581m8eDEXXnhh9e2HDx9m06ZNPPLII07b//7772zevJnbbrsNX19fvv/+e5544gn0ej2TJk0CHEFx3XXXodPpuPnmm0lISGDHjh189tlnZGRkVB+UlixZwiuvvMLll1/Ovffei06nIzU1lSNHjtRbs9lsZsaMGRw7dozbbruNpKQktm3bxqxZs9i/fz/vvPMOERERzJo1i1deeYWSkhJefPFFoOHutlWrVlFUVMTtt99Ox44dGThwIMuWLeOBBx5wOlhXefjhh5kyZQrTp0/n4MGDvP/++wCNOvC+//77DBkyhGeffZb09HTeeeed6veye/fuvPTSS+zbt48PPvgAPz8/HnrooerHHjt2jKlTpxIfH4+Xlxf79+/ns88+Izk5ud7n3rFjR/UYzq233oq3tzcZGRls3LixwXrBcbC2Wq01brfb7TVuy8nJITg4mLvuuovQ0FCKiopYuHAh1113HV999ZVTCAB88MEHDBgwgCeffJLS0lLeffdd/vWvfzF37lz0ej0An3zyCTNnzmT69OlMnDiRrKwsXnrpJWw2G506daq39sOHD3PjjTcSExPDfffdR3h4OOvXr+f111+nsLCweswjLy+PW2+9FYPBwKOPPkpYWBiLFy/m1VdfbdR7JFxDwsLNdOvWjUGDBvHdd985hcV3332Hv78/5513ntP2hYWFfPHFF4SHhwMwatQoLr/8ct5///3qsPjkk08oLi7mu+++IyYmBoBhw4ZVf2K+5ppr6NKlC9u3bycwMNDpIDhs2LAGa164cCEHDhzglVdeqX7O4cOH4+vry7vvvsv69esZPnw4/fr1w9/fn8rKykZ3u82bNw9vb2/OPvtsAKZPn85zzz3HsmXLmD59eo3tp0+fzrXXXgvAmWeeybFjx5g/fz5PP/00iqLU+1xJSUlOB/bk5GS+/vprrrjiCu69997q17Vz504WL17s9D7961//qv7ebrczcOBAgoODef7557n//vvrHJvZsWMHqqry+OOP12j9NMa6desYPnx4o7YdNGgQgwYNqv7ZZrMxevRoLrvsMn788Uen1wCOIH/hhReqf9br9Tz66KPs3r2bfv36UVxczBdffMFZZ53FU089Vb1dly5duOmmmxoMi7feegt/f38+/fTT6tc+fPhwLBYLn3/+OVdccQVBQUH873//o6CggK+++oru3bsDjt/zO++8k8zMzEa9dtF8cjaUG7ryyivZv38/27ZtA6CkpIRff/2VadOm1fg0PWzYsOqgAMcf9OTJk0lNTSUrKwuAtWvXMnjwYCIiIrBardVfI0eOBGDLli0A9OnTh+LiYh5//HFWr15NYWFho+rdtGkTvr6+TJw40en2qgNeYz8lnyotLY1NmzZx1llnERgYCMCkSZPw9/dn/vz5tT5m7NixTj8nJSVhNpvJz89v8PnGjBnj9HNVq+fU7o7OnTtjMpmcJpPcu3cv999/PxMnTmTYsGEMHz6cZ555BpvNRkpKSp3P2bt3bwAeffRRli1bRnZ2doN1nmzgwIF88cUXNb6ee+65GttarVY+++wzLr30UoYPH86ZZ57J8OHDSUlJITk5ucb2tb2XABkZGYAj6Mxmc3WQVxkwYACxsbH11m02m/nrr78YP348Pj4+Tr+Xo0aNwmw2s3PnTsDx+9WlS5fqoKhy6vOKliUtCzc0btw44uLimDt3LgMHDmThwoWUl5dz6aWX1tj25KA49TaTyUR0dDR5eXmsWbOmzk+gVaFw3nnnYbPZ+Pnnn3nkkUew2+307t2b22+/vd5PryaTifDw8Bqf3MPCwtDr9ZhMpsa+dCfz589HVVUmTpxIcXFx9e1jx45l0aJFJCcn1+g6CQkJcfrZaDQCjoNTQ0799O/l5VXr7VVjEBaLBT8/PzIzM7nlllvo1KkTDzzwAHFxcRiNRnbt2sW///1vKioq6nzOQYMG8frrr/Ptt9/yzDPPYLFY6NKlCzfeeGOjDoYBAQHVgdOQt956i7lz53LdddcxaNAgAgMD0el0vPjii7XWGBwc7PTzqe9l1f9rfb+DdTGZTNhsNr799lu+/fbbWrep+r00mUzExcU1+TmEa0lYuCGdTsell17K+++/z/3338/cuXMZOnRojQMjOPpz67qt6o89JCSEbt261TnwGBkZWf39BRdcwAUXXEB5eTlbtmzh448/5v777+fHH3+s89NicHAwf//9N6qqOgVGfn4+NputxgG8Mex2OwsXLgRw6u452bx586q7h7S0evVqysvLee2115zeo/379zfq8ePHj2f8+PFYLBZ27tzJ7NmzefLJJ4mLi6N///4uq3PRokWcd955NU5WKCwsPK1Tiat+v+r6HayvdREUFIRer+fcc8+t9UMQUB0QwcHB9f6ei9YhYeGmLrzwQj755BOefPJJjh49yt13313rdn/99Rd5eXnVn7JsNhvLli0jISGB6OhowNG9sm7dukZf1wDg6+vLqFGjqKys5MEHH+TQoUN1/vEPHTqUZcuWsXr1as4666zq23/55Zfq+5vqzz//JCsri0svvbRG9xbAq6++yq+//sqdd97Z4NlGraWqJQKOgeeffvqpSY83Go0MHjyYwMBA/vzzT/bt2+fSsFAUxalGcHRRZmdnk5CQ0OT99evXD29vbxYvXuz0f7R9+3YyMjLqDQsfHx8GDx7Mvn376NatW426TjZkyBC++OIL9u/f79QVtXjx4ibXLE6fe/yViRoCAwM577zz+P7774mNja3Rf1wlJCSE22+/nZtuuqn6bKjk5GRefvnl6m1mzJjBhg0buPHGG7niiivo1KkTZrOZjIwM1q1bx2OPPUZ0dDQvvvgi3t7eDBgwgIiICPLy8pg1axYBAQH06dOnzlrPO+885s6dW30W0clnQ40aNYozzzyzya9/3rx56PV6brzxRqeWT5WLL76Y119/nbVr1zJ+/Pgm79+Vhg8fjpeXF0888QTXXnstFouF77//3qnrrC4fffQRWVlZDBs2jKioKIqLi/nmm28wGAxOg9GuMHr0aBYuXEhiYiLdunVjz549zJkzp/pDRVMFBQXxz3/+k//+97+88MILTJo0iaysLD755JNGdRE9+OCD3Hzzzdx8881ccsklxMbGUlZWRmpqKmvWrKm+ULXqDMH77ruP22+/vfpsqNrGWUTLkbBwY5MnT+b777/nH//4Bzpd7ecijB07lq5du/Lhhx+SmZlJQkICL774IlOmTKneJiIigjlz5vDpp58yZ84csrKy8Pf3Jy4ujhEjRlS3NqrGR5YvX05RUREhISEMHDiQ559/ntDQ0Drr9Pb25qOPPuKDDz5gzpw5FBQUEBUVxTXXXMMtt9zS5NddWFjImjVrGDNmTK1BAY6Aevfdd5k3b57mYZGYmMirr77Khx9+yMMPP0xwcDBTp07l6quv5p577qn3sX379mX37t28++67FBQUEBgYSK9evfjoo4/o2rWrS+t88MEHMRgMzJ49m7KyMnr27Mlrr73GBx98cNr7nDFjBr6+vsydO5dff/2VxMREHnvssUZNy9KlSxe+/PJLPv30Uz788EPy8/MJDAykQ4cOjBo1qnq7iIgIPvnkE15//XVeeeUVfHx8GD9+PA8//HCjp4sRzaeoqqpqXURbsmXLFgYPHsyXX37Z4lcCv/XWW3z//ff88ssvtfb7V12Ud+q1F0KIxtu7dy///Oc/2bx5s8tbc55EWhZuaOfOnRw9epTvv/+eiy+++LQGiIUQwpUkLNzQDTfcgI+PD6NHj+b222/XuhwhhJCwcEeNnXJZpmYWQrQWuYJbCCFEg6Rl0cK++eYbXn/9dbp06VI9W2xLmjt3Lj4+PjXmFqqa9fWZZ55x2eI7J3vooYdYtWqVSwbcqyaQ++STT1xRWpNUzV7b2Fbb1q1b+fbbb9m+fTsFBQV4e3vTtWtXzj33XM477zx8fX1bpM6cnBx+/PFHxo8fT48ePVrkORrDZrPx9ddfs2HDBg4dOoTJZCI2NpZx48Zx/fXXV0/TcrJvvvmGuXPnkp6eTmRkZK2zH69cuZLly5eze/ducnJyCAsLY8CAAdx666107NixeruSkhK+/fZbNmzYwNGjRykrKyMuLo5zzjmHK6+8Em9v71Z5H9oDCYsWVjWH0eHDh/n777/p27dviz7f3LlzCQkJqREIVbO+ns7FVw3Jz89nzZo1gONCqfvuu69Zf6SPPvqoq0prUVXB0r9/f2bMmEFCQgIVFRXs2LGDTz75hKNHj7bYqZ05OTnMnDmTuLg4TcPCbDYzc+bM6pl+Q0JC2Lt3L5999hlr1qzhiy++cJpq/7///S8fffQR119/PWeeeSa7d+/mww8/JCcnhyeeeKJ6u88//5zw8HBuvPFG4uPjycrKYtasWfzzn/9k1qxZ1acVZ2Zm8vXXX1dPB+/n58fWrVuZOXMmf/31F++//36DE0iKxpGwaEG7d+9m//791Yv2zJs3r8XDoi5Go7HFFlj65ZdfsFqt1a9z1apVzZrkrUuXLi6srmUsX768emruJ5980umANGrUKK699trqifDakoqKCry9vRt9gPX29mbevHlOZ+wNGTKEmJgYHn30UVauXMm5554LOK6f+eyzz7jwwgurpxwZMmQIVquVDz/8kCuvvLL6//6tt94iLCzM6bmGDh3K+eefz//+97/qWW7j4+NZsGCBUwtu6NCh+Pr68s4777B9+3YGDhx4um+HOImMWbSgefPmAXDXXXfRv39/li5dWmPCtrrWEa5tzeJjx47x2GOPcfbZZzNixAimTJnC7bffXr3k6Pnnn8/hw4fZsmVL9VreVS2M2vb38ccfM2TIEA4dOsTjjz/OuHHjmDJlCs899xwlJSWNfp3z588nPDycZ599Fm9v71pnhF2wYEH16/y///s/Jk6cyMSJE3nooYfIyclx2rau9Zu/+OILZs+ezfnnn8+oUaO49dZbOXr0KFarlXfffZezzz6bcePG8eCDD9aYZXbp0qXceeedTJ06lVGjRnHJJZfw7rvvUl5e3ujXebKZM2cSFBTEQw89VOuB1d/f32nyRVVVmTt3LldddRWjRo3irLPO4uGHH+bYsWM1Xvtll13Grl27uPnmmxk1ahTTp09n9uzZ1WtUbNq0qXoa9ueee676//rjjz+u3s/u3bu5//77mTBhAiNHjuSqq65i2bJlTs9V9X+yfv16nnvuOSZNmsTo0aOxWCyNfh/0en2tp3ZXfSiqmvkYHFO4mM1mp0WwwDEfmaqqrF69uvq2U4MCHHOYRUdHO+3T19e31q6+qhkHZApz15GWRQupqKhgyZIl9O7dm6SkJC644AJefPFFli9fzrRp005rn/feey92u5177rmHmJgYCgsL2bFjR/W0Eq+99hqPPPIIAQEB1V059c25U6U5CwZt376dI0eOcM011xASEsKECRNYvHgxaWlpxMfH19j+hRdeYPTo0bz00ktkZmbyn//8h6eeeqrGGuS1mTt3LklJSTzyyCMUFxfz9ttvc//999O3b18MBgNPP/00GRkZvPPOO7zwwgu89dZb1Y9NSUlh1KhRXHnllfj6+pKcnMwXX3zBrl27GvXcJ8vNzeXQoUNMnjy5xmqGdXn55ZdZsGABV1xxBXfffTcmk4lPP/2Um266if/9739O02Pk5eXx1FNPcfXVV3PLLbewevVq3nvvPSIiIpg2bRo9e/bkmWee4bnnnuOmm26qnkI9KioKcITJ3XffTd++fXnssccICAhg6dKlPPbYY1RUVNToonz++ecZNWoUzz//POXl5S6Za6tqWvqTW4mHDh0CcFqVDxxdpCEhIdX31+XYsWNkZGQwbty4Rj+/q6+Cb88kLFrIihUrKCkpqV6gZ8qUKbz55pvMmzfvtMKisLCwug+8qlkPMGHChOrve/bsibe3N/7+/k3qcmrOgkFVraeq1zl9+nQWLVrEggULmDFjRo3tR44c6TSLbFFREf/5z3/Izc0lIiKi3ucKDAzkjTfeqJ76pLCwkDfeeIPExETefPPN6u2qFi0qKSmpnk315ptvrr5fVVUGDBhA586dufXWWzlw4ADdunWr97lPVvVptbYwrM3OnTv56aefuO+++/jnP/9ZffsZZ5zBxRdfzFdffeU0LYjJZOKdd96p/nR+5plnsnnzZpYsWcK0adMICAioPggmJCTU+L9+5ZVX6NKlCx9++GH1gX/EiBEUFhby/vvvc9555zlNHzN06FCn8YLmys7O5r333qN3795Oa4SYTCaMRmOtLYGgoKB6p7K3Wq288MIL+Pr6ctVVV9X7/AcOHKhelKkp/6+iftIN1UKqVnirWgvbz8+PiRMnsnXr1noXw6lLcHAwCQkJzJkzhy+//JK9e/fWunTm6TjdBYPKyspYvnw5/fv3r54+ffDgwSQkJLBgwYJa6zv1uar+mBvTXTBq1Cing1x9ixOdus9jx47xxBNPMHXq1OrFiaq6uhpaNra51qxZg6IonHvuuU6L/ISHh9O9e3c2b97stH14eHiNsa2kpKTqRYfqk5qaSnJyMueccw5AjUWFcnNzOXr0qNNjTv7A0Vwmk4l7770XVVV5+eWXa8xpVt+Hj7ruU1WVF154gW3btvHcc89Vr/ZYm/T0dO677z6io6N58sknT+9FiFpJy6IFpKamsnXrViZMmICqqtXdRBMnTmTBggXMnz+fu+66q0n7VBSFDz/8kJkzZzJnzhzefvttgoODOfvss7njjjvw9/c/7XpPd8GgpUuXUlZWxuTJk51mWJ08eTKzZs1iw4YNjBgxwukxpy6oU9VNVt8CQVXqWoSorkWLqvrey8rKuOWWWzAajdVrefv4+JCVlcVDDz3UqIWRTlZ1sEpLS2vU9vn5+aiq6jS548lObaGc+h6B4/+kMXVWrfHw9ttv8/bbb9e6zakrIDbUomusoqIi7rzzTrKzs/noo49qnHkXHByM2WymoqKiRvddUVERvXr1qrHPqqBYtGgRzz77bL2TRmZkZDBjxgwMBgMffvhhre+jOH0SFi2gaoW3FStWsGLFihr3L1y4kNtvvx29Xl99imllZaXTNrUtaRobG8vTTz8NwNGjR1m2bBkzZ86ksrKSxx9/3PUvpAFVA9lvvPEGb7zxRo37582bVyMstLBx40ZycnL4+OOPGTx4cPXtjZlCvDYREREkJSWxYcOGWg98pwoJCUFRFGbOnFkdxCer7bbTVRX8N9xwg9PaIic7dW1sV5xaWlRUxB133EF6ejoffPBBrd0/VWMVBw8edGo55ebmUlhYWGN8oSooFixYwFNPPeXU/XqqjIwMbrvtNlRV5eOPPz7taddF3SQsXMxms7Fw4UISEhJqbQavXbuWL7/8kj/++IMxY8ZULxBz4MABpwPr77//Xu/zdOrUiZtvvpmVK1eyd+/e6tsb+wm0uY4cOcKOHTuYMGECl112WY37P/vsM3777TcKCws1nwix6mB46kH5xx9/PO193nzzzTz66KO89tprNU6dBUdrZseOHQwfPpzRo0cze/ZscnJymDx58mk/58nqav0lJibSsWNH9u/fX2NFvJZSFRRpaWm8//77dc7GPGLECLy9vVmwYIFTWCxcuBBFUZxaDaqq8uKLL7JgwQIef/zxGmdQnSwzM5PbbrsNm83Gxx9/3OD63+L0SFi42B9//EFOTg533303Q4YMqXF/UlIS3333HfPmzWPMmDFEREQwbNgwZs+eTVBQEDExMWzcuJFVq1Y5Pe7AgQO8+uqrTJw4kY4dO+Ll5cXGjRs5ePAg1113ndP+ly5dytKlS4mPj8fb27vG2SeuUDWwfe2119Z67UhZWRl//fUXixYt4sorr3T58zdF//79CQoK4v/+7/+45ZZbMBgMLFq0iAMHDpz2PidNmsTNN9/Mp59+SnJyMtOnT6++KO/vv//mxx9/ZPLkyQwfPpyBAwdy0UUX8dxzz7F7924GDRqEr68vubm5bNu2jaSkJC655JImPX9CQgLe3t4sWrSIxMRE/Pz8iIyMJDIykscff5x77rmHu+66i2nTphEVFUVRURFHjhxh7969/Pvf/27UcwwZMoRBgwbVeyV9RUUFd911F/v27eOBBx7AZrM5XV8SGhpa3R0VHBzMjTfeyEcffURQUBDDhw9n9+7dfPLJJ1x44YVOZ0699tprzJs3jwsuuICkpCSnfXp5eVUHUn5+Prfddhu5ubk89dRTFBQUUFBQUL1tVFSUtDJcRMLCxebNm4eXl1edn4RCQkIYP348K1asqF4O9fnnn+e1117j3XffxWazMWbMGF566SWuueaa6seFh4eTkJDA999/T1ZWFoqiEB8fz3333cfll19evV3VH85LL71EaWkpsbGxTtdWuILVauXXX3+le/fudV5kOGrUKKKjo5k3b57mYRESElLdh//UU0/h6+vLuHHjePnll53OTmqqGTNmMGzYML799ls++OADCgsLq6f7uPrqq7n44ourt33iiSfo168fP/74I99//z12u53IyEgGDBhQ7yqEdfHx8eHpp59m5syZ3HXXXVitVm655RZuu+02hgwZwueff85nn33Gm2++SVFREcHBwXTp0oVJkyY1av9lZWVAw+MZ+fn57N69G4DXX3+9xv3Tpk3j2Wefrf75pptuwt/fn++++44vv/yS8PBwrrvuOm666Sanx1XNCDB//vwa1+2c/Dt9+PDh6rGjqgv1Tlb1nojmk8WPmqg1Fz8SQitr167l/vvv5+uvv26Rlqk7kcWPGkdOnRVC1LB582amTJni8UEhGk+6oYQQNdx7771alyDcjLQshBBCNEjCQgghRIMkLIQQQjRIwkIIIUSDJCyEEEI0SMJCCCFEg+TU2dPU0tNaCyFah/wtN45cwd1EKSkp9OrVq3o6BCFE2+fn58eePXvo2LGj1qW4LQmL05CSkkJubq7WZQghXCQiIkKCogESFkIIIRokA9xCCCEaJGEhhBCiQRIWQgghGiRhIYQQokESFkIIIRokYSGEEKJBEhZCCCEaJGEhhBCiQRIWQgghGiRhIYQQokESFkIIIRokYSFEMyiKws8//1zj9uTkZBRFYdu2bU3e5/jx47nvvvuaXVtjXX/99Vx44YWt9nyibZKwEKIBtR1Mr7/+ehRFAeCiiy4iPDycs88+mx07dgDQoUMHMjIy6Nu3r8vqWL16NYqiUFhY6LJ9CtFYEhZCnKazzz6bjIwMMjIyWLFiBQaDgWnTpgGg1+uJiYnBYKh9fTFVVbFara1ZrhDNImEhxGny9vYmNjaW9evXM3DgQJKTk0lNTSUnJ6e6G2rlypV4eXnx1ltvoSgKCxcuJCYmBp1OR2BgIEOHDmXKlCkEBAQQGxvLE088wc6dO/noo4/w9/enT58+/PrrryQnJ3PWWWcBEBoaiqIoXH/99QCYzWbuueceoqKi8PHxYfTo0WzcuNGp1l27dnHeeecRFBREYGAgY8aM4dChQ7W+rs2bNxMVFcVLL73Uou+faFskLIRwgZKSEkJCQjAYDISFhVXfvnTpUqKjoxkwYAAA11xzDeHh4Xz99desWbMGLy8vli1bxnvvvcfSpUv59NNPMZlMXHLJJezcuZN///vfBAQE0KFDB3744QcA9u3bR0ZGBu+88w4ADz/8MD/88AOff/45W7ZsISkpialTp5Kfnw9AWloaY8eOxcfHh/vvvx+AG2+8sdaWzerVq5k4cSLPPfccTzzxRIu+Z6JtkTW4hThNCxcuBOCKK67AbDYTFRWFqqr88ccfdOjQAYBFixZx1VVXodM5PpeZTCZ27dpFXFwcJSUlbN68mb59+7J//36uv/56IiIiyM/PJyIigi5dutClS5fq56sKoaioKIqLi3niiSf45ZdfyMrKIjw8nMWLF/P0008zc+ZMli1bRteuXXnmmWfIzs4mODiYb775hq+++gq9Xs8NN9xQ4/XMmzePa665ho8//pgrr7yypd8+0cZIy0KI01TVLfTWW2+xYcMGzjnnHPR6PR999FH1Njt27ODqq6+u/llVVbp3705AQABRUVFYLBb27t1b3SV0//33Y7Va+e6773jmmWeqB8xPlpyczJAhQ9i/fz8vv/wyAK+//jorVqxgxIgRFBcXM2zYMCorKwHYtm0bY8aMwcvLq87XsmHDBv7xj3/w+eefn1ZQVD2X8FwSFkKcJn9/fwBiY2MZNmwY//3vf1EUhZ9++qn64Nm1a9fqLihwDHxv3ryZbdu28c033wCwYsWK6i6lm2++md69e9OzZ0927tzJkCFDePfdd52e98EHH8RoNLJ06VIGDx4MwIQJE1i+fDlpaWk88cQTrFmzhtLSUu6//34WLVrEF1984bSPJUuW0KtXLwICAli2bBkdOnSgZ8+efPbZZ1gsFmbNmkWvXr3w8fGhZ8+efPDBB9WPrRqP+e677xg/fjw+Pj58+eWXLn53hbuRsBDCRRRFwcvLC6vVym+//QbAueee67SNzWYjOzubpKQkJkyYgJeXF5mZmcTExABQUFBAcnIy/fv358cff+SBBx5g5syZABiNRsARLnfccQe+vr4kJSVhNBpZu3YtMTExXH311XzzzTcYjUaCg4N5/vnnefDBB+nYsWN1gJWVlfH6668zZ84cfv/9d0pLS8nIyGDlypUcOnSIM888k8cff5yXXnqJPXv28PLLL/PUU0/x+eefO72WRx55hHvuuYc9e/YwderUFn1vhfZkzEKIRjCZTE4X2OXn51NUVAQ4DvB79uzhvffeo7S0lAkTJvDmm28CcM455zjt59JLL+Xaa6/ljTfe4IwzzuD888/ntttu4+DBg1xwwQVMnz4du92OyWRiy5YtrFy5kl69egHQqVMnFEVBVdXqMY+AgABuv/12HnroIcLCwggNDa2+DiMwMJDAwEDuuOMOZs2axRVXXEHfvn2prKxk6tSpBAYG0qNHD3r27Mm2bduIiopi5cqVdOjQgUGDBnHBBRdgMBjo3Lkzu3fv5uOPP+a6666rfi333XcfF198cQu+68KtqEKIel133XUqUO9XYGCgOnToUPX7779Xf/nll+rbt27dqqqqqq5atUoF1OzsbPXpp59WExMTVS8vLzU6Olrt0KGD6uPjo0ZHR6sjR45UfXx8VL1er0ZGRqrXXHONmpubW13LrbfeqgKqoijqddddp6qqqpaXl6t33323GhERoRoMBhVQlyxZonbq1El96623VFVV1e3bt6tTpkxRjUajCqhjxoxRDx06pKqqqp511llq1aEgOzu7ev96vV718/NT/f39VW9vbzUqKkpVVVU9cuSICqhr165tnf8A4RYkLIRoQ3Jzc1VFUdSXXnqp1vtvueUWNTQ0VLXb7U5hUWXWrFlqcHCw020//fRTdVhkZmaqgPrll1+qBw4ccPo6fPiwqqonwqIqCEX7IGMWQrQh4eHhTJ48mQ8++IDy8nKn+zIzM/nqq6+4/PLLURQFo9GIzWZr0v6jo6OJj4/n8OHDJCUlOX117tzZlS9FtDESFkK0Me+99x5ms5mpU6fy+++/k5qayuLFi5k8eTLx8fHVV14nJiby+++/k5aWRm5ubqP3/+yzz/J///d/vPPOO+zfv5+dO3cya9as6nEY0T5JWAjRxnTr1o1NmzbRtWtXLr/8crp27cqtt97KWWedxZ9//ll98d7zzz9PcnIyXbt2JTIystH7v/nmm/n000+ZPXs2/fr1Y9y4ccyePVtaFu2coqqqqnURQggh3Ju0LIQQQjRIwkIIIUSDJCyEEEI0SMJCCCFEgyQshBBCNEjmhhLtgq3cjM1Uiq3MjN1swV5hOfFvhQXVXIndXIlqs4OqgqoS3KsDPnG+4G1x7ETRnfSlB0VPocGHdT6hRADhQAQQDCjavVQhWoSEhWjzVLuKNb8IS1YBlflFWE0l2ApLsZpKsJpKsZpKUS1NX28hOC4Ugm1gK6xzmwqfUKb5hDrdZsARGl2ApONf3U76N7jJlQihPQkL0WaodjuV2YVYMvOxZBc4/s0qoDKnELWy5hKhraFUqfknZAUyj3/9UctjInAOkCSgP9Ab6RcW7kvCQrgta2EJFUczqTiaRUVKFubUnNNqIZyuykorBpu13j+SYl3T/4Ryj3+tP+V2f2AQMOz415lApybvXYiWIWEh3IKqqljScinbn0pFciYVKVnYTKWa1pSVkY6fjz9xXQPq3OZgcSmEuOb5SoE1x7+qxAOjgTHHv/oirQ+hDQkLoRlrYQll+1Io259K+f5j2ErKG35QK9Ib9Oj09R+a9xWVtGgNacC3x7/AkUtjgfOPf0W36LMLcYKEhWg1qt1O+cE0SnclU7YvhcqsAq1LqpdOp0PfQFhY/OtudbSEQmD+8S8djq6q6ce/erZqJaK9kbAQLUq12Sk7kErptkOU/H0Ye2mF1iU1Uf0nwebrja1UR0124M/jX48C3YELcATHSKS7SriWhIVwOdVqo2x/KiXbD1L69xHsZWatSzp9DVwwkWvQLixOtR94/fhXJHAecDFwDvKHLppPfoeEy5jTcylav5vizfvadkA0Qa6Xt9Yl1CoHmH38Kxr4J3AD0Ee7kkQbJ2EhmsVeYaF4y36K1u/GnJqtdTmup9S/3Eu20T3D4mRZwBvHv4YBM+wWrlYtGPWtO94i2jYJC3Fayg+nU7R+NyXbD6JatLkgrnXU3w+VbfRtpTpc4y+gszkFZd8NdA07m94RlxLu113rskQbIGEhGk212ijeegDTb9sxp+VoXU6rqC8q7KpKtpt2Q9VnSMZ/qbSXsTf3R/bm/kiUf396R1xCl9DJ6HXuMwYj3IuEhWiQrawC07q/Ma3Zga24TOtyWpVaT1qYbSp2vb71inGBAbZygguXOt2WXbqD7NIdbEh7h/7R19I78h8YdG2rxSRanoSFqFNlQTGFq7dRtGE3qrn1ptlwJ/W1LMptbW/5+smFq+q8r9yax4a0t9ieNZt+Uf+kT+RleOn9WrE64c4kLEQNlQXFFCzdSNHGvWCza12OppR60qK0jb01XpYKOh59vcHtKqwFbEx/lx1ZX9Av6mr6RF0ug+FCwkKcYC0qpWD5Zor+3IVqtWldjluor+3Q1sLijNQ/8cHU6O3NNhObMj5gR/Yc+kZeSd+oK/E2BLVghcKdSVgIbKUVFKzcgmntDg8/s6np6uuGKm5j10hPKPr+tB5nsRWzJfMTdmZ/RZ/Iy+kXfTU+hhDXFifcnoRFO2Y3WyhYtRXTb9uxV1i0Lsc91ZMWxfWNfruZhIJ0uqinToreNJX2UrZlfcaunG8YGHMT/aOvRqd4uahC4e4kLNqp4k37yF3wB7YibacBb8tMSts5E2p05iKX7avSXsbG9HfZnzefER0epEPQSJftW7gvCYt2xnwsh5wff6fiSIbWpbQJ9Q1wm3RtIyy8rJWcWfa1yxcGN5mPsvjg3XQKHseIhAcJ9I5z7RMItyJh0U7YSsrJ+3U9Ret31T9qKxqtoJYlVd3RoPRN+CstNx38UdNvHCtaz4Do6xgQcx0GnU+LPZfQTtv4bRenTbWrmP7YSd4v61FlXKLp6vk0nq9vG/31Ywu+bXijZrKpZrZkfsL+/IUMT7ifziETWvw5ReuSsPBgluwCsv63HPPRLK1LacPqTos8N5qevC6xhVl0s61peEMXKbGks/zwQ8QHDmdkh4cI8UlstecWLattnfsnGkW128lfsZmUV7+WoGim+rr520JYjMpcrMnzphWv54c9V7A96wtUVfo9PYG0LDyMOSOP9DlLsGXka12KZ6hnivIcN59E0GCzMqLsf5o9v12t5K+0d0g1rWN84vMEGGXF8LZMWhYeQrXZyV28gZTXv5GgaCU5RvceyB2YvpVAcrUug4ySTfyw53IO5S/RuhTRDNKy8ACV+UWkfroAe0aBq8+ObPeUes6dzXLzlsWY/Llal1DNYitmZfLjHDX9zuiOj2LUB2pdkmgiCYs2rnDzPrK/WYHO2sYmKmrj7Krq1i2LqKJcetlWaF1GDYcKFpNVuo3xnZ4nNnCw1uWIJpBuqDZKtdo4MmshuV8uk6DQQIVNBZ37/vmMylja8EYaKbFk8suBGWxI+w82e/uc+r4tct/fdlGnsrQc9j4/C9uOZK1L8Xx19EK581oWepuNkSVfaV1GvVTs7Mj6nHn7rqOw4qjW5YhGkLBoYzJWbyL1zW/xKq7QupR2oa4RC3eennxAxnaClUyty2iUvPJ9zNt3HalFf2hdimiAhEUbYbfZ2f/fnymdtx69Gx+oPE4daVHixv8Ho/N/0LqEJrHYilly8D52Zmt3mq9omAxwtwHlhUUceO97/PLa1/rX7qCulkWJ6p6fs8KL8+ldudjlkwa2NBUb64+9QUH5IUZ3fFSmPndDEhZuLnPXQbK/WIKfxX37yD1ZXe96kZs2ykdlLEfXxoLiZPvyfsZkTmFyl1fxMYRqXY44iXv+xgtUVWXf4t/J/++vEhQaqus6C5Pifn86OruNUW4+sN0YmSVb+GnvteSXH9C6FHES9/uNF9hsNrZ99iPKku0Y3bS7o92o41O6yQ2nJ++XuYtQjmldhkuUWNKZv+9Gjhb+pnUp4jg5ErmZ8rIyNr71BYF/Z6Brax3PHqiu/4ECvfuFxejcH7UuwaUq7WUsO/wg2zI/07oUgYxZuJW8nBz2vj+XaJMbn2rTztQ124e7rWURWlpI38pf29zAdkNU7GxMf58SSxajOjxa7/QromVJWLiJo/sPcuyzX4g2t42lOtuNNhIWI9NXoldsWpfRYvbkfo9NrWRsxydR3HC8qD2QsHADuzZspui734i2u//6CMIhx+A+kwgqdjuji7/UuowWtz9vHna7hXGJz6FT5ENVa5Ow0JCqqmxdtRbrgo1EIkHhjurq9cg1uk9Y9MnaQzjtY8qMgwWLsKkWJnR+Sa7FaGXSntOI3W7nz1+XYZ+/kTAJijYn242mJx+d+7PWJbSqI4UrWHb4YWx2WVO+NUlYaMBmtfLbT79gWLaTEEWCwp0pdQxaZBl9W7mS2gWXFdHfMl/rMlpdiul3lh7+F1a7zJHWWiQsWpnFbGHptz/h9/s+whT3+XQq6lBLVthUlXxv91jLYkT6agyKVesyNHGs6E8WH7yXSlu51qW0CxIWraiivJxFX31H6F9HCde5x8FG1K+2dkWF1T2uqFdUldFFbf+K7ebIKNnEooN3YrGVaF2Kx5OwaCXmigqWfP0DkdsziJCgaDtq+Qspt7tHWPTI3k8UB7UuQ3NZpdtZfPBerHaz1qV4NAmLVmAxm1n8zQ9EbM8gSucefd2isWq2LUrd5HKGMdk/a12C28gq3cbq5KdQVfcIck8kYdHCLGYLi+f+RNCWVKIlKNoepebBp8QNjkcB5aUMtPysdRlu5UjhCtanvaV1GR5LwqIFWcwWlvzwM4YNh+igD9C6HHEaahuzKHGDP5vh6b/jpcipo6f6O/srWUSphWj/W++hKi2VLPtpPuY/99DdEKx1OcKFTG4wE/BYk+dfsX26Nhx7i8MFy7Uuw+No/1vvgWw2GyvmLyRn7TYGGsK1Lkc0Q20T15k0nmqiW/ZBYtiraQ3uTMXO6uSnySzZqnUpHkXCwsVUVWXt0hUc+W0jI72itS5HNFctYxYmnbZhMTq7/V2E11Q21czSQw9QWHFE61I8hoSFi21e+ydbl6xmnCFG1qPwUAU67eYk8jeXMdj8vWbP35aYbSYWHbyHsso8rUvxCDKRoAvt2baD1fN+ZYIuSla4cyNfbf+dTzevILu0iHDfAKx2GyZzOd3CY3li3MUMjU+q3ja71MT//f4Tu7JTSX4nhzHDBpCdV0ByagYd46N54p5r2RzeCc6+FLKyYNgwSE6G7Gy48EJ4/XUYNQqWL4fgYBg61PF9x44ueS3D0tZhVOR6gsYqsaSz5OA9TOv+KV56ORuxOeSI5iKph4+w+Id5DLYFEaRKBruLX/Zt5qXffuT2YVP518hpZJWYMJnLmTl9BkPiunLzzx+SXpRfvb3FaiXMN4Dbh04hOjSMP7f8zbP/upFdK+fw3AM3ccfjb/DjHQ/AjBmwdi2sWgX9+sEff8Bff8FFFznu69gRHnnkxPcuMtbUvq/YPh255XtZm/p/WpfR5klYuEBuVja/fPM9CSaVDvhpXY44yWdbVnFJnxFc1nckv+7fyuX9RpEQFM4fKft4cvw/iAkI5X871lZvnxAczlPjL+Gi3mdSUl5G3x5duPyCiXzx/WKuvPNZSssqqCwuhgcegIkTwWaDqCjo0wcGDYL9++Hee2HdOkeQfPkl+PhAly7w0UfOxS1bBt27O1og110HlpNOhTWZHPelpFTf1CX3CPHqzpZ+yzzSwfxf2NvOZud1NQmLZiorKeXXb39ATctnoD5U63LESSw2K7uyUxndqafT96M79WRLhmPg8+TvT2W3q+j1Jwaz+/TozJ3XX+z44dNPYeNG8PICnc5xcP/5Z7j5ZkeA3HQTHD0KY8fC1q3w+ONwzz3www9VO4err3a0PKpaJTNnnnjyWlolo7MWuvT9aW/+SH2V/PIDWpfRZklYNIPjFNlfydhzkHE+cXVOZy20UVBeik21E+EX6PR9hF8guWVFAE7fnyokIIDd+w+zecdeVFXFYqlk7sJVjjvffRfGj4dp02DDBkhMhKQkuOwyx7/JyRAQ4AiUCy+Eigq48UbHmAZAbi7k5MAddzhaJRdcALt3O+5btw42bXK0UI7ztVQwtOK7Fnmf2gubamb54UeotJVpXUqbJGHRDBt/X8f2P9czyb8jRrsEhbs6OcQVFFROXJl98venio+IolNCLMMvuI0X3vmcg0eOUVp2fDrsxERYsQJ+/BG+/hoiIhwH+auvBrPZMY6Rnw/nnANr1sDzz0OPHo4QqKyEyEiIjYWlS6G83LFN//6Orqjbb3d0WZ3Uqhma9gfeihzkmstkPsralJe1LqNNkrA4TYf27OP3RUsZ7BNNsE3WA3ZHob7+6BUdOWVFTt/nlRUT7hcE4PT9qXQ6HZPHDKHswAo+f+txvvnwee656TLw84OCAhg50tFCuPVWeOMNR/fT7t3w3nuOoFBV8PV1jGmMG+cYf7BaHY9RFPjuO3jhBejdG844w9HyeOUVx1iIr6/jrKoePeC99xhbKFNYuMrBgkXszf1R6zLaHAmL05CXncOSH+YRYlZIssqAtrsy6g30ierAupS9Tt+vS9nHoNjOAE7f107By8vANZecw2XnT+D3Ddth+nT49VfH3XfcAeHhjm6k2bMdt02ZcuLhVYPWlZWOcQo4sbD36NGObqojR+D99x3/zpnjCJBrroHbboM1a9A99yy6/etc9r4I+CP1dfLKZPyiKeQczyaqKC9n8fc/U5CWyYX+XVDcZLpqUbsbB53FQ0vm0De6I+d2P4NX18zDoNczomMPXvrtB44WZnOkIBuA19fOJ6u0kBvOmABAQXERG7fvYd6SNZRXmPl5yRp27z8C3/4M/v6OT/2LFsHevY7rLN56C7p1g7ffhsBARwGHD8Offzq6rJ56CgwGR7icSlVPtFDsdseg+CWXgJ8fCYM6sX9zNgnd5IOJq9hUMyuOPMJFPb/ESy/va2NIWDSBqqr8vmgZ+3fuYmpIF7xl+V+3d16PwRRWlPL++sVklxURHRBMpc3GLfM+ont4LCM69KCwohRwXJCXXlTA9P/9+8QOjsGFNz2GoihcMGU0c795n0mJiY5xiY0b4ayzID4errwSHnzQcZHeddc5BrhDQhzXYvz4Izz0kKPlMGSI4wyqU/33vydaKAUFjtsqK/GuNBNsPordLheUuZrJfJQ1KS8xofNLWpfSJiiqrBbSaHu27eDH2V/Ryy+C/uXyx+vpvIZ1otPYMAAefOE9zp80ivLQSM4JSIQXX4TffoOdO6FTJ3jsMUhLgy++cDz4yBHo29fRlXTLLY7WxYwZjsHwf/zD+Ymysx0hs26dI3jAMY5x+eX07xfJvmvu5l8fdqNzX//We/HtyPhOL9At/Fyty3B70rJopILcPFYuWESAoqd3hQRF+3Dic9SxjByuvOtZcvJNEBkFw4fD+vWOoADIyHC6gI7OnR3jGvff7xiPiIuD//ynZlCA4xTZBx88ERTgGP+47jr2v3WEqddES1C0oD+PvU5C0HB8vcK0LsWtScuiEWxWKz/P+Zodf23m/OCuhJjlNNn2wDCsE4ljnQ8gS0oUzu4xslWeP6EgjaePXNAqz9XedQ6ZxKQu/254w3ZMzoZqhC1/bODvzVsZHNlJgqIdqe1zVGuuZTE6c1GrPVd7d6RwOUcKVmpdhluTsGhAekoqvy9eRqh/IN1KtZuaWrS+2sKisJXWsjBWWhhe/nWrPJdwWJf6ChVWk9ZluC0Ji3qYKypY/vNCik0mhhgi8bJrXZFoTXa15n94a61lMTh9E34UtspzCYdyax5/pb2jdRluS8KiHht//4NDe/fRLyaRKJlpod2x22uGRb6+dcJiTIHMA6WFfXnzySrZrnUZbknCog6Zx9LYsOo3wkJC6VEk03m0R6q9ZjdUnsHY4s8bW5hJkn1Niz+PqI3K2pSXsatWrQtxOxIWtbBZrfz261KKTUX09wrHR35v2iVbLd1Qua0QFqMzFrf4c4i65VccZGe2zMV1KgmLWuzYuIW9O/6mc1wC8bXPXi3agdoGuHOM3i36nAablRFlMrCttS0Zn1BiydC6DLciYXGKgtw81i5dgY+PDz3KveUNasdqG+DO9vJp0ec8I30LAUpuiz6HaJjVXs7GtPe1LsOtyLHwJKqqsnbpCnIyMukaEUuEDGq3a7WNWWR5t2xYjM2XgW13cahgicxMexIJi5Mc2LWHHX9tJjoulq4FWlcjtKae0rKw2lWKvVquGyqqKIcetlUttn/RNCp2NqVL66KKhMVxFrOFP5avwm63kagPJNCidUVCa/ZTxizKrS17oc3o9CUtun/RdClFa8gs2aZ1GW5BwuK4XZu3cvTgIeLi4+lUINNliZoD3GUtmBUGm5WRpXIGjjvamP6e1iW4BQkLoLS4hPWrfsfbx4eOZiM+sqCRAOw4h0VpC4ZF/4ztBClZLfcE4rRllmwl1SQrFUpYAFv+WE/msTRiomOJN0mrQjicOsBdorbcJJJj8r5vsX2L5tuY/n6tp1K3J+0+LHKzstn4+zqCQkOIL9dhlPmfxHHqKS2L4hYKi4jiPHpZl7bIvoVr5JXv43BB+/4/atdhoaoqG1avoTAvn4jICOKL2vcnB+Hs1E+SRS00Pfmo9OXoZOZ7t7cp48N2PQ1Iuw6LtOQUdm7cQmRsNLElCkYZqxAnOfVsKFML/Lno7DZGlX7p8v0K1ysyp7Ivd57WZWim3YaFqqps+WM95WWlBAUFyViFqOmUT/uFOtevQtwv429CSHf5fkXL2Jr533bbumi3YZGRcow923YQER1NTImCt7QqxClOHc8s0Ls+LEbn/ejyfYqWU1qZ1W5X1GuXYaGqKpvXraespJTAoEBpVYhanTqMkO/ihY/CSgrpW/mLS/cpWt7fOe1zosd2GRaZx9LYs207EdFRRJQrcl2FqNWpHyFcvZbFyPQV6BX5oNLWZJfuIKd0t9ZltLp2GRZb/thASXExgSHBxMoZUKIO9lMO5LkunBdKZ7czukQGttuq9ti6aHdhkZWWzq4t24iIiiLAAsFmrSsS7su5IyrbhWHRO2s3YaS4bH+idR0uWEZZZfuaSr7dhcW29X9RWlRMUGgIscXSqhB1U04ZtMg2um568tG5P7lsX6L12dVK9uT8oHUZrapdhYUpv4BdW7YTEh6Glx0iSrWuSLi1U9Iiy9vXJbsNLitigGWBS/YltLMn9wds9kqty2g17Sos9m7fiSm/gJDwMKKLQS8NC1EP9aRuqEq7SpnBNWdDjUhbhV6RsyraunJrXruaAqTdhIXFbGHb+o34+vuhUxRipAtKNOSkloWr1rJQVJUxxTKw7Sna00B3uwmLQ3v2kpWWTnhUFCEVyOmyomEnhYWr1rLombWXSA67ZmdCc7lle9rN4kjtIixUVWXbho2gUzB6G4kskVaFaJhy0ux+rlrLYnRO+51byFPtz5uvdQmtol2ERVpyCsn7DxIRFYXOrhJepnVFok04qWXhirUsAstLOMMiZ0F5muTCVdhVzx/obhdhsXvrdirKyvEL8CeiVAa2RePodCf+PIrV5v+pjEj7DYPSPieh82RmWxHHitZrXUaL8/iwKCspZc/2nQSHhaIoCpGlkhSicZSTWhbNnZ5cUVVGF3/V3JKEmzpUsEzrElqcx4fFkX0HKMzLIzgsFKNVJbhC64pEW3HymIVJ17yFj7plHyRG3dfckoSbOlq4Gqvds6eD8Piw2LtjJ4qiYDAYiCypOZOoEHVRlBN/HoVK86YnH5PTPgZB26tKeympReu0LqNFeXRY5OfkcmTfAULCwwCIkC4o0QQnZUWz1rLwryjjDHP7mhqiPTqc79kX6Hl0WBzas49iUxGBwcF4V6oEeP4JC8KFdCelRYH+9K/eHp62BqPi2V0UAlKK1lBpK9e6jBbjsWFht9vZtWUb3j7e6HQ6OV1WNNnJYxbNWctiTJEMbLcHVnsFKaY1WpfRYjw2LDJSjpGReozQiAgAwsqkC0o0zcmnzuacZlh0zTlCnLrLVSUJN3eoYInWJbQYjw2LI/sPUFFWjq+/HwabSpD0AogmUk4Ki9OdnnxMtswu254cK/oDi61E6zJahEeGhd1uZ9/OXfj6+6EoCqHlchaUOA0n/dKcTlj4mssZXDHXhQUJd2dTLaQXb9S6jBbhkWGRlZZOTnomwaEhgHRBidN1Ii2yTiMshqX/gbcig2XtjYRFG5Jy6AjlZWX4+vuDqhLiuScoiBbl+JBhsdmpOI21LMYWtp/pq8UJ6cWbtC6hRXhcWKiqyoFdezB6e6MoCgEWMEjDQjRDua3pv0CJeSl0ULe2QDXC3RVUHKK8Ml/rMlzO48KiMC+fjNRjBB3vgpLpPcRpOz43VNlprH0yJnOhi4sRbYknti48LiyOJR+ltKiYgKBAAIIrpFkhTpPq+N1p6oX/PhYzQyu+aYGCRFuRXuJ54xYeFxZHDxxGURTHOfKqSqC0LMTpOj6+3dS1LIakr8dHKW2BgkRb4YmD3B4VFtbKSpIPHqxuVch4hXCFoiauZTG2QFoV7V2ROZUSS6bWZbiUR4VFdkYmxQUm/Ku7oDQuSLRtx8csipTG/5l0yE8jUf2rpSoSbYinjVt4VFhkHUunoqIcH19fQMYrRHM5fn8KlcavZTE689eWKka0MZ7WFeVRYXEsOQW9Xu9Y4UzGK4SLNHYtC+9KC2eWy7UVwiGjRFoWbslaWcnRQ4fwDwgAwMcq4xWimY6Pazd2LYtB6RvxU0wtWJBoS0osmZRacrQuw2U8JixOHa/wt2hckPAY+frGzTg7puDbFq5EtDX5FQe0LsFlPCYsTh2vCLBIs0I0T9UJs3mNmOojrjCTJLtnL6spmq6g/KDWJbiMx4RF5rE0dDqdY7wC8JcpyUVzHU+LXC/vBjcdnbGohYsRbVF++SGtS3AZjwgLVVU5lpyCr59f9W3SDSVcJcer/hlnvayVDC/7XytVI9oSaVm4mZKiIooKCvD1d4SF0apitGtclGj7jrdSG5qe/Iz0zQQonjdxnGi+gooj2NXTmFzMDXlEWORl51JWWoavnz/guHJbiOZSjs8NlentW+92YwpkgSNRO5tqpsicqnUZLuERYZGfnYPNZsXL6BiI9K3UuCDhEVQFzDY7lfq6L8qLNmXTw7a69YoSbU6Bh4xbeERY5GZno5y0qplPpZwJJZpPoeG1LEZnLGmdYkSble8h4xZtPixUVSXtyNHqU2bBcUGeEM2lKvWvZWGwWRlZ9lXrFSTapPwKCQu3UF5aRkFefvXgNkg3lHANBaXetSwGZGwjEM+5Qle0DOmGchOmggIqysvxPt6yUOwqRs84+UBoTqW4nrUsxuT90Iq1iLaqyJyKzd72P8G2+bAoLjRRabZg9HZMyeBjhaYtVSNE3YrrWMsisjiPntalrVyNaItU7JRbc7Uuo9nafFgUmUyoqI6V8QBfGa8QrqIoda5lMSp9KTr5VCIaqawyT+sSmq3th0WhqWrZAQC8235rT7iR2tay0NtsjCr5UoNqRFtVLmGhvbysbLyMJ2YFNTZwqqMQjaaoFOhqTk/eL3MnwYpnLZkpWlZZpXRDaUpVVfKysvH2OTHRm5dM8yFcRFGgQF9zxlkZ2BZNVWaVloWmykvLKCspxXhyWMiZUMJFVBTydc5hEVZSQO9KmWFWNE25tCy0VVxUhNlsxugtYSFcTwHyvJwXPhqVvgK9Il2dommkG0pj5aVlWC2VTmMWEhbClTJPalno7HZGFcvAtmg6GeDWWEV5OTa7Df1JE73JmIVwFUVRyThpgLtP1i7CFM+YQVS0Lhmz0Fh5aRkKSvXqeHq7il56CISLqCrknDQ9+ZicnzSsRrRl0rLQWEV5udPPBumCEi5Ubqkgzy8AgJBSE/0qF2pckWirbKoFs7VI6zKapW2HRVk5qnqiKaGTVoVwofwKM3aDoxtqRPoq9Ip8GhGnz2Ir0bqEZmnTYVFSVITecGK8QsJCuFKh1REOit3OGBnYFs3U1pdXbdNhUWwqwmA46WwVCQvhQiXH55Hplb2PCI5oXI1o61Ta9sR1bTosykpK0HudOFtFwkK4ksXLcf3O6JyftS1EeARpWWjIYrFUzzYLEhbCtaz+fgSVFzPQ8rPWpQgPoEpYaENVVayVlRIWosWU+/gzPO03DErb7j4Q7kFaFhqx22yodlXCQrSYfIOBsUUysC1cw46EhSasVit2u736gjwAmbJHuFJYyT6iOKB1GcJDqGrbbqG22bCwWW2odrtTy6Ke5ZKFaLIuRVu1LsGtLfosk1sHb+Hb109MgaKqKvM/TuehqTu5c+RWXr91P+mHyuvZi8PmFQU8c8lu7hi+lWcu2c3WlYVO92/4NZ9Hzt3JfWdt5/u3jzndl5tu5smLdlFe4t6f3KUbSiM22/GWhYSFaCHR6TFal+C2kneV8vtPuSR083W6fcnnWSz/KpsrH0ng8S96EhTuxVt3HKSitO4D5aEdJcx87AjDzw3jqa97MfzcMD5+9DCHd5YCUFxg5YsXj3LJffHc914Sfy7MZ8caU/Xjv/q/VC6+Ow7fgJqrGroTu7QstGGz2rCrzmMWMoegcKXo9Eiw1lz8qL2rKLPx6ZPJXPNkR/yCThygVVVl+f+yOffGGAZNCCU+yZcbnuuEpcLOhsX5de5vxf+y6XVmEOfcGENsZx/OuTGGXsOCWPF1NgC5aWZ8A/QMnRJGYh9/egwJIONIBQAbFuVj8FIYNCG0ZV+0C8jZUBqx2+2gqpw0ZCEtC+FSOnR4FUZpXYbb+fqVVPqNDqb3mUFOt+emWSjKs9J7+InbvYw6ug8O4PD20jr3d2hHKb2HBzrd1ntEIIeOPyaqozeWCjspe8soNVlJ3l1GQpIvpSYr8z/K4MqHO7jw1bWctj7AXXOB4TZCURRQFE6aGgoZ3xauFpQdQ15EmtZluI2/luRzdG8ZT8zpWeO+orxKAILCnQ8rQWEG8jIsde6zKM9KUJhzCy4ozKt6f/5BBm54NpHPnk6m0qwy/Lww+owMYvZzR5lweSS56Wbe/9chbFaV82+NZfAk92xlGHQ+WpfQLG22ZaHT61FQnCYSlJaFcLXo1DitS3Ab+ZkWvn39GDe9mIiXd32HDuc/RFXF6azFWh9x6t2q827OmBDCs9/15qV5fbjgtjj2bSom7WA5oy+KYOZjyVz2QAIzXu3C588fpSi/skmvq7V46fxcsp/MzEzuvvtuunTpgre3Nx06dOD8889nxYoVjXr87NmzCQkJafLzttmWhU6noOjaTlj8589feXeD89rNEX6B/HnryzW2fXL5N3z79zoeH3sxNww6q979Lj6wjbf//IUUUy4dgyP418hpTEkaUH3/vL0beX3tfMorLVzSdwSPjrmw+r5jpjxu+Ol9frzyIQK9fWvZu4jMDoNKb/Aya12K5o7uKaM438pL/9xbfZvdBge2lLDquxye/6EP4GhhhESeaCkUF1gJCqv7UBMUbsCU53yALyqorNHaqFJpsfO/V1K58YVEco5VYLep9Bjs6MaK7uTDkb9LGTA25HRfZovx0vk3ex/JycmMGjWKkJAQXn31Vfr3709lZSVLlizhzjvvZO/evQ3v5DS14bDQoyjOYWFz47AA6BYey+cX31X9s66WT1vLDm5ne2Yy0f7BDe5va/oR7vt1FveNOI/JSf1ZdnAH9/76GV9fej8DYxPJLy/hiWVf8+8pV9MhOIJb5n3EmQlJnNW5LwDPrPyWB0dfIEFRDx06jAVRWKJkhbxewwJ55tteTrfNfu4oMYk+nH1dNJEJRoLCDezeUETHno5P0dZKO/s3l3DxPXW30Lr292fPhmImXx1dfdvu9cV0HVD7wfWXTzPpOzKITr38SNlbhs120jHAqmJ306EBL33zWxZ33HEHiqLw119/4e9/4v3p06cPN954IwBvvvkms2bN4vDhw4SFhXH++efz6quvEhAQwOrVq7nhhhuAE629Z555hmeffbbB52673VA63fGwOHEOlNXNX41e0RHpH1T9Fe7nPKiXWVLIc6u/581zrsOga/g0wNlbVzGqYw9mDJtC17AYZgybwogOPZi9dRUAqaZcAr19OK/HYPrHdGJ4QjcO5mUCMH/vJrz0BqYmDXT56/Q0wVlyCi2Aj7+e+CRfpy9vXx0BwY7bFUVh0lVRLPosi60rC0k7WM7sZ45i9NFx5tlh1fv57Olkfnz3xDjQxCuj2L2+iMWzM8k4UsHi2Zns2VDExCtrnlyQfqicTUsLuOD2WABiEn1QFFj7cy471pjITK4gsY9runtcrbndUPn5+SxevJg777zTKSiqVHUt6XQ6/vOf//D333/z+eefs3LlSh5++GEARo4cydtvv01QUBAZGRlkZGTw4IMPNur5227LQl8VFidus7r3adYcLcxh1MwnMOoNDIhJ5F+jzqdjcAQAdtXOQ4u/4ObBE+kWHtuo/W3NTOaGM8Y73TamU09mb10NQGJIFOXWSnZlpxIfFMaOrBQu6TOCwopS3vnzF7685B4XvjrPFZMST06/jVqX0SZMvS4ai9nOV6+kUFZso3Nff+57Pwkf/xN/nPmZFqcxiq4DArjl5c78/EE68z7MIDLByK2vdKZLP+cDoqqqzHkphcv+lYC3r2N/Rh8dNzybyP/+nYq10s6VD3cgNMrYKq+1aZRmtywOHjyIqqr07Fnz5IKT3XfffdXfd+7cmRdeeIHbb7+dDz74AKPRSHBwMIqiEBPTtA9BbTYsFKVmy8KmU7CjumVzaUBMJ16deg2dQ6PILSvigw1LuPzbN/n1micI9fXnk43L0ev0XDdwXKP3mVtaRLif8+mL4X5B5JQVAxDs48erU/7Jw0vmUGGt5KJewxiT2ItHl37FNQPHkWrK47b5n2C127h7+Dmc0+0Ml75mTxGRHwoWXzA2fCVye/PgJ92dflYUhQtui+OC2+rudjr1MQCDJ4U2eBaToig88lmPGrf3HxtM/7ENd9tqyagPQKc079NsVZd7QycLrFq1ipdffpndu3dTVFSE1WqloqKC0tLSWlskjdVmw8LgZUCn02G1Ol8VadWB0Q2vzhvXuU/19z2I44zYzkyc9Rw/7dnAsPgkPt+2mp+veqTBX4RT1TyJRHW6bUrSAKcB7w2pB9ifl84zZ13KpNnP8eY51xPpF8Q/vnmdYfFJNbrGhIN3fhTmmKNalyHaKB9D88OsW7duKIrCnj17uPDCC2vd5ujRo5x77rnMmDGDF154gbCwMNauXctNN91EZWXzzhJrs2Gh0+nw9fOjsKDA6Xar3j3D4lR+Xt50j4gjuSAHBYW8shLG/ffp6vttqp1X1vzE51tXs/qm52rdR4R/ELllzovA55cVE1HHAd9sreSZVd/xxtnXcrQwB6vdzpkJ3QDoHBrFtsxkJnbp56JX6FlCMuPIkrAQp8lHH9LsfYSFhTF16lTef/997rnnnhqthMLCQjZt2oTVauWNN96ont3iu+++c9rOaDRiszX9LAB37LFpNF9/P6yVzi2LyjbyiszWSg7lZxHpH8SFvYax8J+PMv/qR6q/ov2DuXnwRD676I4693FGTCLrUvY53bb26F7OiO1c6/bv/7WEcYm96BPVAZtqx2Y/kaqVNpvjqnhRq7gUud5CnD5vF7QsAD744ANsNhvDhg3jhx9+4MCBA+zZs4f//Oc/jBgxgq5du2K1Wnn33Xc5fPgwc+bM4aOPPnLaR2JiIiUlJaxYsYLc3FzKysoa9dxt5NBaO//AAGy1dEO5o1d+/4kNxw6QasplW0Yyd//yGSWWCi7ufSahvv50j4hz+jLo9ET4BdEl7MTphA8t+YLX186v/vm6M8az9uhePt64jEP5mXy8cRl/pO7j+jNqXptxIC+DX/dv4d4R5wHQNSwanaIw9+8/WXXkbw4XZNEvplOLvw9tVYgpCCqaf568aJ98DCEu2U/nzp3ZsmULZ511Fg888AB9+/Zl8uTJrFixgg8//JCBAwfy5ptv8u9//5u+ffvy1Vdf8X//939O+xg5ciQzZszg8ssvJzIykldffbVRz62oJ1+o0IDrr7+ezz//HACDwUBYWBj9+/fnyiuv5Prrr3ea1K81LPlhHutX/kZi96Tq27rk2YktbtUyGuW+X2exMe0gBeWlhPkGMCA2kftGnFfnmU/j//sM150x3umivKvnvkN8UBivTr2m+rZFB7by9h8LSTXl0SE4gn+NmlbjdFhVVbniu7e4begUJnTpW337ysN/89yq77DYrNw/chqX9R3p0tfsaf6c+BsVcYe1LkO0Qf2jruXMhHu1LqNZmhwWWVlZzJo1C5vNRlZWFosXL+b//u//GDNmDPPnz8dgaL1hkN8XL2Pl/F/p3KNb9W3xhSqJhTJLlHC9vX32kzFondZliDZodMcn6BVxsdZlNEuTmwLe3t7ExMQQHx/PoEGDePzxx5k3bx6LFi1i9uzZAKSkpDB9+nQCAgIICgrisssuIysry2k/L774IlFRUQQGBnLzzTfz6KOPMnDgwCbXcurpQOY2O2Qv3F380XitSxBtVLB325gZtz4u6TeaMGECAwYM4Mcff0RVVS688ELy8/P57bffWLZsGYcOHeLyyy+v3v6rr77ipZde4t///jebN2+mY8eOfPjhh01+XqOPD8opaSFhIVpKYIk/SnlQwxsKcYogDwgLlx1ae/bsyY4dO1i+fDk7duzgyJEjdOjgeIPmzJlDnz592LhxI0OHDuXdd9/lpptuqp6j5Omnn2bp0qWUlJQ06Tn9/P1RVRVVVauvT5CwEC3JNy+asoSihjcU4ji94o2/V3TDG7o5l41IVx2w9+zZQ4cOHaqDAqB3796EhISwZ88eAPbt28ewYcOcHn/qz43hHxiAwehFpeXExSYWvftPKCjarrD0xk3FIkSVIO+EJl9s645cFhZ79uyhc+fOTp/yT3bq7adu04Rx9mr+gQEYjUYqLSctrKIo0roQLSYuJZ7T+FUV7ZgndEGBi8Ji5cqV7Ny5k3/84x/07t2blJQUUlNPTOm8e/duTCYTvXo5pjfu0aMHf/31l9M+Nm3a1OTn9Q8MxOjtjcXsvNZAuYSFaCH+5T7oykK0LkO0IZ4wuA2nMWZhNpvJzMyscerstGnTuPbaa9HpdPTv35+rr76at99+G6vVyh133MG4ceMYMmQIAHfffTe33HILQ4YMYeTIkXz77bfs2LGDLl26NKkWo7eRgKBA8nNynW4vM0K4zPkmWohfbjSl/oValyHaiCCfjlqX4BJNblksXryY2NhYEhMTOfvss1m1ahX/+c9/mDdvHnq9Y0Gin3/+mdDQUMaOHcukSZPo0qUL3377bfU+rr76ah577DEefPBBBg0axJEjR7j++uvx8Wn6GrXhUZE1WhZlXm2/f1C4r/B0mfpDNF6Qd4LWJbhEky7Ka0mTJ08mJiaGOXPmNOlxvy1ayqoFi5wuzPO1qAxKd4uXJTxQhdHCH5f9D0WR3zHRsCv7/kKAse0voKVJ735ZWRkfffQRU6dORa/X8/XXX7N8+XKWLVvW5H0FBgXVGCwv93KcEaWXv2XRAnwsRvQlodgD87UuRbg5TzltFjSaSFBRFH799VfGjBnD4MGDWbBgAT/88AOTJk1q8r6Cw0NRdIrzhIKKQnnta70L4RL+uW3/k6JoeeF+PTzitFnQqGXh6+vL8uXLXbKv0IhwfPz8KC8vJyDwxDoOpUYIsNTzQCGaISItluLOu7UuQ7i5aH/PWR/GTSf0brzg0FD8A/ypKHWek10GuUVLikuNRbW3+T8f0cKi/PtrXYLLtPnfdr1eT3R8HOVlzufKlnhrVJBoF4xWL/TF4VqXIdxctP+AhjdqI9p8WADExMdjPWV92RIjyLpvoiUF5HjGwKVoGQHGGPyNkVqX4TIeERahEY5PeCefBWzXKdK6EC0qKk2utxB186QuKPCgsKht2o9iCQvRgmLTolHteq3LEG4qWsLC/YRGhuPr70f5KYPcRT4yyC1ajsFmwGCK0LoM4aYkLNyQr58f0fFxlBY7L75d5A1yXZ5oSYE5cr2FqEmveBPu113rMlzKI8ICoGPXzljMzhdWWPVycZ5oWdHHZNxC1BTp3xud4lkHH48Ji6i42ONXctucbi+ScQvRgqLTI1FtMie+cOZpg9vgQWERHReLf0AApacszVroK+MWouXoVT1ehZ5zeqRwjbiAIVqX4HIeExZBoSGERUXWGLco9JXrLUTLCsqWpVbFCV46f+ICh2pdhst5TFgoikJit65UnHIlt02nUNz0ZTKEaLSYVBm3ECckBI1Ar/Os8QrwoLAAiI6PAwXsdue2RL50RYkWFJkVDlaj1mUIN9EpeJzWJbQIjwqLmIR4/AICKC12Hrco8NWoINEu6NDhVRCldRnCDSjo6Rg8WusyWoRHhUVYZATRcbEUFRY63V5uVKiQE1ZECwrOlustBMQEnIG3IUjrMlqER4WFoih069MLc3lFjfvypXUhWlBMioxbCEgM8cwuKPCwsACIT+yEl7cRc4VzYBT4ybiFaDmRueFgkTMp2rtOweO1LqHFeFxYxHZIICQ8jKJCk9PthT5g8bhXK9yJt4xbtGthvt0I9PbcFqbHHT6N3ka69uxBaZHz9RYoCnn+2tQk2oeQTLneoj3rFDxW6xJalMeFBUCnpC6ggM3mPPVHjr90RYmWE5Mar3UJQkOe3AUFHhoW8YmdCAgKothU5HR7sTdyVpRoMWEFwWD207oMoYFAYzwRfr20LqNFeWRYBIeGkNg9CVN+vvMdikKudEWJFuSTL0uttkc9Iy5EUTy758IjwwKgR98+2O32GrPQSleUaEkybtH+KOjpHn6B1mW0OI8Ni8QeSQSHhmIqKHC6vcyoUOp507YINxEn11u0Ox2Dx+Dn5fkrJnpsWAQEBtKtT2+KCgpr3JcVKK0L0TKCiwKhIkDrMkQr6hVxsdYltAqPDQuAbn16oSgKlZWVTrdn+4NN8kK0EN88mfqjvQgwxpAQNELrMlqFR4dFp25dCI0Ix5TnPNBt08tAt2g5YRkybtFedA+fjqJ49GG0mke/Sh9fX3oO6EexyVTjvgzpihItJP5oHKqqdRWipSno6RE+XesyWo1HhwU4uqK8jN6Ul5U53V7qrVAsSxCIFuBf5oeuPFjrMkQLSwgaQYCx/Zwq7fFh0aFrZ+ITO5KXnVPjvkxpXYgW4pvXfg4i7VV7Gdiu4vFhodfrGTBsCJVmS43pP3L9odLj3wGhhfB0GbfwZH5ekXTw0EWO6tIuDpXd+vUmJCKcgtw8p9vtOoXMQI2KEh4tPkXGLTxZn8gr0Cl6rctoVe0iLAICA+k7eCBFBYWop/wFZwQpchqtcDnfCh/0paFalyFagLc+mD6Rl2ldRqtrF2EB0GtAf3z9/CgrKXW6vVKvkCXXUIkW4Jcr11t4or5RV+Glb38TRrabsIjr1IFO3bqSl51d4760YAW7BjUJzxYh4xYex6gPoG/U5VqXoYl2ExaKotB/2GDsdhWL2ex0n8WgkCMX6QkXi0uNRbVLH6cn6RN5BUZ9+xzobDdhAdCtT2/iEzuSk5FV4760YAUZjxSu5G0xoi8J07oM4SJeOn/6RV2tdRmaaVdhYfQ2MnjUCCwWc435osqNCnntrxtStLCAHBm38BS9Iy/F2xCkdRmaaVdhAdBrYD9iEuLJzazZukgNkdaFcK3INJmy3BMYdL70i/qn1mVoqt2FhY+vL4NHjaC8rKzGwkhlRhm7EK4Veywa1d7u/sw8Tq+If+Dr1b5PhW6Xv8W9zxhAZEx0rWdGpYTKmVHCdbxsXhiKPH9hHE+mV7zpH32N1mVorl2GhX9gAINGDqekqBj7KVOAmA0KGe23W1K0ABm3aNt6R17SLlbCa0i7DAuAvkMGER4VSW4tEwweC1awttt3Rrha1DEZt2irfA3hDIq9Vesy3EK7PSQGhQQzdOwoSkxF2KxWp/useoVjQXJ+vHCNmPQoVJtB6zLEaRgWfxdGvUzxAO04LAAGnDmU2A7xZKVn1rgvIwjM7WueMNFCDHY9Xibpxmhrovz70y3sfK3LcBvtOiz8Avw586xxmCvKa1zVbdcpHA2V1oVwjcBsmfqjbVEY2eFhFEWOAVXadVgA9Bk0kE5JXclKy6hxX06Agslbg6KEx4mWcYs2pUf4hUT69dK6DLfS7sPC6G1kxIRxqKpaY+lVgMPhciqtaL7ojAiwemldhmgEL10Aw+Lv1LoMt9PuwwKgW9/eJPXuSVZaeo37yoxyKq1oPh06vAqjtC5DNMLQuDvwMbTvC/BqI2GBY+nVERPGYfT2pqjQVOP+lBCFChnsFs0UlCXXW7i7UJ8kekVeonUZbknC4rhO3boy4Myh5GRmYrc7dzzZdQqHw2WgSzRPjIxbuL1RHR5pd8ulNpaExXGKojBy4ngioqPJyah5Km2Bn0KuzEormiEiOwwq5YwJd9Ut7DxiAwdpXYbbkrA4SUh4GCMnjaestBRzhbnG/YfDFSrlHROnSYcOY4GMW7gjX30UIzs8rHUZbk0OfacYMGwoSb17kZGSiqo6T1heqVc4KN1RohlCsuR6C7ejKkzs+rJcqd0ACYtTeBm9GHfuFHz9/SjMz69xf76/QrZMYy5OU3SKjFu4mz4RVxEbcIbWZbg9CYtadOicyODRIynIycN6yrxR4OiOkqlAxOmIyA8Fi6/WZYjj/JWODO94t9ZltAkSFnUYMWEcHbp0Ju1oSo37bDqFAxGyqp44Pd750VqXIABUA+f0fBOdIhdLNoaERR38AvyZcME5eHt7U5CXV+N+k69CRqAGhYk2LyRTxi3cwaCo2wn17ax1GW2GhEU9uvTozpnjx1KQk4fFbKlx/9FQhVL5UCKaKE7GLTQXZujP4A7Xa11GmyJh0YDhE8bStVcP0o+m1Dg7yq5T2BulYJUTpEQThJiCoELOktCKzu7HOb1e07qMNkfCogE+vr5MOP9c/AMDyKtlVb0KL8f4hRBN4ZsvU39oZWynp2SZ1NMgYdEICZ07MWryBIoLTVSUV9S4P99fIU0mGxRNEJohYaGFzv4X0C1yitZltEkSFo00ZMwoegzoS9rRozXmjgJIDpW1L0TjxaXEa11Cu+OvdmdC9ye1LqPNkrBoJC+jF1MuuoDouDjSj6bW3EBR2B+pYJF3VDRCYIk/Srk0R1uLUhnI9D7vySSBzSCHtiYIj4pk8kXnozcYyM/JrXG/xaCwL0oWSxKN45sr11u0BtWmZ0Liq/j7hGtdSpsmYdFE3fv2ZvSUiZgKCmpdWa/IR+GQzB8lGiEsQ663aGmqCj18b6FL9DCtS2nzJCxOw/CzxtB/6GDSj6Ziq2U6kOxAhdRgDQoTbUpcSjyqTAPQosIrJzG2z81al+ERJCxOg8HLi0kXnk+HLokcO3K0xvUX4FhdL0fWvxD18C/3QVcWonUZHsurpCfTh7yEokhL3xUkLE5TUEgwU/8xHf/AALLTM2puoDiuvyiSM6REPfxk3KJF2Esi+cfg9zAYDFqX4jEkLJqhY9cuTLpwGpWWSgpya84fpeoU9kQplMvvq6hDeLpM/eFqtjI/zun+FoH+oVqX4lEkLJqp/7AhjDl7EqaCAkqKi2vcb9Ur7ImWU2pF7eJT4lBV6SZxFWu5keGRz9ExppfWpXgcOYQ1k6IojJp0FkNGjyQ7LQNzRc0rvMu9FHZHK1jl3Ran8LEY0ZfIJ2BXsJZ70cfnQQb2mKB1KR5JDl8uoDcYmHThNHqfMYBjR47WumBSqbfCrigFm3yIFKfwz5WpP5rLWmEgwXITYwZdrHUpHkvCwkW8fXw457KLSeyeROqhI7VOCVLio7BbAkOcIiJNrrdoDqtZT3D+Pzh7zPVy5lMLkrBwoaCQYM674hIiYqNJPXyk1lNqi3wV9kbKVd7ihLjUWFS7/CmeDptFh1faVC6ccAdeBllcpiXJb6iLRcfFcsFVlxESFsaxI8m1Bkahn2MeKbkeSwAYrV4YimUqiqayVerQp07isqkP4OcXoHU5Hk/CogV07NqFaVddin9gIOlHU2sNjDx/hX3SwhDHBeTIuEVT2Cp1KClncdnUhwkKDNG6nHZBwqKFdOnRnfOuuASjjzcZqcfqDIw9MoYhgEgZt2g0u1WBo2O4bPIjBAfJmWStRcKiBXXv25tzL7sYvcFQ+1XeOLqkdkfL0qztXWxaNKpNps9uiM2iw3p4FJdOfozQEOm6a00SFi2s9xkDOPsf07Hb7GRnZNa6TZGPwt8xCpXyv9FuGWwGDEWy1Gd9KssMVB4Yx+WTHyc8NFLrctodOTy1gn5DBzPl4guwVVrJSkuvtUuq1FthZ4yCWT5ctluB2TJuUZcKkzeV+8dx2dn/IiJc5tPSgoRFK1AUhTNGnsm5l18MikJGSu1jGOVGR2DIXFLtU3SazBNVm9JsfyoPjOXyafcQHSnvkVYkLFqJoij0HzaE86+8FKOPN2nJKbUGhtlLYXusgslHgyKFpqLTI1Ft8knhZKaUYKxHRnH5+bcTE5WgdTntmoRFK+s1sD/T/3kF/kEBpB6u/Upvm15hV7RClpw63q7oVT1ehVFal+E2cvaG45s3kWv+cRfxsZ20Lqfdk7DQQFLvnlx4zVWEhofXOTWIqigcjNCRHCoX77UnQTJugaoqpG+JIYZz+eeldxAdFa91SQIJC80kduvKRdddTWRcDMkHDlJZWVnrdmnBjulB5FqM9iEmtX33yas2PcfWd6BnxMVccdEtch2FG5Gw0FB8YkcuueEaOnfrRsqhw1SUlde6Xb6/Y+C7Qs6U8niRWeFgNWpdhiYqS/xI+b0rw7tfxcXTrsXP11/rksRJJCw0FhkbwyU3XUP/IYNJT02luNBU63al3grb4xTyfVu5QNGqdOjwKmh/4xYlaeGkr+vBlJHXc/bEf8ikgG5IUWs7JUe0OovZwqqFi9jw2xr8AwKIiK7jgKGqxJugU6GK9Ex5pp2DdpLbZ5PWZbQK1aYna0cc9ryOXHDOVQzse6ZMM+6mJCzciN1u56/f1rL6lyXYbTbiOnWo8w8nqEKlR46K0dbKRYoWlxORx9/nzNe6jBZnLw8g+Y9oQrw7c/F519Ktax+tSxL1kLBwQ3u372TxDz9TmJdPQudEvLxqb5J72VS656iE1FzJVbRxqy7/Goye+x9rzorj0J8BdO3Yh4vOu0ZOjW0DJCzcVHpKKkt+mMeRffuJTognIDCw9g1VlQQTdChUZQDKg/wxZSXm6KNal+Fyqk1P/p5O5B0O4MxB4zh74sUE+AdpXZZoBAkLN1ZaXMLKBYvY+ud6fP39iYyJrrNbyt+s0j1Xxa/2M3BFG7O7/26yBmzQugyXspcHkvxHND7EcPaEixl6xhh0OvmI01ZIWLg5u93O1j83sHrhYkqKiknokojBUPuUEDq7SqcCldhiZPC7jcsPNbF92o9al+ESql2hIq0zRzYZ6NqpDxecfRUdE7poXZZoIgmLNiL18BGW/DCflEOHie0Qj19A3XOBBFWoJOWq+FpbsUDhcqsu+xa8y7Quo1nsJeFkbY+nOA/pdmrjJCzakJKiIlbM+4XtGzbh4+dLVFxsnd1SOrtKx0KVuCJpZbRVf05aTUXsEa3LOC2qzUBlWm8Ob7ERFBgq3U4eQMKijbHZbOzYsInfFi+lIDePuI4d8fGte4paf7NKl3yVIHMrFilcYk/ffWSe8YfWZTSZ3RSHaW9n0o/lkdS5l3Q7eQgJizYqOz2TFQt+Yd+OvwkICiIiOqrui5lUlagSSCxQ8ao5Z6FwU6agYrZM/17rMhpNrfTBcrQfKbstGAwGhg4ay+RxF0i3k4eQsGjDKi2VbF73J+uWraSo0ER8pw54+9TdytDbVDoVqsTIAHibseqSueBbonUZ9VJVsOd1IXdXNHl5hXTp1IPJ46fTI6mfXI3tQSQsPEBG6jFW/7KYfTt34RcQQGRMdL19wwFmlS55KoGWVixSnJb1Z62hPOGg1mXUyV4cTcXRbqQcLCDAP4jRZ05m1JmTZBJADyRh4SEqLZVs/XMDf65cTV5WDlFxsQQG19/8Dy9V6Vig4idnTbmt/b0OkjZkjdZl1KCWhmFN70PmkUpKSovp3WMAU8ZfJGMTHkzCwsPk5+aybukqdm7ajNVqJa5DAl7Geqa8VlWiSxxXgHvLPFNup9SvjA0Xf4u79OaoFUHYM/pQnBFEemYqEWGRnDVmGkMHjsbLq31Ord5eSFh4IFVVObRnH2uWLOfogYMEBAURHh1Vb9eUzu64mC/BpGKQQXC3svriH1H9a5+6vrWoFj/smb2x5MSRkZmKzW5nYN8zmTx+OpHhsrpfeyBh4cEsZjNb/9jAnyt/oyA3j/DoSIJCQuoddNTbVOKLHMEhoeEeNoxfR1mH/Zo8t1rpjT27J9bsRLKyMykpK6JDXGcmjJlG/95D5bqJdkTCoh3Iy85h/arf+XvTFspLy4iMi6l7YsLj9HaV6GKIK5LuKa0d7H6Y1DN/a9XnVCt9sOd2xZbdlZycXEymfGKiExh95mTO6D9CBrDbIQmLdkJVVdKPprJh9e/s3f431spKouJj8fXzq/dxyvFrNOJNMn2IVsq9zfx56dcoSsv/qaqlodhzu2EviCevII/8gmzCQ6MZMXQCQ88YTVBgSIvXINyThEU7o6oqR/YfYMOq3zm4ex+KAtHxcRi9vRt6IOFljtCQU25b328X/Yw9oKBF9q2qCmphAvbcJNTSMExF+WTnZBIcHMqwQeMYPmQ8YSERLfLcou2QsGinbDYbB/7ezfqVv5Ny6DA6vY7ImBh8/Bpe5NvfrBJTrBJZCnr57WkVG8espyRxj0v3qVqNqHldsOd2BasvRcUmsrLT8PcPZFD/4YwcOpHoqHiXPqdouyQs2rlKSyX7/97FlnXrOXrwEDabnciYaPwD657VtorerhJRCjHFKgHS2mhRR7ocJXnUSpfsSy0PdrQiCjpitykUmvLILcjB19uPfr0HM/rMySTEJcrV18KJhIUAHC2NI/sOsGXdeg7t2Ye5ooLw6EgCg4MbddAION7aCC8Fg/xGuZzZy8K6y/6Hoju9N1et9HF0NRV2gLJwKq2V5OZlUlxSREhQGP37DOGMfiPo1CFJQkLUSsJCOFFVldTDR9j651/s2/E3pcUlBIWGEBoejt6gb/DxiqoSWgaRpSqh5dJN5Uq/TV+APSi30durViNqYYLjqzQSUCgrLyU7NwOrtZKYyASGnDGK/r2HEh4W1XKFC48gYSFqpaoqWWnp/L15G7u3bCM/JxeDlxfhUZH4BTTutEmdXSXseHCElCNrhDfT5pF/UdR1V73bqDYvVFMcamEH1OIoQIeqqhSa8snLz8bLy0jnTt0ZOnA0vXoMxNen/rPhhKgiYSEaVFpcwsHde9jx12ZSjyRjLq8gOCyUkPAw9PqGWxvguNgvrBxCyh0tDpkqvelSOh3j0NhlNW5XbQbUotjjARENquP/xGIxk1+YQ1FxIUGBofTpMYgz+g+nS6cejf5/E6KKhIVoNLvdTlryUfZs28nurdspzMvH4GUgOCyMgKDAxl/NqzoGxEPLHMERYJEp0xujUm9lzRVfgaJCWShqcTT2kmgoDaOq3VZZaaHAlEdRUSF6vZ7w8GgG9RtB/z5DiY6M0/YFiDZNwkKclpKiIg7s2su+nX+TeugIJUXFGL2NhISH4x8Y0KRBUoPN0U0VZFYJqgC/SgmPk6molPjYKfC3cahrGlZLENhPTNpntVZSYMrDVFSAougID42kT89B9EjqS2KHbnh7173GiRCNJWEhmkVVVfJzcjmy/wB7t+0k7WgKZSWlePv6EBwWin9A04IDHKfkBlY4wiPQDIHm9jVQXqmDbFspe4oOEdSzI2WheioNztvYbFYKTfkUmPJRgNCQCHr3GECPpP507tRdxiKEy0lYCJdRVZWcjCyO7D/Anm07yEpLp6y0FL1eT2BwMIHBwXgZvU5nx/hVgr8F/C0q/hbws4DRA8Y9LDooNUKJN5QaFUq8wWxQKCkpYtmmn+nZvx+dEh1rRJjNFZiKCygqNgEqIUFh9EjqT8/u/ema2AN/v/rn+xKiOSQsRIuw2+3kZWWTdjSV5AMHST5wiKKCQmw2G75+vgSGBOPn79+sWUsNNkeI+FnAx6ribaX6y52CxKqDcgNUeEG5l3LS92DT1d3qWrz2B4xhBmLjEzBbzHgbfQgJDqNrYk+6de1D18SeBAYEt+IrEe2ZhIVoFeVlZaSnpHLsyFEO7NpDfnYOZaWloIK3ry/+gf74BwRg8DqNlkctFLtjttyq8PCyO8LFYMfpS3/836pr3RTVMV5y6iFcBezKiS+bAnad41+bDir1YNFDpV45/i/V/9YXCCertFgoLSmltKgIi9lCbnkmtkALQ4ePoVuX3nSI60xcTEeMxgbm8RKiBUhYiFZnt9vJz8klOz2D7PRMjh48RG5WNqXFJdhtNvQGA/6BAfj6+eLj64tOi9M8VdURGMfDw66AK5erq7RYKCstpby0jIqyclRVxeBlwM/fn+iEeBK7dSU6Po7w2EhCQ8Nd9rxCnC4JC6E5VVUpLS4mKz2DnIwsjh1JJj3lGOWlpY4DKaBTFLx9fPD288HH1xdvb29tQqQJVFWl0mLBXGHGXFGBuaICi9kMgMFgwNffn5DwMBISOxEZE014dBTh0ZENrjUihBYkLIRbslZWUphfQH5OLgW5eeRn55CZlk5hXj4V5eVYzGYcv7oKigJeRiNGoxGjtzde3kYMBgN6vQGdXtcicx2pqorNaqWyshJrpRVrZaXje0slFsvx2lQwGL3w9vHB18+XsIgIImKjiYiKcgRDVAT+gYEyF5NoEyQsRJtSUV6OqaCQElMRJUVFlBaXUFxoIi8nl8L8fCrKyrGYLdisVmw2K3abHRRQjo9CqKrqGFRXFBRFOd6zdNL3igIqqKodu92O3WZH5XgoHa9BxREEeoMBLy8vDF4GDF5e+Pr7ERgURGhkBKER4QSFBBMYEkxQSAgBQYFy1bRo0yQshMdQVZWKsnJKS0owlzu6fMxmMxazGcvxriCL2UJFWRk2mx1VtWOz2bDb7NjtNlS7is3uWEPWaPTG6G3Ey9sbo9GIwcuA3mDAYDDgZTTi6++Hr9/xL39ffP38XDY4L4Q7krAQQgjRIJkIVAghRIMkLIQQQjRIwkIIIUSDJCyEEEI0SMJCCCFEgyQshBBCNEjCQgghRIMkLIQQQjRIwkIIIUSDJCyEEEI0SMJCCCFEgyQshBBCNEjCQgghRIMkLIQQQjRIwkIIIUSDJCyEEEI0SMJCCCFEgyQshBBCNEjCQgghRIMkLIQQQjRIwkIIIUSDJCyEEEI0SMJCCCFEgyQshBBCNEjCQgghRIMkLIQQQjRIwkIIIUSDJCyEEEI0SMJCCCFEgyQshBBCNEjCQgghRIMkLIQQQjRIwkIIIUSDJCyEEEI0SMJCCCFEgyQshBBCNEjCQgghRIMkLIQQQjRIwkIIIUSDJCyEEEI0SMJCCCFEg/4fUnzc4VdWKiEAAAAASUVORK5CYII=",
      "text/plain": [
       "<Figure size 640x480 with 1 Axes>"
      ]
     },
     "metadata": {},
     "output_type": "display_data"
    }
   ],
   "source": [
    "# Plotting Percentage of Animals Handled\n",
    "alabels = [\"Dog\", \"Cat\", \"Other\", \"Bird\", \"Livestock\"]\n",
    "asizes = [54, 40, 5, 0.9, 0.1]\n",
    "acolors = [\"palevioletred\", \"yellowgreen\", \"cyan\", \"bisque\", \"pink\"]\n",
    "\n",
    "plt.pie(asizes, labels=alabels, colors=acolors, autopct=\"%1.1f%%\", shadow=True, startangle=90)\n",
    "plt.title(\"Types of Animals Handled\\n\" + \"Austin Animal Center, 2022\", bbox={'facecolor':'0.8', 'pad':5})\n",
    "\n",
    "plt.show()"
   ]
  },
  {
   "cell_type": "code",
   "execution_count": null,
   "id": "99043494-0d0c-45b6-ac70-28ef38525858",
   "metadata": {},
   "outputs": [],
   "source": []
  },
  {
   "cell_type": "code",
   "execution_count": null,
   "id": "3c4499aa-2e09-4dd3-a195-22e53f8e0a72",
   "metadata": {},
   "outputs": [],
   "source": []
  },
  {
   "cell_type": "code",
   "execution_count": null,
   "id": "9e72f7d1-dc0c-493b-96ad-6c6d867d82f1",
   "metadata": {},
   "outputs": [],
   "source": []
  },
  {
   "cell_type": "code",
   "execution_count": null,
   "id": "918293ae-21b3-4544-a38f-b1644fd2a7b9",
   "metadata": {},
   "outputs": [],
   "source": []
  },
  {
   "cell_type": "code",
   "execution_count": null,
   "id": "245828d9-5238-4735-8319-c8ac79e9861e",
   "metadata": {},
   "outputs": [],
   "source": []
  },
  {
   "cell_type": "code",
   "execution_count": 52,
   "id": "dbf49234-f896-48d5-91a4-ddbb80e9dd10",
   "metadata": {},
   "outputs": [
    {
     "name": "stdout",
     "output_type": "stream",
     "text": [
      "                             +-+-+-+-+-+ +-+-+-+-+\n",
      "                             |T|H|A|N|K| |Y|O|U|!|\n",
      "                             +-+-+-+-+-+ +-+-+-+-+\n",
      "\n"
     ]
    }
   ],
   "source": [
    "# End of presentation\n",
    "result = pyfiglet.figlet_format(\"THANK YOU!\", font = \"digital\", justify= \"center\")\n",
    "print(result)"
   ]
  },
  {
   "cell_type": "code",
   "execution_count": null,
   "id": "0e5e5861-d8c6-40ee-bb5b-e1007d810c96",
   "metadata": {},
   "outputs": [],
   "source": []
  }
 ],
 "metadata": {
  "kernelspec": {
   "display_name": "Python 3 (ipykernel)",
   "language": "python",
   "name": "python3"
  },
  "language_info": {
   "codemirror_mode": {
    "name": "ipython",
    "version": 3
   },
   "file_extension": ".py",
   "mimetype": "text/x-python",
   "name": "python",
   "nbconvert_exporter": "python",
   "pygments_lexer": "ipython3",
   "version": "3.10.11"
  }
 },
 "nbformat": 4,
 "nbformat_minor": 5
}
