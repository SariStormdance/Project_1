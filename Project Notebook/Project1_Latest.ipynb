{
 "cells": [
  {
   "cell_type": "code",
   "execution_count": 3,
   "id": "884b5f41-5ae7-4f2c-9ed0-0b95b39ee0bd",
   "metadata": {
    "tags": []
   },
   "outputs": [
    {
     "name": "stdout",
     "output_type": "stream",
     "text": [
      "Requirement already satisfied: pyfiglet in c:\\users\\sari\\anaconda3\\lib\\site-packages (0.8.post1)\n"
     ]
    }
   ],
   "source": [
    "# Dependencies and Setup\n",
    "import matplotlib.pyplot as plt\n",
    "import os\n",
    "import csv\n",
    "import pandas as pd\n",
    "import numpy as np\n",
    "import requests\n",
    "import time\n",
    "import json\n",
    "from pandas import json_normalize\n",
    "from scipy.stats import linregress\n",
    "from pprint import pprint\n",
    "!pip install pyfiglet\n",
    "import pyfiglet"
   ]
  },
  {
   "cell_type": "code",
   "execution_count": 4,
   "id": "75a2e545-c0dd-4855-9f6c-55c6016bccb8",
   "metadata": {
    "tags": []
   },
   "outputs": [
    {
     "data": {
      "text/html": [
       "<div>\n",
       "<style scoped>\n",
       "    .dataframe tbody tr th:only-of-type {\n",
       "        vertical-align: middle;\n",
       "    }\n",
       "\n",
       "    .dataframe tbody tr th {\n",
       "        vertical-align: top;\n",
       "    }\n",
       "\n",
       "    .dataframe thead th {\n",
       "        text-align: right;\n",
       "    }\n",
       "</style>\n",
       "<table border=\"1\" class=\"dataframe\">\n",
       "  <thead>\n",
       "    <tr style=\"text-align: right;\">\n",
       "      <th></th>\n",
       "      <th>animal_id</th>\n",
       "      <th>name</th>\n",
       "      <th>datetime</th>\n",
       "      <th>monthyear</th>\n",
       "      <th>date_of_birth</th>\n",
       "      <th>outcome_type</th>\n",
       "      <th>animal_type</th>\n",
       "      <th>sex_upon_outcome</th>\n",
       "      <th>age_upon_outcome</th>\n",
       "      <th>breed</th>\n",
       "      <th>color</th>\n",
       "      <th>outcome_subtype</th>\n",
       "    </tr>\n",
       "  </thead>\n",
       "  <tbody>\n",
       "    <tr>\n",
       "      <th>995</th>\n",
       "      <td>A722325</td>\n",
       "      <td>Bella</td>\n",
       "      <td>2016-05-16T15:56:00.000</td>\n",
       "      <td>2016-05-16T15:56:00.000</td>\n",
       "      <td>2015-08-14T00:00:00.000</td>\n",
       "      <td>Return to Owner</td>\n",
       "      <td>Dog</td>\n",
       "      <td>Spayed Female</td>\n",
       "      <td>9 months</td>\n",
       "      <td>Labrador Retriever Mix</td>\n",
       "      <td>Black</td>\n",
       "      <td>NaN</td>\n",
       "    </tr>\n",
       "    <tr>\n",
       "      <th>996</th>\n",
       "      <td>A664032</td>\n",
       "      <td>Parker</td>\n",
       "      <td>2013-10-01T17:18:00.000</td>\n",
       "      <td>2013-10-01T17:18:00.000</td>\n",
       "      <td>2013-07-27T00:00:00.000</td>\n",
       "      <td>Adoption</td>\n",
       "      <td>Dog</td>\n",
       "      <td>Spayed Female</td>\n",
       "      <td>2 months</td>\n",
       "      <td>German Shepherd Mix</td>\n",
       "      <td>Black/Tan</td>\n",
       "      <td>NaN</td>\n",
       "    </tr>\n",
       "    <tr>\n",
       "      <th>997</th>\n",
       "      <td>A785557</td>\n",
       "      <td>Spicy</td>\n",
       "      <td>2018-12-16T14:59:00.000</td>\n",
       "      <td>2018-12-16T14:59:00.000</td>\n",
       "      <td>2016-12-05T00:00:00.000</td>\n",
       "      <td>Return to Owner</td>\n",
       "      <td>Dog</td>\n",
       "      <td>Intact Male</td>\n",
       "      <td>2 years</td>\n",
       "      <td>American Pit Bull Terrier Mix</td>\n",
       "      <td>Brown/White</td>\n",
       "      <td>NaN</td>\n",
       "    </tr>\n",
       "    <tr>\n",
       "      <th>998</th>\n",
       "      <td>A800965</td>\n",
       "      <td>Marley</td>\n",
       "      <td>2019-08-17T16:40:00.000</td>\n",
       "      <td>2019-08-17T16:40:00.000</td>\n",
       "      <td>2016-07-29T00:00:00.000</td>\n",
       "      <td>Adoption</td>\n",
       "      <td>Dog</td>\n",
       "      <td>Spayed Female</td>\n",
       "      <td>3 years</td>\n",
       "      <td>Blue Lacy/Beagle</td>\n",
       "      <td>Blue/White</td>\n",
       "      <td>NaN</td>\n",
       "    </tr>\n",
       "    <tr>\n",
       "      <th>999</th>\n",
       "      <td>A805280</td>\n",
       "      <td>*Vincent</td>\n",
       "      <td>2019-12-14T16:55:00.000</td>\n",
       "      <td>2019-12-14T16:55:00.000</td>\n",
       "      <td>2019-06-06T00:00:00.000</td>\n",
       "      <td>Adoption</td>\n",
       "      <td>Cat</td>\n",
       "      <td>Neutered Male</td>\n",
       "      <td>6 months</td>\n",
       "      <td>Domestic Shorthair</td>\n",
       "      <td>Orange Tabby/White</td>\n",
       "      <td>NaN</td>\n",
       "    </tr>\n",
       "  </tbody>\n",
       "</table>\n",
       "</div>"
      ],
      "text/plain": [
       "    animal_id      name                 datetime                monthyear  \\\n",
       "995   A722325     Bella  2016-05-16T15:56:00.000  2016-05-16T15:56:00.000   \n",
       "996   A664032    Parker  2013-10-01T17:18:00.000  2013-10-01T17:18:00.000   \n",
       "997   A785557     Spicy  2018-12-16T14:59:00.000  2018-12-16T14:59:00.000   \n",
       "998   A800965    Marley  2019-08-17T16:40:00.000  2019-08-17T16:40:00.000   \n",
       "999   A805280  *Vincent  2019-12-14T16:55:00.000  2019-12-14T16:55:00.000   \n",
       "\n",
       "               date_of_birth     outcome_type animal_type sex_upon_outcome  \\\n",
       "995  2015-08-14T00:00:00.000  Return to Owner         Dog    Spayed Female   \n",
       "996  2013-07-27T00:00:00.000         Adoption         Dog    Spayed Female   \n",
       "997  2016-12-05T00:00:00.000  Return to Owner         Dog      Intact Male   \n",
       "998  2016-07-29T00:00:00.000         Adoption         Dog    Spayed Female   \n",
       "999  2019-06-06T00:00:00.000         Adoption         Cat    Neutered Male   \n",
       "\n",
       "    age_upon_outcome                          breed               color  \\\n",
       "995         9 months         Labrador Retriever Mix               Black   \n",
       "996         2 months            German Shepherd Mix           Black/Tan   \n",
       "997          2 years  American Pit Bull Terrier Mix         Brown/White   \n",
       "998          3 years               Blue Lacy/Beagle          Blue/White   \n",
       "999         6 months             Domestic Shorthair  Orange Tabby/White   \n",
       "\n",
       "    outcome_subtype  \n",
       "995             NaN  \n",
       "996             NaN  \n",
       "997             NaN  \n",
       "998             NaN  \n",
       "999             NaN  "
      ]
     },
     "execution_count": 4,
     "metadata": {},
     "output_type": "execute_result"
    }
   ],
   "source": [
    "# Set the API base URL \n",
    "json_url = f\"https://data.austintexas.gov/resource/9t4d-g238.json\"\n",
    "\n",
    "# Create URL for GET requests\n",
    "animal_data = requests.get(json_url).json()\n",
    "\n",
    "# Convert the API to a DataFrame and display data\n",
    "animal_df = pd.DataFrame.from_dict(json_normalize(animal_data))\n",
    "animal_df.tail(5)"
   ]
  },
  {
   "cell_type": "code",
   "execution_count": 5,
   "id": "29050087-40e8-4c0e-9512-99e42fd8b367",
   "metadata": {
    "tags": []
   },
   "outputs": [],
   "source": [
    "## JSON results are limited and will not provide 2022 information.\n",
    "## Switching from JSON to CSV."
   ]
  },
  {
   "cell_type": "code",
   "execution_count": 6,
   "id": "8d84bde2-fad1-4542-9a50-55e4001a03b6",
   "metadata": {
    "tags": []
   },
   "outputs": [
    {
     "data": {
      "text/html": [
       "<div>\n",
       "<style scoped>\n",
       "    .dataframe tbody tr th:only-of-type {\n",
       "        vertical-align: middle;\n",
       "    }\n",
       "\n",
       "    .dataframe tbody tr th {\n",
       "        vertical-align: top;\n",
       "    }\n",
       "\n",
       "    .dataframe thead th {\n",
       "        text-align: right;\n",
       "    }\n",
       "</style>\n",
       "<table border=\"1\" class=\"dataframe\">\n",
       "  <thead>\n",
       "    <tr style=\"text-align: right;\">\n",
       "      <th></th>\n",
       "      <th>Animal ID</th>\n",
       "      <th>Name</th>\n",
       "      <th>DateTime</th>\n",
       "      <th>MonthYear</th>\n",
       "      <th>Date of Birth</th>\n",
       "      <th>Outcome Type</th>\n",
       "      <th>Outcome Subtype</th>\n",
       "      <th>Animal Type</th>\n",
       "      <th>Sex upon Outcome</th>\n",
       "      <th>Age upon Outcome</th>\n",
       "      <th>Breed</th>\n",
       "      <th>Color</th>\n",
       "    </tr>\n",
       "  </thead>\n",
       "  <tbody>\n",
       "    <tr>\n",
       "      <th>153437</th>\n",
       "      <td>A883539</td>\n",
       "      <td>*Pipsqueak</td>\n",
       "      <td>07/19/2023 05:18:00 PM</td>\n",
       "      <td>Jul 2023</td>\n",
       "      <td>02/24/2023</td>\n",
       "      <td>Adoption</td>\n",
       "      <td>NaN</td>\n",
       "      <td>Dog</td>\n",
       "      <td>Intact Female</td>\n",
       "      <td>4 months</td>\n",
       "      <td>Labrador Retriever Mix</td>\n",
       "      <td>Cream/White</td>\n",
       "    </tr>\n",
       "    <tr>\n",
       "      <th>153438</th>\n",
       "      <td>A884334</td>\n",
       "      <td>Noche</td>\n",
       "      <td>07/19/2023 05:14:00 PM</td>\n",
       "      <td>Jul 2023</td>\n",
       "      <td>04/01/2023</td>\n",
       "      <td>Adoption</td>\n",
       "      <td>NaN</td>\n",
       "      <td>Cat</td>\n",
       "      <td>Spayed Female</td>\n",
       "      <td>3 months</td>\n",
       "      <td>Domestic Shorthair</td>\n",
       "      <td>Black</td>\n",
       "    </tr>\n",
       "    <tr>\n",
       "      <th>153439</th>\n",
       "      <td>A885055</td>\n",
       "      <td>Sparky</td>\n",
       "      <td>07/19/2023 05:00:00 PM</td>\n",
       "      <td>Jul 2023</td>\n",
       "      <td>04/12/2023</td>\n",
       "      <td>Adoption</td>\n",
       "      <td>NaN</td>\n",
       "      <td>Cat</td>\n",
       "      <td>Neutered Male</td>\n",
       "      <td>3 months</td>\n",
       "      <td>Siamese</td>\n",
       "      <td>Flame Point</td>\n",
       "    </tr>\n",
       "    <tr>\n",
       "      <th>153440</th>\n",
       "      <td>A884031</td>\n",
       "      <td>Bowzer</td>\n",
       "      <td>07/19/2023 05:26:00 PM</td>\n",
       "      <td>Jul 2023</td>\n",
       "      <td>06/27/2019</td>\n",
       "      <td>Adoption</td>\n",
       "      <td>NaN</td>\n",
       "      <td>Dog</td>\n",
       "      <td>Neutered Male</td>\n",
       "      <td>4 years</td>\n",
       "      <td>Labrador Retriever Mix</td>\n",
       "      <td>Cream/Yellow</td>\n",
       "    </tr>\n",
       "    <tr>\n",
       "      <th>153441</th>\n",
       "      <td>A883741</td>\n",
       "      <td>*Fiddle</td>\n",
       "      <td>07/19/2023 06:57:00 PM</td>\n",
       "      <td>Jul 2023</td>\n",
       "      <td>06/22/2022</td>\n",
       "      <td>Transfer</td>\n",
       "      <td>Partner</td>\n",
       "      <td>Dog</td>\n",
       "      <td>Intact Male</td>\n",
       "      <td>1 year</td>\n",
       "      <td>Australian Cattle Dog Mix</td>\n",
       "      <td>Tan/White</td>\n",
       "    </tr>\n",
       "  </tbody>\n",
       "</table>\n",
       "</div>"
      ],
      "text/plain": [
       "       Animal ID        Name                DateTime MonthYear Date of Birth  \\\n",
       "153437   A883539  *Pipsqueak  07/19/2023 05:18:00 PM  Jul 2023    02/24/2023   \n",
       "153438   A884334       Noche  07/19/2023 05:14:00 PM  Jul 2023    04/01/2023   \n",
       "153439   A885055      Sparky  07/19/2023 05:00:00 PM  Jul 2023    04/12/2023   \n",
       "153440   A884031      Bowzer  07/19/2023 05:26:00 PM  Jul 2023    06/27/2019   \n",
       "153441   A883741     *Fiddle  07/19/2023 06:57:00 PM  Jul 2023    06/22/2022   \n",
       "\n",
       "       Outcome Type Outcome Subtype Animal Type Sex upon Outcome  \\\n",
       "153437     Adoption             NaN         Dog    Intact Female   \n",
       "153438     Adoption             NaN         Cat    Spayed Female   \n",
       "153439     Adoption             NaN         Cat    Neutered Male   \n",
       "153440     Adoption             NaN         Dog    Neutered Male   \n",
       "153441     Transfer         Partner         Dog      Intact Male   \n",
       "\n",
       "       Age upon Outcome                      Breed         Color  \n",
       "153437         4 months     Labrador Retriever Mix   Cream/White  \n",
       "153438         3 months         Domestic Shorthair         Black  \n",
       "153439         3 months                    Siamese   Flame Point  \n",
       "153440          4 years     Labrador Retriever Mix  Cream/Yellow  \n",
       "153441           1 year  Australian Cattle Dog Mix     Tan/White  "
      ]
     },
     "execution_count": 6,
     "metadata": {},
     "output_type": "execute_result"
    }
   ],
   "source": [
    "# Path to collect CSV data \n",
    "csv_url = \"https://github.com/SariStormdance/Project_1/blob/main/Resources/Animal_Outcome.csv?raw=true\"\n",
    "\n",
    "# Convert CSV to DataFrame\n",
    "initial_df = pd.read_csv(csv_url)\n",
    "initial_df.tail(5)"
   ]
  },
  {
   "cell_type": "code",
   "execution_count": 7,
   "id": "5ade83b7-c9c6-4d71-815f-bd8b880dc47e",
   "metadata": {
    "tags": []
   },
   "outputs": [
    {
     "data": {
      "text/html": [
       "<div>\n",
       "<style scoped>\n",
       "    .dataframe tbody tr th:only-of-type {\n",
       "        vertical-align: middle;\n",
       "    }\n",
       "\n",
       "    .dataframe tbody tr th {\n",
       "        vertical-align: top;\n",
       "    }\n",
       "\n",
       "    .dataframe thead th {\n",
       "        text-align: right;\n",
       "    }\n",
       "</style>\n",
       "<table border=\"1\" class=\"dataframe\">\n",
       "  <thead>\n",
       "    <tr style=\"text-align: right;\">\n",
       "      <th></th>\n",
       "      <th>Animal ID</th>\n",
       "      <th>Name</th>\n",
       "      <th>MonthYear</th>\n",
       "      <th>Outcome Type</th>\n",
       "      <th>Animal Type</th>\n",
       "      <th>Breed</th>\n",
       "      <th>Age upon Outcome</th>\n",
       "    </tr>\n",
       "  </thead>\n",
       "  <tbody>\n",
       "    <tr>\n",
       "      <th>153437</th>\n",
       "      <td>A883539</td>\n",
       "      <td>*Pipsqueak</td>\n",
       "      <td>Jul 2023</td>\n",
       "      <td>Adoption</td>\n",
       "      <td>Dog</td>\n",
       "      <td>Labrador Retriever Mix</td>\n",
       "      <td>4 months</td>\n",
       "    </tr>\n",
       "    <tr>\n",
       "      <th>153438</th>\n",
       "      <td>A884334</td>\n",
       "      <td>Noche</td>\n",
       "      <td>Jul 2023</td>\n",
       "      <td>Adoption</td>\n",
       "      <td>Cat</td>\n",
       "      <td>Domestic Shorthair</td>\n",
       "      <td>3 months</td>\n",
       "    </tr>\n",
       "    <tr>\n",
       "      <th>153439</th>\n",
       "      <td>A885055</td>\n",
       "      <td>Sparky</td>\n",
       "      <td>Jul 2023</td>\n",
       "      <td>Adoption</td>\n",
       "      <td>Cat</td>\n",
       "      <td>Siamese</td>\n",
       "      <td>3 months</td>\n",
       "    </tr>\n",
       "    <tr>\n",
       "      <th>153440</th>\n",
       "      <td>A884031</td>\n",
       "      <td>Bowzer</td>\n",
       "      <td>Jul 2023</td>\n",
       "      <td>Adoption</td>\n",
       "      <td>Dog</td>\n",
       "      <td>Labrador Retriever Mix</td>\n",
       "      <td>4 years</td>\n",
       "    </tr>\n",
       "    <tr>\n",
       "      <th>153441</th>\n",
       "      <td>A883741</td>\n",
       "      <td>*Fiddle</td>\n",
       "      <td>Jul 2023</td>\n",
       "      <td>Transfer</td>\n",
       "      <td>Dog</td>\n",
       "      <td>Australian Cattle Dog Mix</td>\n",
       "      <td>1 year</td>\n",
       "    </tr>\n",
       "  </tbody>\n",
       "</table>\n",
       "</div>"
      ],
      "text/plain": [
       "       Animal ID        Name MonthYear Outcome Type Animal Type  \\\n",
       "153437   A883539  *Pipsqueak  Jul 2023     Adoption         Dog   \n",
       "153438   A884334       Noche  Jul 2023     Adoption         Cat   \n",
       "153439   A885055      Sparky  Jul 2023     Adoption         Cat   \n",
       "153440   A884031      Bowzer  Jul 2023     Adoption         Dog   \n",
       "153441   A883741     *Fiddle  Jul 2023     Transfer         Dog   \n",
       "\n",
       "                            Breed Age upon Outcome  \n",
       "153437     Labrador Retriever Mix         4 months  \n",
       "153438         Domestic Shorthair         3 months  \n",
       "153439                    Siamese         3 months  \n",
       "153440     Labrador Retriever Mix          4 years  \n",
       "153441  Australian Cattle Dog Mix           1 year  "
      ]
     },
     "execution_count": 7,
     "metadata": {},
     "output_type": "execute_result"
    }
   ],
   "source": [
    "# Creating a DataFrame copy to reduce to essential columns\n",
    "reduced_columns_df= initial_df[[\"Animal ID\", \"Name\", \"MonthYear\", \"Outcome Type\", \"Animal Type\", \"Breed\", \"Age upon Outcome\"]].copy()\n",
    "reduced_columns_df.tail(5)"
   ]
  },
  {
   "cell_type": "code",
   "execution_count": 8,
   "id": "f559579f-fc5f-4693-915e-0de843c00f7d",
   "metadata": {
    "tags": []
   },
   "outputs": [
    {
     "data": {
      "text/html": [
       "<div>\n",
       "<style scoped>\n",
       "    .dataframe tbody tr th:only-of-type {\n",
       "        vertical-align: middle;\n",
       "    }\n",
       "\n",
       "    .dataframe tbody tr th {\n",
       "        vertical-align: top;\n",
       "    }\n",
       "\n",
       "    .dataframe thead th {\n",
       "        text-align: right;\n",
       "    }\n",
       "</style>\n",
       "<table border=\"1\" class=\"dataframe\">\n",
       "  <thead>\n",
       "    <tr style=\"text-align: right;\">\n",
       "      <th></th>\n",
       "      <th>Animal ID</th>\n",
       "      <th>Name</th>\n",
       "      <th>Month Year</th>\n",
       "      <th>Outcome Type</th>\n",
       "      <th>Animal Type</th>\n",
       "      <th>Breed</th>\n",
       "      <th>Age upon Outcome</th>\n",
       "      <th>Month</th>\n",
       "      <th>Year</th>\n",
       "    </tr>\n",
       "  </thead>\n",
       "  <tbody>\n",
       "    <tr>\n",
       "      <th>153437</th>\n",
       "      <td>A883539</td>\n",
       "      <td>*Pipsqueak</td>\n",
       "      <td>Jul 2023</td>\n",
       "      <td>Adoption</td>\n",
       "      <td>Dog</td>\n",
       "      <td>Labrador Retriever Mix</td>\n",
       "      <td>4 months</td>\n",
       "      <td>Jul</td>\n",
       "      <td>2023</td>\n",
       "    </tr>\n",
       "    <tr>\n",
       "      <th>153438</th>\n",
       "      <td>A884334</td>\n",
       "      <td>Noche</td>\n",
       "      <td>Jul 2023</td>\n",
       "      <td>Adoption</td>\n",
       "      <td>Cat</td>\n",
       "      <td>Domestic Shorthair</td>\n",
       "      <td>3 months</td>\n",
       "      <td>Jul</td>\n",
       "      <td>2023</td>\n",
       "    </tr>\n",
       "    <tr>\n",
       "      <th>153439</th>\n",
       "      <td>A885055</td>\n",
       "      <td>Sparky</td>\n",
       "      <td>Jul 2023</td>\n",
       "      <td>Adoption</td>\n",
       "      <td>Cat</td>\n",
       "      <td>Siamese</td>\n",
       "      <td>3 months</td>\n",
       "      <td>Jul</td>\n",
       "      <td>2023</td>\n",
       "    </tr>\n",
       "    <tr>\n",
       "      <th>153440</th>\n",
       "      <td>A884031</td>\n",
       "      <td>Bowzer</td>\n",
       "      <td>Jul 2023</td>\n",
       "      <td>Adoption</td>\n",
       "      <td>Dog</td>\n",
       "      <td>Labrador Retriever Mix</td>\n",
       "      <td>4 years</td>\n",
       "      <td>Jul</td>\n",
       "      <td>2023</td>\n",
       "    </tr>\n",
       "    <tr>\n",
       "      <th>153441</th>\n",
       "      <td>A883741</td>\n",
       "      <td>*Fiddle</td>\n",
       "      <td>Jul 2023</td>\n",
       "      <td>Transfer</td>\n",
       "      <td>Dog</td>\n",
       "      <td>Australian Cattle Dog Mix</td>\n",
       "      <td>1 year</td>\n",
       "      <td>Jul</td>\n",
       "      <td>2023</td>\n",
       "    </tr>\n",
       "  </tbody>\n",
       "</table>\n",
       "</div>"
      ],
      "text/plain": [
       "       Animal ID        Name Month Year Outcome Type Animal Type  \\\n",
       "153437   A883539  *Pipsqueak   Jul 2023     Adoption         Dog   \n",
       "153438   A884334       Noche   Jul 2023     Adoption         Cat   \n",
       "153439   A885055      Sparky   Jul 2023     Adoption         Cat   \n",
       "153440   A884031      Bowzer   Jul 2023     Adoption         Dog   \n",
       "153441   A883741     *Fiddle   Jul 2023     Transfer         Dog   \n",
       "\n",
       "                            Breed Age upon Outcome Month  Year  \n",
       "153437     Labrador Retriever Mix         4 months   Jul  2023  \n",
       "153438         Domestic Shorthair         3 months   Jul  2023  \n",
       "153439                    Siamese         3 months   Jul  2023  \n",
       "153440     Labrador Retriever Mix          4 years   Jul  2023  \n",
       "153441  Australian Cattle Dog Mix           1 year   Jul  2023  "
      ]
     },
     "execution_count": 8,
     "metadata": {},
     "output_type": "execute_result"
    }
   ],
   "source": [
    "# Rename column and split a DataFrame column\n",
    "reduced_columns_df.rename(columns = {\"MonthYear\":\"Month Year\"}, inplace = True)\n",
    "reduced_columns_df[[\"Month\",\"Year\"]] = reduced_columns_df[\"Month Year\"].str.split(\" \",expand=True)\n",
    "reduced_columns_df.tail(5)"
   ]
  },
  {
   "cell_type": "code",
   "execution_count": 9,
   "id": "8ed27e74-bcc5-4cec-85c8-4ed2e178b065",
   "metadata": {
    "tags": []
   },
   "outputs": [
    {
     "data": {
      "text/html": [
       "<div>\n",
       "<style scoped>\n",
       "    .dataframe tbody tr th:only-of-type {\n",
       "        vertical-align: middle;\n",
       "    }\n",
       "\n",
       "    .dataframe tbody tr th {\n",
       "        vertical-align: top;\n",
       "    }\n",
       "\n",
       "    .dataframe thead th {\n",
       "        text-align: right;\n",
       "    }\n",
       "</style>\n",
       "<table border=\"1\" class=\"dataframe\">\n",
       "  <thead>\n",
       "    <tr style=\"text-align: right;\">\n",
       "      <th></th>\n",
       "      <th>Animal ID</th>\n",
       "      <th>Name</th>\n",
       "      <th>Month</th>\n",
       "      <th>Year</th>\n",
       "      <th>Outcome Type</th>\n",
       "      <th>Animal Type</th>\n",
       "      <th>Breed</th>\n",
       "      <th>Age upon Outcome</th>\n",
       "    </tr>\n",
       "  </thead>\n",
       "  <tbody>\n",
       "    <tr>\n",
       "      <th>153437</th>\n",
       "      <td>A883539</td>\n",
       "      <td>*Pipsqueak</td>\n",
       "      <td>Jul</td>\n",
       "      <td>2023</td>\n",
       "      <td>Adoption</td>\n",
       "      <td>Dog</td>\n",
       "      <td>Labrador Retriever Mix</td>\n",
       "      <td>4 months</td>\n",
       "    </tr>\n",
       "    <tr>\n",
       "      <th>153438</th>\n",
       "      <td>A884334</td>\n",
       "      <td>Noche</td>\n",
       "      <td>Jul</td>\n",
       "      <td>2023</td>\n",
       "      <td>Adoption</td>\n",
       "      <td>Cat</td>\n",
       "      <td>Domestic Shorthair</td>\n",
       "      <td>3 months</td>\n",
       "    </tr>\n",
       "    <tr>\n",
       "      <th>153439</th>\n",
       "      <td>A885055</td>\n",
       "      <td>Sparky</td>\n",
       "      <td>Jul</td>\n",
       "      <td>2023</td>\n",
       "      <td>Adoption</td>\n",
       "      <td>Cat</td>\n",
       "      <td>Siamese</td>\n",
       "      <td>3 months</td>\n",
       "    </tr>\n",
       "    <tr>\n",
       "      <th>153440</th>\n",
       "      <td>A884031</td>\n",
       "      <td>Bowzer</td>\n",
       "      <td>Jul</td>\n",
       "      <td>2023</td>\n",
       "      <td>Adoption</td>\n",
       "      <td>Dog</td>\n",
       "      <td>Labrador Retriever Mix</td>\n",
       "      <td>4 years</td>\n",
       "    </tr>\n",
       "    <tr>\n",
       "      <th>153441</th>\n",
       "      <td>A883741</td>\n",
       "      <td>*Fiddle</td>\n",
       "      <td>Jul</td>\n",
       "      <td>2023</td>\n",
       "      <td>Transfer</td>\n",
       "      <td>Dog</td>\n",
       "      <td>Australian Cattle Dog Mix</td>\n",
       "      <td>1 year</td>\n",
       "    </tr>\n",
       "  </tbody>\n",
       "</table>\n",
       "</div>"
      ],
      "text/plain": [
       "       Animal ID        Name Month  Year Outcome Type Animal Type  \\\n",
       "153437   A883539  *Pipsqueak   Jul  2023     Adoption         Dog   \n",
       "153438   A884334       Noche   Jul  2023     Adoption         Cat   \n",
       "153439   A885055      Sparky   Jul  2023     Adoption         Cat   \n",
       "153440   A884031      Bowzer   Jul  2023     Adoption         Dog   \n",
       "153441   A883741     *Fiddle   Jul  2023     Transfer         Dog   \n",
       "\n",
       "                            Breed Age upon Outcome  \n",
       "153437     Labrador Retriever Mix         4 months  \n",
       "153438         Domestic Shorthair         3 months  \n",
       "153439                    Siamese         3 months  \n",
       "153440     Labrador Retriever Mix          4 years  \n",
       "153441  Australian Cattle Dog Mix           1 year  "
      ]
     },
     "execution_count": 9,
     "metadata": {},
     "output_type": "execute_result"
    }
   ],
   "source": [
    "# Cleaning and rearranging the data\n",
    "updated_columns_df = reduced_columns_df[[\"Animal ID\", \"Name\", \"Month\", \"Year\", \"Outcome Type\", \"Animal Type\", \"Breed\", \"Age upon Outcome\"]].copy()\n",
    "updated_columns_df.drop_duplicates(subset=[\"Animal ID\"])\n",
    "updated_columns_df.tail(5)"
   ]
  },
  {
   "cell_type": "code",
   "execution_count": 10,
   "id": "2f90a7d1-9525-4f66-a1f0-eecf9c844d80",
   "metadata": {
    "tags": []
   },
   "outputs": [
    {
     "data": {
      "text/html": [
       "<div>\n",
       "<style scoped>\n",
       "    .dataframe tbody tr th:only-of-type {\n",
       "        vertical-align: middle;\n",
       "    }\n",
       "\n",
       "    .dataframe tbody tr th {\n",
       "        vertical-align: top;\n",
       "    }\n",
       "\n",
       "    .dataframe thead th {\n",
       "        text-align: right;\n",
       "    }\n",
       "</style>\n",
       "<table border=\"1\" class=\"dataframe\">\n",
       "  <thead>\n",
       "    <tr style=\"text-align: right;\">\n",
       "      <th></th>\n",
       "      <th>Animal ID</th>\n",
       "      <th>Name</th>\n",
       "      <th>Month</th>\n",
       "      <th>Year</th>\n",
       "      <th>Outcome Type</th>\n",
       "      <th>Animal Type</th>\n",
       "      <th>Breed</th>\n",
       "      <th>Age upon Outcome</th>\n",
       "    </tr>\n",
       "  </thead>\n",
       "  <tbody>\n",
       "    <tr>\n",
       "      <th>153073</th>\n",
       "      <td>A857909</td>\n",
       "      <td>Yumi</td>\n",
       "      <td>Jun</td>\n",
       "      <td>2022</td>\n",
       "      <td>Adoption</td>\n",
       "      <td>Dog</td>\n",
       "      <td>Pit Bull Mix</td>\n",
       "      <td>8 months</td>\n",
       "    </tr>\n",
       "    <tr>\n",
       "      <th>153108</th>\n",
       "      <td>A853013</td>\n",
       "      <td>Ashe</td>\n",
       "      <td>Apr</td>\n",
       "      <td>2022</td>\n",
       "      <td>Adoption</td>\n",
       "      <td>Cat</td>\n",
       "      <td>Domestic Shorthair</td>\n",
       "      <td>5 months</td>\n",
       "    </tr>\n",
       "    <tr>\n",
       "      <th>153197</th>\n",
       "      <td>A862948</td>\n",
       "      <td>*Christine</td>\n",
       "      <td>Aug</td>\n",
       "      <td>2022</td>\n",
       "      <td>Transfer</td>\n",
       "      <td>Cat</td>\n",
       "      <td>Domestic Shorthair Mix</td>\n",
       "      <td>3 months</td>\n",
       "    </tr>\n",
       "    <tr>\n",
       "      <th>153355</th>\n",
       "      <td>A850898</td>\n",
       "      <td>Xena</td>\n",
       "      <td>Feb</td>\n",
       "      <td>2022</td>\n",
       "      <td>Adoption</td>\n",
       "      <td>Dog</td>\n",
       "      <td>Siberian Husky Mix</td>\n",
       "      <td>2 months</td>\n",
       "    </tr>\n",
       "    <tr>\n",
       "      <th>153422</th>\n",
       "      <td>A869924</td>\n",
       "      <td>NaN</td>\n",
       "      <td>Dec</td>\n",
       "      <td>2022</td>\n",
       "      <td>Transfer</td>\n",
       "      <td>Cat</td>\n",
       "      <td>Domestic Shorthair</td>\n",
       "      <td>2 years</td>\n",
       "    </tr>\n",
       "  </tbody>\n",
       "</table>\n",
       "</div>"
      ],
      "text/plain": [
       "       Animal ID        Name Month  Year Outcome Type Animal Type  \\\n",
       "153073   A857909        Yumi   Jun  2022     Adoption         Dog   \n",
       "153108   A853013        Ashe   Apr  2022     Adoption         Cat   \n",
       "153197   A862948  *Christine   Aug  2022     Transfer         Cat   \n",
       "153355   A850898        Xena   Feb  2022     Adoption         Dog   \n",
       "153422   A869924         NaN   Dec  2022     Transfer         Cat   \n",
       "\n",
       "                         Breed Age upon Outcome  \n",
       "153073            Pit Bull Mix         8 months  \n",
       "153108      Domestic Shorthair         5 months  \n",
       "153197  Domestic Shorthair Mix         3 months  \n",
       "153355      Siberian Husky Mix         2 months  \n",
       "153422      Domestic Shorthair          2 years  "
      ]
     },
     "execution_count": 10,
     "metadata": {},
     "output_type": "execute_result"
    }
   ],
   "source": [
    "# Narrowing dataset to 2022 timeframe\n",
    "defined_year_df = updated_columns_df[updated_columns_df[\"Year\"] == \"2022\"]\n",
    "defined_year_df.tail(5)"
   ]
  },
  {
   "cell_type": "code",
   "execution_count": 11,
   "id": "23a60ce7-03a9-45c6-bde9-5d18508b6a9a",
   "metadata": {
    "tags": []
   },
   "outputs": [
    {
     "data": {
      "text/html": [
       "<div>\n",
       "<style scoped>\n",
       "    .dataframe tbody tr th:only-of-type {\n",
       "        vertical-align: middle;\n",
       "    }\n",
       "\n",
       "    .dataframe tbody tr th {\n",
       "        vertical-align: top;\n",
       "    }\n",
       "\n",
       "    .dataframe thead th {\n",
       "        text-align: right;\n",
       "    }\n",
       "</style>\n",
       "<table border=\"1\" class=\"dataframe\">\n",
       "  <thead>\n",
       "    <tr style=\"text-align: right;\">\n",
       "      <th></th>\n",
       "      <th>Animal ID</th>\n",
       "      <th>Name</th>\n",
       "      <th>Month</th>\n",
       "      <th>Year</th>\n",
       "      <th>Outcome Type</th>\n",
       "      <th>Animal Type</th>\n",
       "      <th>Breed</th>\n",
       "      <th>Age upon Outcome</th>\n",
       "    </tr>\n",
       "  </thead>\n",
       "  <tbody>\n",
       "    <tr>\n",
       "      <th>11875</th>\n",
       "      <td>A857909</td>\n",
       "      <td>Yumi</td>\n",
       "      <td>Jun</td>\n",
       "      <td>2022</td>\n",
       "      <td>Adoption</td>\n",
       "      <td>Dog</td>\n",
       "      <td>Pit Bull Mix</td>\n",
       "      <td>8 months</td>\n",
       "    </tr>\n",
       "    <tr>\n",
       "      <th>11876</th>\n",
       "      <td>A853013</td>\n",
       "      <td>Ashe</td>\n",
       "      <td>Apr</td>\n",
       "      <td>2022</td>\n",
       "      <td>Adoption</td>\n",
       "      <td>Cat</td>\n",
       "      <td>Domestic Shorthair</td>\n",
       "      <td>5 months</td>\n",
       "    </tr>\n",
       "    <tr>\n",
       "      <th>11877</th>\n",
       "      <td>A862948</td>\n",
       "      <td>*Christine</td>\n",
       "      <td>Aug</td>\n",
       "      <td>2022</td>\n",
       "      <td>Transfer</td>\n",
       "      <td>Cat</td>\n",
       "      <td>Domestic Shorthair Mix</td>\n",
       "      <td>3 months</td>\n",
       "    </tr>\n",
       "    <tr>\n",
       "      <th>11878</th>\n",
       "      <td>A850898</td>\n",
       "      <td>Xena</td>\n",
       "      <td>Feb</td>\n",
       "      <td>2022</td>\n",
       "      <td>Adoption</td>\n",
       "      <td>Dog</td>\n",
       "      <td>Siberian Husky Mix</td>\n",
       "      <td>2 months</td>\n",
       "    </tr>\n",
       "    <tr>\n",
       "      <th>11879</th>\n",
       "      <td>A869924</td>\n",
       "      <td>NaN</td>\n",
       "      <td>Dec</td>\n",
       "      <td>2022</td>\n",
       "      <td>Transfer</td>\n",
       "      <td>Cat</td>\n",
       "      <td>Domestic Shorthair</td>\n",
       "      <td>2 years</td>\n",
       "    </tr>\n",
       "  </tbody>\n",
       "</table>\n",
       "</div>"
      ],
      "text/plain": [
       "      Animal ID        Name Month  Year Outcome Type Animal Type  \\\n",
       "11875   A857909        Yumi   Jun  2022     Adoption         Dog   \n",
       "11876   A853013        Ashe   Apr  2022     Adoption         Cat   \n",
       "11877   A862948  *Christine   Aug  2022     Transfer         Cat   \n",
       "11878   A850898        Xena   Feb  2022     Adoption         Dog   \n",
       "11879   A869924         NaN   Dec  2022     Transfer         Cat   \n",
       "\n",
       "                        Breed Age upon Outcome  \n",
       "11875            Pit Bull Mix         8 months  \n",
       "11876      Domestic Shorthair         5 months  \n",
       "11877  Domestic Shorthair Mix         3 months  \n",
       "11878      Siberian Husky Mix         2 months  \n",
       "11879      Domestic Shorthair          2 years  "
      ]
     },
     "execution_count": 11,
     "metadata": {},
     "output_type": "execute_result"
    }
   ],
   "source": [
    "# Resetting index for tracking purposes\n",
    "index_reset_df = defined_year_df.reset_index(drop=True)\n",
    "index_reset_df.tail(5)"
   ]
  },
  {
   "cell_type": "code",
   "execution_count": 12,
   "id": "e63c51bc-1287-4ae8-a1e9-e74650518c3b",
   "metadata": {
    "tags": []
   },
   "outputs": [
    {
     "data": {
      "text/plain": [
       "Dog          6412\n",
       "Cat          4766\n",
       "Other         592\n",
       "Bird          109\n",
       "Livestock       1\n",
       "Name: Animal Type, dtype: int64"
      ]
     },
     "execution_count": 12,
     "metadata": {},
     "output_type": "execute_result"
    }
   ],
   "source": [
    "#Display total animal counts\n",
    "index_reset_df[\"Animal Type\"].value_counts()"
   ]
  },
  {
   "cell_type": "code",
   "execution_count": 13,
   "id": "97beb8dd-9ded-4583-a5cd-ccf70e11523a",
   "metadata": {
    "tags": []
   },
   "outputs": [
    {
     "data": {
      "text/html": [
       "<div>\n",
       "<style scoped>\n",
       "    .dataframe tbody tr th:only-of-type {\n",
       "        vertical-align: middle;\n",
       "    }\n",
       "\n",
       "    .dataframe tbody tr th {\n",
       "        vertical-align: top;\n",
       "    }\n",
       "\n",
       "    .dataframe thead th {\n",
       "        text-align: right;\n",
       "    }\n",
       "</style>\n",
       "<table border=\"1\" class=\"dataframe\">\n",
       "  <thead>\n",
       "    <tr style=\"text-align: right;\">\n",
       "      <th></th>\n",
       "      <th>Animal ID</th>\n",
       "      <th>Name</th>\n",
       "      <th>Month</th>\n",
       "      <th>Year</th>\n",
       "      <th>Outcome Type</th>\n",
       "      <th>Animal Type</th>\n",
       "      <th>Breed</th>\n",
       "      <th>Age upon Outcome</th>\n",
       "    </tr>\n",
       "  </thead>\n",
       "  <tbody>\n",
       "    <tr>\n",
       "      <th>0</th>\n",
       "      <td>A860161</td>\n",
       "      <td>*Lalo</td>\n",
       "      <td>Jul</td>\n",
       "      <td>2022</td>\n",
       "      <td>Adoption</td>\n",
       "      <td>Cat</td>\n",
       "      <td>Domestic Shorthair</td>\n",
       "      <td>2 months</td>\n",
       "    </tr>\n",
       "    <tr>\n",
       "      <th>2</th>\n",
       "      <td>A848454</td>\n",
       "      <td>Olli</td>\n",
       "      <td>Jan</td>\n",
       "      <td>2022</td>\n",
       "      <td>Adoption</td>\n",
       "      <td>Cat</td>\n",
       "      <td>Domestic Shorthair Mix</td>\n",
       "      <td>7 years</td>\n",
       "    </tr>\n",
       "    <tr>\n",
       "      <th>3</th>\n",
       "      <td>A822928</td>\n",
       "      <td>*Primrose</td>\n",
       "      <td>Jan</td>\n",
       "      <td>2022</td>\n",
       "      <td>Adoption</td>\n",
       "      <td>Cat</td>\n",
       "      <td>Domestic Shorthair</td>\n",
       "      <td>11 years</td>\n",
       "    </tr>\n",
       "    <tr>\n",
       "      <th>5</th>\n",
       "      <td>A852822</td>\n",
       "      <td>*Dreamsicle</td>\n",
       "      <td>Mar</td>\n",
       "      <td>2022</td>\n",
       "      <td>Adoption</td>\n",
       "      <td>Cat</td>\n",
       "      <td>Domestic Shorthair</td>\n",
       "      <td>2 years</td>\n",
       "    </tr>\n",
       "    <tr>\n",
       "      <th>13</th>\n",
       "      <td>A856357</td>\n",
       "      <td>*Manon</td>\n",
       "      <td>Jun</td>\n",
       "      <td>2022</td>\n",
       "      <td>Adoption</td>\n",
       "      <td>Cat</td>\n",
       "      <td>Domestic Shorthair</td>\n",
       "      <td>2 months</td>\n",
       "    </tr>\n",
       "  </tbody>\n",
       "</table>\n",
       "</div>"
      ],
      "text/plain": [
       "   Animal ID         Name Month  Year Outcome Type Animal Type  \\\n",
       "0    A860161        *Lalo   Jul  2022     Adoption         Cat   \n",
       "2    A848454         Olli   Jan  2022     Adoption         Cat   \n",
       "3    A822928    *Primrose   Jan  2022     Adoption         Cat   \n",
       "5    A852822  *Dreamsicle   Mar  2022     Adoption         Cat   \n",
       "13   A856357       *Manon   Jun  2022     Adoption         Cat   \n",
       "\n",
       "                     Breed Age upon Outcome  \n",
       "0       Domestic Shorthair         2 months  \n",
       "2   Domestic Shorthair Mix          7 years  \n",
       "3       Domestic Shorthair         11 years  \n",
       "5       Domestic Shorthair          2 years  \n",
       "13      Domestic Shorthair         2 months  "
      ]
     },
     "execution_count": 13,
     "metadata": {},
     "output_type": "execute_result"
    }
   ],
   "source": [
    "# Create separate dataframe for cat outcomes\n",
    "Cat = [\"Cat\"] \n",
    "cat_outcomes_df = index_reset_df[index_reset_df[\"Animal Type\"].isin(Cat)]\n",
    "cat_outcomes_df.head(5)"
   ]
  },
  {
   "cell_type": "code",
   "execution_count": 14,
   "id": "753d6ecd-1d0e-4f8d-a92d-f5d4ad175e04",
   "metadata": {
    "tags": []
   },
   "outputs": [
    {
     "data": {
      "text/plain": [
       "Aug    587\n",
       "Jun    581\n",
       "Jul    536\n",
       "May    503\n",
       "Sep    430\n",
       "Jan    375\n",
       "Dec    368\n",
       "Nov    335\n",
       "Oct    316\n",
       "Apr    296\n",
       "Mar    228\n",
       "Feb    211\n",
       "Name: Month, dtype: int64"
      ]
     },
     "execution_count": 14,
     "metadata": {},
     "output_type": "execute_result"
    }
   ],
   "source": [
    "# Data check: display monthly cat totals\n",
    "cat_outcomes_df[\"Month\"].value_counts()"
   ]
  },
  {
   "cell_type": "code",
   "execution_count": 15,
   "id": "4a7fd0c6-559b-4732-9c90-982597fb64f6",
   "metadata": {
    "tags": []
   },
   "outputs": [
    {
     "data": {
      "text/plain": [
       "Adoption           3194\n",
       "Transfer           1177\n",
       "Return to Owner     152\n",
       "Euthanasia          142\n",
       "Died                 54\n",
       "Rto-Adopt            31\n",
       "Disposal             12\n",
       "Missing               3\n",
       "Relocate              1\n",
       "Name: Outcome Type, dtype: int64"
      ]
     },
     "execution_count": 15,
     "metadata": {},
     "output_type": "execute_result"
    }
   ],
   "source": [
    "# Data check: display cat outcome types\n",
    "cat_outcomes_df[\"Outcome Type\"].value_counts()"
   ]
  },
  {
   "cell_type": "code",
   "execution_count": 16,
   "id": "0b3c4c1a",
   "metadata": {
    "tags": []
   },
   "outputs": [
    {
     "data": {
      "image/png": "[encoded data removed]",
      "text/plain": [
       "<Figure size 640x480 with 1 Axes>"
      ]
     },
     "metadata": {},
     "output_type": "display_data"
    }
   ],
   "source": [
    "# Plotting Cat Outcomes\n",
    "# We deemed Return to Owner and Rto-Adopt to be duplicate but equal categories. \n",
    "#The two values were added together under \"Return to Owner\".\n",
    "\n",
    "desired_outcomes = ['Adoption', 'Transfer', 'Return to Owner']\n",
    "outcome_counts = {'Adoption': 3194, 'Transfer': 1117, 'Return to Owner': 183,} \n",
    "outcome_colors = {'Adoption': 'brown', 'Return to Owner': 'pink', 'Transfer': 'beige'}\n",
    "outcome_types = list(outcome_counts.keys())\n",
    "counts = list(outcome_counts.values())\n",
    "\n",
    "plt.bar(outcome_types, counts, color=[outcome_colors[outcome] for outcome in outcome_types])\n",
    "plt.xlabel('Outcome Types')\n",
    "plt.ylabel('Counts')\n",
    "plt.title(\"Top 3 outcomes for Cats\\n\" + \"Austin Animal Center, 2022\", bbox={'facecolor':'1', 'pad':2})\n",
    "\n",
    "for index, value in enumerate(outcome_counts.values()):  \n",
    "    plt.text(index, value, str(value), ha='center', va='bottom')\n",
    "\n",
    "plt.tight_layout()\n",
    "plt.show()"
   ]
  },
  {
   "cell_type": "code",
   "execution_count": 18,
   "id": "56533600-01aa-413f-904c-a19978ec2940",
   "metadata": {
    "tags": []
   },
   "outputs": [
    {
     "data": {
      "image/png": "[encoded data removed]",
      "text/plain": [
       "<Figure size 640x480 with 1 Axes>"
      ]
     },
     "metadata": {},
     "output_type": "display_data"
    }
   ],
   "source": [
    "# Plotting Cat Adoptions by Month\n",
    "cat_adoptions_df = cat_outcomes_df.loc[cat_outcomes_df[\"Outcome Type\"] == \"Adoption\"]\n",
    "cat_adoptions_df[\"Month\"].value_counts()\n",
    "\n",
    "months = ['Jan', 'Feb', 'Mar', 'Apr', 'May', 'Jun', 'Jul', 'Aug', 'Sep', 'Oct', 'Nov', 'Dec']\n",
    "month_df = pd.DataFrame(cat_adoptions_df[\"Month\"].value_counts(), index=months)\n",
    "month_df['Month'].plot(kind=\"bar\", color='slateblue', xlabel=\"Months\", ylabel=\"Adoptions\")\n",
    "\n",
    "plt.title(\"Cat Adoptions by Month\\n\" + \"Austin Animal Center, 2022\", bbox={'facecolor':'1', 'pad':2})\n",
    "plt.show()"
   ]
  },
  {
   "cell_type": "code",
   "execution_count": 19,
   "id": "19e26cad-9426-4b68-8f46-6b00c8683c97",
   "metadata": {
    "tags": []
   },
   "outputs": [
    {
     "data": {
      "text/plain": [
       "Domestic Shorthair                         3140\n",
       "Domestic Shorthair Mix                      925\n",
       "Domestic Medium Hair                        276\n",
       "Domestic Longhair                           109\n",
       "Siamese                                      80\n",
       "Domestic Medium Hair Mix                     77\n",
       "Domestic Longhair Mix                        67\n",
       "Siamese Mix                                  42\n",
       "Maine Coon                                    7\n",
       "Snowshoe Mix                                  5\n",
       "Russian Blue Mix                              4\n",
       "Manx                                          3\n",
       "Snowshoe                                      3\n",
       "Manx Mix                                      3\n",
       "Himalayan                                     3\n",
       "Devon Rex                                     2\n",
       "Ragdoll                                       2\n",
       "Russian Blue                                  2\n",
       "Maine Coon Mix                                2\n",
       "Balinese Mix                                  2\n",
       "Ragdoll Mix                                   1\n",
       "Siamese/Domestic Medium Hair                  1\n",
       "Siamese/Munchkin Shorthair                    1\n",
       "Munchkin Longhair                             1\n",
       "Persian                                       1\n",
       "Bengal Mix                                    1\n",
       "Abyssinian                                    1\n",
       "Himalayan Mix                                 1\n",
       "Turkish Van Mix                               1\n",
       "Abyssinian Mix                                1\n",
       "Sphynx                                        1\n",
       "Domestic Shorthair/Domestic Medium Hair       1\n",
       "Name: Breed, dtype: int64"
      ]
     },
     "execution_count": 19,
     "metadata": {},
     "output_type": "execute_result"
    }
   ],
   "source": [
    "# Data check: Cat Breeds\n",
    "cat_outcomes_df[\"Breed\"].value_counts()"
   ]
  },
  {
   "cell_type": "code",
   "execution_count": 20,
   "id": "2f7bf05e-c255-4aad-b28f-f7c110e1a8eb",
   "metadata": {
    "tags": []
   },
   "outputs": [
    {
     "data": {
      "image/png": "[encoded data removed]",
      "text/plain": [
       "<Figure size 640x480 with 1 Axes>"
      ]
     },
     "metadata": {},
     "output_type": "display_data"
    }
   ],
   "source": [
    "# Plotting Most Popular Cat Breeds\n",
    "clabels = [\"Domestic Shorthair\", \"Domestic Shorthair Mix\", \"Domestic Medium Hair\", \"Other\"]\n",
    "csizes = [65.8, 19.4, 5.8, 9.0]\n",
    "ccolors = [\"coral\", \"lime\", \"cornflowerblue\", \"bisque\"]\n",
    "\n",
    "plt.pie(csizes, labels=clabels, colors=ccolors, autopct=\"%1.1f%%\", shadow=True, startangle=90)\n",
    "plt.title(\"Most Popular Adopted Cat Breeds\\n\" + \"Austin Animal Center, 2022\", bbox={'facecolor':'1', 'pad':5})\n",
    "\n",
    "plt.show()"
   ]
  },
  {
   "cell_type": "code",
   "execution_count": 21,
   "id": "2d34fa04-d89c-48a9-93b8-cec24cb84953",
   "metadata": {
    "tags": []
   },
   "outputs": [
    {
     "data": {
      "text/html": [
       "<div>\n",
       "<style scoped>\n",
       "    .dataframe tbody tr th:only-of-type {\n",
       "        vertical-align: middle;\n",
       "    }\n",
       "\n",
       "    .dataframe tbody tr th {\n",
       "        vertical-align: top;\n",
       "    }\n",
       "\n",
       "    .dataframe thead th {\n",
       "        text-align: right;\n",
       "    }\n",
       "</style>\n",
       "<table border=\"1\" class=\"dataframe\">\n",
       "  <thead>\n",
       "    <tr style=\"text-align: right;\">\n",
       "      <th></th>\n",
       "      <th>Animal ID</th>\n",
       "      <th>Name</th>\n",
       "      <th>Month</th>\n",
       "      <th>Year</th>\n",
       "      <th>Outcome Type</th>\n",
       "      <th>Animal Type</th>\n",
       "      <th>Breed</th>\n",
       "      <th>Age upon Outcome</th>\n",
       "    </tr>\n",
       "  </thead>\n",
       "  <tbody>\n",
       "    <tr>\n",
       "      <th>1</th>\n",
       "      <td>A595061</td>\n",
       "      <td>Gypsy</td>\n",
       "      <td>Aug</td>\n",
       "      <td>2022</td>\n",
       "      <td>Return to Owner</td>\n",
       "      <td>Dog</td>\n",
       "      <td>Labrador Retriever Mix</td>\n",
       "      <td>11 years</td>\n",
       "    </tr>\n",
       "    <tr>\n",
       "      <th>4</th>\n",
       "      <td>A856853</td>\n",
       "      <td>Jameson</td>\n",
       "      <td>May</td>\n",
       "      <td>2022</td>\n",
       "      <td>Adoption</td>\n",
       "      <td>Dog</td>\n",
       "      <td>Black Mouth Cur Mix</td>\n",
       "      <td>6 months</td>\n",
       "    </tr>\n",
       "    <tr>\n",
       "      <th>6</th>\n",
       "      <td>A851472</td>\n",
       "      <td>A851472</td>\n",
       "      <td>Feb</td>\n",
       "      <td>2022</td>\n",
       "      <td>Transfer</td>\n",
       "      <td>Dog</td>\n",
       "      <td>Cairn Terrier Mix</td>\n",
       "      <td>1 year</td>\n",
       "    </tr>\n",
       "    <tr>\n",
       "      <th>7</th>\n",
       "      <td>A870443</td>\n",
       "      <td>Heidi</td>\n",
       "      <td>Dec</td>\n",
       "      <td>2022</td>\n",
       "      <td>Adoption</td>\n",
       "      <td>Dog</td>\n",
       "      <td>Jack Russell Terrier/Chihuahua Shorthair</td>\n",
       "      <td>12 years</td>\n",
       "    </tr>\n",
       "    <tr>\n",
       "      <th>8</th>\n",
       "      <td>A851434</td>\n",
       "      <td>Taco Bell</td>\n",
       "      <td>Feb</td>\n",
       "      <td>2022</td>\n",
       "      <td>Transfer</td>\n",
       "      <td>Dog</td>\n",
       "      <td>Chihuahua Shorthair</td>\n",
       "      <td>12 years</td>\n",
       "    </tr>\n",
       "  </tbody>\n",
       "</table>\n",
       "</div>"
      ],
      "text/plain": [
       "  Animal ID       Name Month  Year     Outcome Type Animal Type  \\\n",
       "1   A595061      Gypsy   Aug  2022  Return to Owner         Dog   \n",
       "4   A856853    Jameson   May  2022         Adoption         Dog   \n",
       "6   A851472    A851472   Feb  2022         Transfer         Dog   \n",
       "7   A870443      Heidi   Dec  2022         Adoption         Dog   \n",
       "8   A851434  Taco Bell   Feb  2022         Transfer         Dog   \n",
       "\n",
       "                                      Breed Age upon Outcome  \n",
       "1                    Labrador Retriever Mix         11 years  \n",
       "4                       Black Mouth Cur Mix         6 months  \n",
       "6                         Cairn Terrier Mix           1 year  \n",
       "7  Jack Russell Terrier/Chihuahua Shorthair         12 years  \n",
       "8                       Chihuahua Shorthair         12 years  "
      ]
     },
     "execution_count": 21,
     "metadata": {},
     "output_type": "execute_result"
    }
   ],
   "source": [
    "# Create separate dataframe for dog outcomes\n",
    "Dog = [\"Dog\"] \n",
    "dog_outcomes_df = index_reset_df[index_reset_df[\"Animal Type\"].isin(Dog)]\n",
    "dog_outcomes_df.head(5)"
   ]
  },
  {
   "cell_type": "code",
   "execution_count": 22,
   "id": "0a378913-b8e9-4f7e-8d6f-65800c5adbe3",
   "metadata": {
    "tags": []
   },
   "outputs": [
    {
     "data": {
      "text/plain": [
       "Aug    641\n",
       "Apr    603\n",
       "Jan    600\n",
       "Jul    583\n",
       "Sep    562\n",
       "Jun    551\n",
       "Mar    539\n",
       "Feb    536\n",
       "May    519\n",
       "Oct    441\n",
       "Dec    435\n",
       "Nov    402\n",
       "Name: Month, dtype: int64"
      ]
     },
     "execution_count": 22,
     "metadata": {},
     "output_type": "execute_result"
    }
   ],
   "source": [
    "# Data check: display monthly dog totals\n",
    "dog_outcomes_df[\"Month\"].value_counts()"
   ]
  },
  {
   "cell_type": "code",
   "execution_count": 23,
   "id": "4ee0e2eb-2e5b-43e9-ba3b-9e1e83f0cf94",
   "metadata": {
    "tags": []
   },
   "outputs": [
    {
     "data": {
      "text/plain": [
       "Adoption           3410\n",
       "Transfer           1782\n",
       "Return to Owner     951\n",
       "Rto-Adopt           123\n",
       "Euthanasia           97\n",
       "Died                 34\n",
       "Disposal             13\n",
       "Stolen                2\n",
       "Name: Outcome Type, dtype: int64"
      ]
     },
     "execution_count": 23,
     "metadata": {},
     "output_type": "execute_result"
    }
   ],
   "source": [
    "# Data check: display dog outcome types\n",
    "dog_outcomes_df[\"Outcome Type\"].value_counts()"
   ]
  },
  {
   "cell_type": "code",
   "execution_count": 24,
   "id": "653b31fd",
   "metadata": {
    "tags": []
   },
   "outputs": [
    {
     "data": {
      "image/png": "[encoded data removed]",
      "text/plain": [
       "<Figure size 640x480 with 1 Axes>"
      ]
     },
     "metadata": {},
     "output_type": "display_data"
    }
   ],
   "source": [
    "# Plotting Dog Outcomes\n",
    "# We deemed Return to Owner and Rto-Adopt to be duplicate but equal categories. \n",
    "#The two values were added together under \"Return to Owner\".\n",
    "\n",
    "dog_desired_outcomes = ['Adoption', 'Transfer', 'Return to Owner',]\n",
    "dog_outcome_counts = {'Adoption': 3410, 'Transfer': 1782, 'Return to Owner': 1074}\n",
    "dog_outcome_colors = {'Adoption': 'black', 'Return to Owner': 'beige', 'Transfer': 'brown'}\n",
    "plt.bar(dog_outcome_counts.keys(), dog_outcome_counts.values(), color=[dog_outcome_colors.get(outcome, 'gray') for outcome in dog_outcome_counts.keys()])\n",
    "\n",
    "for index, value in enumerate(dog_outcome_counts.values()):\n",
    "    plt.text(index, value, str(value), ha='center', va='bottom')\n",
    "    \n",
    "plt.xlabel('Outcome Types')\n",
    "plt.ylabel('Counts')\n",
    "plt.title(\"Top 3 Outcomes for Dogs\\n\" + \"Austin Animal Center, 2022\", bbox={'facecolor':'1', 'pad':2})\n",
    "plt.tight_layout()\n",
    "\n",
    "plt.show()"
   ]
  },
  {
   "cell_type": "code",
   "execution_count": 26,
   "id": "70f7aef5-210f-41a5-8cf3-49ee256a9ffe",
   "metadata": {
    "tags": []
   },
   "outputs": [
    {
     "data": {
      "image/png": "[encoded data removed]",
      "text/plain": [
       "<Figure size 640x480 with 1 Axes>"
      ]
     },
     "metadata": {},
     "output_type": "display_data"
    }
   ],
   "source": [
    "# Plotting Dog Adoptions by Month \n",
    "dog_adoptions_df = dog_outcomes_df.loc[dog_outcomes_df[\"Outcome Type\"] == \"Adoption\"]\n",
    "dog_adoptions_df[\"Month\"].value_counts()\n",
    "\n",
    "months = ['Jan', 'Feb', 'Mar', 'Apr', 'May', 'Jun', 'Jul', 'Aug', 'Sep', 'Oct', 'Nov', 'Dec']\n",
    "month_df = pd.DataFrame(dog_adoptions_df[\"Month\"].value_counts(), index=months)\n",
    "month_df['Month'].plot(kind=\"bar\", color='darkseagreen', xlabel=\"Months\", ylabel=\"Adoptions\")\n",
    "\n",
    "plt.title(\"Dog Adoptions by Month\\n\" + \"Austin Animal Center, 2022\", bbox={'facecolor':'1', 'pad':2})\n",
    "plt.show()"
   ]
  },
  {
   "cell_type": "code",
   "execution_count": 84,
   "id": "bb3f6a4c",
   "metadata": {},
   "outputs": [
    {
     "data": {
      "text/plain": [
       "Pit Bull                            623\n",
       "Labrador Retriever Mix              522\n",
       "Pit Bull Mix                        471\n",
       "German Shepherd Mix                 330\n",
       "Chihuahua Shorthair                 254\n",
       "                                   ... \n",
       "Brittany/St. Bernard Smooth Coat      1\n",
       "Bull Terrier Mix                      1\n",
       "Leonberger                            1\n",
       "Cairn Terrier/Chihuahua Longhair      1\n",
       "Australian Kelpie/Collie Smooth       1\n",
       "Name: Breed, Length: 604, dtype: int64"
      ]
     },
     "execution_count": 84,
     "metadata": {},
     "output_type": "execute_result"
    }
   ],
   "source": [
    "# Data check: Dog Breeds\n",
    "dog_outcomes_df[\"Breed\"].value_counts()"
   ]
  },
  {
   "cell_type": "code",
   "execution_count": 85,
   "id": "dcd08f30-61c2-4f22-a7a6-2b4f9c224e48",
   "metadata": {},
   "outputs": [
    {
     "data": {
      "image/png": "[encoded data removed]",
      "text/plain": [
       "<Figure size 640x480 with 1 Axes>"
      ]
     },
     "metadata": {},
     "output_type": "display_data"
    }
   ],
   "source": [
    "# Plotting Most Popular Dog Breeds\n",
    "dlabels = [\"Pit Bull\", \"Labrador Retriever Mix\", \"Pit Bull Mix\", \"Other\"]\n",
    "dsizes = [9.7, 8.1, 7.3, 74.9]\n",
    "dcolors = [\"palevioletred\", \"yellowgreen\", \"cyan\", \"bisque\"]\n",
    "\n",
    "plt.pie(dsizes, labels=dlabels, colors=dcolors, autopct=\"%1.1f%%\", shadow=True, startangle=90)\n",
    "plt.title(\"Most Popular Adopted Dog Breeds\\n\" + \"Austin Animal Center, 2022\", bbox={'facecolor':'1', 'pad':5})\n",
    "\n",
    "plt.show()"
   ]
  },
  {
   "cell_type": "code",
   "execution_count": 86,
   "id": "1ed746ab-3470-4602-8abe-dff850663982",
   "metadata": {},
   "outputs": [
    {
     "data": {
      "image/png": "[encoded data removed]",
      "text/plain": [
       "<Figure size 640x480 with 1 Axes>"
      ]
     },
     "metadata": {},
     "output_type": "display_data"
    }
   ],
   "source": [
    "# Plotting Percentage of Animals Handled\n",
    "alabels = [\"Dog\", \"Cat\", \"Other\"]\n",
    "asizes = [54, 40, 6]\n",
    "acolors = [\"cyan\", \"magenta\", \"yellow\"]\n",
    "\n",
    "plt.pie(asizes, labels=alabels, colors=acolors, autopct=\"%1.1f%%\", shadow=True, startangle=90)\n",
    "plt.title(\"Types of Animals Handled\\n\" + \"Austin Animal Center, 2022\", bbox={'facecolor':'1', 'pad':5})\n",
    "\n",
    "plt.show()"
   ]
  },
  {
   "cell_type": "code",
   "execution_count": 87,
   "id": "dbf49234-f896-48d5-91a4-ddbb80e9dd10",
   "metadata": {},
   "outputs": [
    {
     "name": "stdout",
     "output_type": "stream",
     "text": [
      "                             +-+-+-+-+-+ +-+-+-+-+\n",
      "                             |T|H|A|N|K| |Y|O|U|!|\n",
      "                             +-+-+-+-+-+ +-+-+-+-+\n",
      "\n"
     ]
    }
   ],
   "source": [
    "# End of presentation\n",
    "result = pyfiglet.figlet_format(\"THANK YOU!\", font = \"digital\", justify= \"center\")\n",
    "print(result)"
   ]
  }
 ],
 "metadata": {
  "kernelspec": {
   "display_name": "Python 3 (ipykernel)",
   "language": "python",
   "name": "python3"
  },
  "language_info": {
   "codemirror_mode": {
    "name": "ipython",
    "version": 3
   },
   "file_extension": ".py",
   "mimetype": "text/x-python",
   "name": "python",
   "nbconvert_exporter": "python",
   "pygments_lexer": "ipython3",
   "version": "3.10.9"
  }
 },
 "nbformat": 4,
 "nbformat_minor": 5
}
